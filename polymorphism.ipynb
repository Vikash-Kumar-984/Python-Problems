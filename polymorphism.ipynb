{
 "cells": [
  {
   "cell_type": "code",
   "execution_count": 6,
   "id": "b09b1da5",
   "metadata": {},
   "outputs": [
    {
     "name": "stdout",
     "output_type": "stream",
     "text": [
      "5\n",
      "datascience\n",
      "[1, 2, 3, 4, 5, 6]\n"
     ]
    }
   ],
   "source": [
    "#Polymorphism: poly means many and morphism means forms/states\n",
    "#refers to an object taking several forms depending on the methods/data\n",
    "\n",
    "def func(a,b):\n",
    "    return a+b\n",
    "\n",
    "print(func(2,3)) #here + will add two numbers \n",
    "print(func(\"data\",\"science\")) #here + will concatenate strings\n",
    "\n",
    "print(func([1,2,3],[4,5,6])) #List concatenation"
   ]
  },
  {
   "cell_type": "code",
   "execution_count": 7,
   "id": "5445b72b",
   "metadata": {},
   "outputs": [],
   "source": [
    "class teacher_lecture:\n",
    "    def lec_info(self):\n",
    "        print(\"This is lec info with teacher perspective\")\n",
    "\n",
    "class student_lecture:\n",
    "    def lec_info(self):\n",
    "        print(\"This is lec info with student perspective\")"
   ]
  },
  {
   "cell_type": "code",
   "execution_count": 8,
   "id": "c972154f",
   "metadata": {},
   "outputs": [
    {
     "name": "stdout",
     "output_type": "stream",
     "text": [
      "This is lec info with teacher perspective\n",
      "This is lec info with student perspective\n"
     ]
    }
   ],
   "source": [
    "obj1= teacher_lecture()\n",
    "obj2=student_lecture()\n",
    "class_obj= [obj1,obj2]\n",
    "\n",
    "def parcer(class_obj):\n",
    "    for i in class_obj:\n",
    "        i.lec_info() #lec_info is taking two forms wrt teacher and student\n",
    "\n",
    "parcer(class_obj)"
   ]
  },
  {
   "cell_type": "code",
   "execution_count": 12,
   "id": "d42d48bd",
   "metadata": {},
   "outputs": [],
   "source": [
    "#Method: Function inside the class is called Method\n",
    "\n",
    "#Polymorphism in OOPS takes places in two ways:\n",
    "# 1) Method overloading: python doesnt support true method overloading\n",
    "# 2) Method overriding\n",
    "\n",
    "# Method Overloading\n",
    "\n",
    "class Student:\n",
    "    def studen(self):\n",
    "        print(\"Welcome to AI Era\")\n",
    "    def student(self,name=\"\"):\n",
    "        print(\"Welcome to AI Era, \",name)\n",
    "    def student(self,name=\"\",course=\"\"):\n",
    "        print(\"Welcome to AI Era,\",name,\"in \",course)"
   ]
  },
  {
   "cell_type": "code",
   "execution_count": 15,
   "id": "7552ded3",
   "metadata": {},
   "outputs": [
    {
     "name": "stdout",
     "output_type": "stream",
     "text": [
      "Welcome to AI Era,  in  \n",
      "Welcome to AI Era, Vikash in  \n",
      "Welcome to AI Era, Vikash in  Data Science\n"
     ]
    }
   ],
   "source": [
    "stud=Student()\n",
    "stud.student()\n",
    "stud.student(\"Vikash\")\n",
    "stud.student(\"Vikash\",\"Data Science\")\n",
    "\n",
    "#Method Overloading: student method is taking different form , the last methods ovverloads the previous ones in the same class\n",
    "#Method Overloading happens in the same class "
   ]
  },
  {
   "cell_type": "code",
   "execution_count": 16,
   "id": "951c59dc",
   "metadata": {},
   "outputs": [],
   "source": [
    " #Method Overriding: method in parent class and child class with same signature, the child class method will be executed\n",
    "\n",
    "class Animal:\n",
    "    def sound(self):\n",
    "        print(\"Animal Sound\")\n",
    "\n",
    "class Cat(Animal):\n",
    "    def sound(self):\n",
    "        print(\"Cat meows\")"
   ]
  },
  {
   "cell_type": "code",
   "execution_count": 19,
   "id": "3d0dbbc8",
   "metadata": {},
   "outputs": [
    {
     "name": "stdout",
     "output_type": "stream",
     "text": [
      "Animal Sound\n",
      "Cat meows\n"
     ]
    }
   ],
   "source": [
    "anim= Animal()\n",
    "anim.sound()\n",
    "\n",
    "cat = Cat()\n",
    "cat.sound() #child class is more powerful so it overrides parent class method"
   ]
  },
  {
   "cell_type": "code",
   "execution_count": null,
   "id": "450e0457",
   "metadata": {},
   "outputs": [
    {
     "data": {
      "text/plain": [
       "'Vikash'"
      ]
     },
     "execution_count": 20,
     "metadata": {},
     "output_type": "execute_result"
    }
   ],
   "source": [
    "#Encapsulation: means hiding something\n",
    "#Blundling of data and methods of a class\n",
    "\n",
    "#Acess Modifier: Public, Protected, Private\n",
    "\n",
    "#Public: accessible from anywhere from outside/inside of class\n",
    "class Student:\n",
    "    def __init__(self,name,degree):\n",
    "        self.name=name\n",
    "        self.degree=degree\n",
    "\n",
    "stud=Student(\"Vikash\",\"Masters\")\n",
    "stud.name"
   ]
  },
  {
   "cell_type": "code",
   "execution_count": 22,
   "id": "08830508",
   "metadata": {},
   "outputs": [
    {
     "data": {
      "text/plain": [
       "'Ph.D'"
      ]
     },
     "execution_count": 22,
     "metadata": {},
     "output_type": "execute_result"
    }
   ],
   "source": [
    "stud2=Student(\"Vivek\",\"B.Tech\")\n",
    "stud2.degree =\"Ph.D\"\n",
    "stud2.degree #Degree is changed due to public"
   ]
  },
  {
   "cell_type": "code",
   "execution_count": 26,
   "id": "452ba511",
   "metadata": {},
   "outputs": [
    {
     "name": "stdout",
     "output_type": "stream",
     "text": [
      "Name:  Wiry , Degree:  Masters\n"
     ]
    }
   ],
   "source": [
    "#Private: The data and method is only accessible within its class , use __ to make it private\n",
    "\n",
    "#accessing the public data member inside the other method of same class\n",
    "class Student:\n",
    "    def __init__(self, name, degree):\n",
    "        self.name = name\n",
    "        self.degree = degree\n",
    "        \n",
    "    def show(self):\n",
    "        #accessing the  public data member\n",
    "        print(\"Name: \", self.name, ', Degree: ', self.degree)\n",
    "\n",
    "wiry = Student(\"Wiry\", \"Masters\")\n",
    "wiry.show()"
   ]
  },
  {
   "cell_type": "code",
   "execution_count": 31,
   "id": "13cfe277",
   "metadata": {},
   "outputs": [
    {
     "name": "stdout",
     "output_type": "stream",
     "text": [
      "Name:  Wiry , Degree:  Masters\n"
     ]
    }
   ],
   "source": [
    "#private: the data and method is only accessible within its class, use __ to make private\n",
    "\n",
    "class Student:\n",
    "    def __init__(self, name, degree):\n",
    "        self.name = name\n",
    "        self.__degree = degree #private data\n",
    "        \n",
    "    def show(self):\n",
    "        #accessing the private data member\n",
    "        print(\"Name: \", self.name, ', Degree: ', self.__degree)\n",
    "\n",
    "wiry=Student(\"Wiry\",\"Masters\")\n",
    "wiry.show()\n",
    "# wiry.degree() #This will throw an error and degree is private\n",
    "\n"
   ]
  },
  {
   "cell_type": "code",
   "execution_count": 37,
   "id": "be2283f5",
   "metadata": {},
   "outputs": [
    {
     "name": "stdout",
     "output_type": "stream",
     "text": [
      "This is a private method\n"
     ]
    }
   ],
   "source": [
    "#To make a method private\n",
    "\n",
    "class Student:\n",
    "    def __init__(self, name, degree):\n",
    "        self.name = name\n",
    "        self.__degree = degree #private data\n",
    "        \n",
    "    def show(self):\n",
    "        #accessing the private data member\n",
    "        print(\"Name: \", self.name, ', Degree', self.__degree)\n",
    "        \n",
    "    def __private_method(self):\n",
    "        print(\"This is a private method\")\n",
    "\n",
    "obj1=Student(\"Vik\", \"DS\")\n",
    "obj1._Student__private_method() #acccessing private method using class name"
   ]
  },
  {
   "cell_type": "code",
   "execution_count": null,
   "id": "a61d23ee",
   "metadata": {},
   "outputs": [
    {
     "name": "stdout",
     "output_type": "stream",
     "text": [
      "This is a private method\n"
     ]
    }
   ],
   "source": [
    "#way to provide an option to see the private method>> a wrapper\n",
    "\n",
    "class Student:\n",
    "    def __init__(self, name, degree):\n",
    "        self.name = name\n",
    "        self.__degree = degree #private data\n",
    "        \n",
    "    def show(self):\n",
    "        #accessing the private data member\n",
    "        print(\"Name: \", self.name, 'Degree: ', self.__degree)\n",
    "        \n",
    "    def __private_method(self):\n",
    "        print(\"This is a private method\")\n",
    "        \n",
    "    def access_private_method(self):\n",
    "        self.__private_method()\n",
    "\n",
    "obj1=Student(\"Vik\",\"DS\")\n",
    "obj1.access_private_method() #private method is accessed"
   ]
  },
  {
   "cell_type": "code",
   "execution_count": 41,
   "id": "9e0f5f56",
   "metadata": {},
   "outputs": [],
   "source": [
    "class Car:\n",
    "    def __init__(self,year,make,speed,model):\n",
    "        self.__year =year\n",
    "        self.__make = make\n",
    "        self.__speed =speed\n",
    "        self.__model= model\n",
    "\n",
    "c1=Car(\"1995\", \"maruti\", \"95\", \"Breeza\")\n",
    "# c1.year #will throw an error as all varible is private"
   ]
  },
  {
   "cell_type": "code",
   "execution_count": null,
   "id": "51c34093",
   "metadata": {},
   "outputs": [
    {
     "name": "stdout",
     "output_type": "stream",
     "text": [
      "95\n"
     ]
    },
    {
     "data": {
      "text/plain": [
       "0"
      ]
     },
     "execution_count": 45,
     "metadata": {},
     "output_type": "execute_result"
    }
   ],
   "source": [
    "class Car:\n",
    "    def __init__(self,year,make,speed,model):\n",
    "        self.__year =year\n",
    "        self.__make = make\n",
    "        self.__speed =speed\n",
    "        self.__model= model\n",
    "    \n",
    "    def set_speed(self,speed):\n",
    "        self.__speed = 0 if speed < 0 else speed\n",
    "    \n",
    "    def get_speed(self):\n",
    "        return self.__speed\n",
    "    \n",
    "c1=Car(\"1995\",\"maruti\",\"95\", \"Brezza\")\n",
    "print(c1.get_speed()) #accessing the private variable\n",
    "c1.set_speed(-50)\n",
    "c1.get_speed() "
   ]
  },
  {
   "cell_type": "code",
   "execution_count": 49,
   "id": "12194526",
   "metadata": {},
   "outputs": [
    {
     "name": "stdout",
     "output_type": "stream",
     "text": [
      "1000\n",
      "700\n",
      "1400\n"
     ]
    }
   ],
   "source": [
    "class Bank: #either you deposit or withdraw\n",
    "    \n",
    "    def __init__(self, balance):\n",
    "        self.__balance = balance\n",
    "        \n",
    "    def deposit(self, amount): #amount is new deposition\n",
    "        self.__balance = self.__balance + amount\n",
    "    \n",
    "    def withdraw(self, amount):\n",
    "        if self.__balance >= amount:\n",
    "            self.__balance = self.__balance - amount\n",
    "            return True\n",
    "        else:\n",
    "            return False\n",
    "        \n",
    "    def get_balance(self):\n",
    "        return self.__balance\n",
    "    \n",
    "\n",
    "acc=Bank(1000)\n",
    "print(acc.get_balance())\n",
    "acc.withdraw(300)\n",
    "print(acc.get_balance())\n",
    "acc.deposit(700)\n",
    "print(acc.get_balance())"
   ]
  },
  {
   "cell_type": "code",
   "execution_count": 51,
   "id": "5d020b5a",
   "metadata": {},
   "outputs": [
    {
     "name": "stdout",
     "output_type": "stream",
     "text": [
      "Vikash\n",
      "Name:  Vikash ,College:  JU\n"
     ]
    }
   ],
   "source": [
    "#protected: within the class and its subclass, protected member can be access, (_)\n",
    "\n",
    "class College:\n",
    "    def __init__(self):\n",
    "        self._college_name = \"JU\"\n",
    "class Student(College):\n",
    "    def __init__(self, name):\n",
    "        self.name = name\n",
    "        College.__init__(self) #accesing variable of base class>>classname__init__(self)\n",
    "        \n",
    "    def show(self):\n",
    "        print(\"Name: \", self.name, \",College: \", self._college_name) #directly call the base class variable using \"_\"\n",
    "\n",
    "stud=Student(\"Vikash\")\n",
    "print(stud.name)\n",
    "stud.show()\n"
   ]
  },
  {
   "cell_type": "code",
   "execution_count": 52,
   "id": "16963824",
   "metadata": {},
   "outputs": [
    {
     "data": {
      "text/plain": [
       "'JU'"
      ]
     },
     "execution_count": 52,
     "metadata": {},
     "output_type": "execute_result"
    }
   ],
   "source": [
    "coll = College()\n",
    "coll._college_name #accessing the protected variable"
   ]
  },
  {
   "cell_type": "code",
   "execution_count": null,
   "id": "15406e55",
   "metadata": {},
   "outputs": [
    {
     "name": "stdout",
     "output_type": "stream",
     "text": [
      "Name:  Wiry , College JU\n"
     ]
    }
   ],
   "source": [
    "class College:\n",
    "    def __init__(self):\n",
    "        self._college_name = 'JU'\n",
    "\n",
    "class Student(College):\n",
    "    def __init__(self,name):\n",
    "        self.name = name\n",
    "        super().__init__() #include super and remove self, base class is super class\n",
    "\n",
    "    def show(self):\n",
    "        print(\"Name: \",self.name, \", College: \", self._college_name)\n",
    "\n",
    "stud = Student(\"Wiry\")\n",
    "stud.show()"
   ]
  },
  {
   "cell_type": "code",
   "execution_count": null,
   "id": "b8590f44",
   "metadata": {},
   "outputs": [],
   "source": []
  }
 ],
 "metadata": {
  "kernelspec": {
   "display_name": "Python 3",
   "language": "python",
   "name": "python3"
  },
  "language_info": {
   "codemirror_mode": {
    "name": "ipython",
    "version": 3
   },
   "file_extension": ".py",
   "mimetype": "text/x-python",
   "name": "python",
   "nbconvert_exporter": "python",
   "pygments_lexer": "ipython3",
   "version": "3.12.1"
  }
 },
 "nbformat": 4,
 "nbformat_minor": 5
}
