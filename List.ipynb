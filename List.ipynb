{
 "cells": [
  {
   "cell_type": "code",
   "execution_count": 2,
   "id": "1f7a9a5c",
   "metadata": {},
   "outputs": [
    {
     "name": "stdout",
     "output_type": "stream",
     "text": [
      "[1, 2, 3.5, True, (5+9j)]\n",
      "egg\n"
     ]
    }
   ],
   "source": [
    "#List are ordered collection of items\n",
    "#List is like shopping bag which can store anything\n",
    "\n",
    "grocery_list=[\"Milk\", \"Onion\",1,2,3.5,True,5+9j]\n",
    "print(grocery_list[2:]) #list slicing\n",
    "grocery_list.append(\"egg\") #Adding of new elements\n",
    "print(grocery_list[-1])"
   ]
  },
  {
   "cell_type": "code",
   "execution_count": 3,
   "id": "4b72e07c",
   "metadata": {},
   "outputs": [
    {
     "name": "stdout",
     "output_type": "stream",
     "text": [
      "['Milk', 'Maggi', 1, 2, 3.5, True, (5+9j), 'egg']\n",
      "['Milk', 'Banana', 'Maggi', 1, 2, 3.5, True, (5+9j), 'egg']\n"
     ]
    }
   ],
   "source": [
    "#List is mutable\n",
    "grocery_list[1]=\"Maggi\"\n",
    "print(grocery_list)\n",
    "grocery_list.insert(1,\"Banana\") #Add value at specific or before index\n",
    "print(grocery_list)"
   ]
  },
  {
   "cell_type": "code",
   "execution_count": 4,
   "id": "b4d43a78",
   "metadata": {},
   "outputs": [
    {
     "name": "stdout",
     "output_type": "stream",
     "text": [
      "['Apple', 'Banana', 'Orange', 'Brinjal', 'Potato']\n"
     ]
    }
   ],
   "source": [
    "my_list=[\"Apple\",\"Banana\",\"Orange\"]\n",
    "brothers_list=[\"Brinjal\", \"Potato\"]\n",
    "my_list.extend(brothers_list) #used to append elements from another list\n",
    "print(my_list)"
   ]
  },
  {
   "cell_type": "code",
   "execution_count": 5,
   "id": "84749ac5",
   "metadata": {},
   "outputs": [
    {
     "name": "stdout",
     "output_type": "stream",
     "text": [
      "['Apple', 'Banana', 'Orange', 'Brinjal', 'Potato']\n"
     ]
    }
   ],
   "source": [
    "#Concatenation\n",
    "my_list=[\"Apple\",\"Banana\",\"Orange\"]\n",
    "brothers_list=[\"Brinjal\", \"Potato\"]\n",
    "master_list=my_list+brothers_list\n",
    "print(master_list)"
   ]
  },
  {
   "cell_type": "code",
   "execution_count": 6,
   "id": "7a730154",
   "metadata": {},
   "outputs": [
    {
     "name": "stdout",
     "output_type": "stream",
     "text": [
      "[1, 2, 1, 2, 1, 2, 1, 2, 1, 2]\n",
      "['Riya K.', 'Riya K.', 'Riya K.', 'Riya K.', 'Riya K.', 'Riya K.', 'Riya K.', 'Riya K.', 'Riya K.', 'Riya K.']\n"
     ]
    }
   ],
   "source": [
    "#Repetition \n",
    "a=[1,2]\n",
    "b=a*5 #Helps to print multiple times\n",
    "print(b)\n",
    "c=[\"Riya K.\"]\n",
    "d=c*10\n",
    "print(d)"
   ]
  },
  {
   "cell_type": "code",
   "execution_count": 7,
   "id": "05ffc5fc",
   "metadata": {},
   "outputs": [
    {
     "name": "stdout",
     "output_type": "stream",
     "text": [
      "Vivek KUmar is very smart\n",
      "Vivek KUmar is very smart\n",
      "Vivek KUmar is very smart\n",
      "Vivek KUmar is very smart\n",
      "Vivek KUmar is very smart\n",
      "Vivek KUmar is very smart\n"
     ]
    }
   ],
   "source": [
    "for i in range(6):\n",
    "    # print(\"I am  a Hacker: \")\n",
    "    print(\"Vivek KUmar is very smart\")"
   ]
  },
  {
   "cell_type": "code",
   "execution_count": 8,
   "id": "75005329",
   "metadata": {},
   "outputs": [
    {
     "data": {
      "text/plain": [
       "[0,\n",
       " 1,\n",
       " 2,\n",
       " 3,\n",
       " 4,\n",
       " 5,\n",
       " 6,\n",
       " 7,\n",
       " 8,\n",
       " 9,\n",
       " 10,\n",
       " 0,\n",
       " 1,\n",
       " 2,\n",
       " 3,\n",
       " 4,\n",
       " 5,\n",
       " 6,\n",
       " 7,\n",
       " 8,\n",
       " 9,\n",
       " 10,\n",
       " 0,\n",
       " 1,\n",
       " 2,\n",
       " 3,\n",
       " 4,\n",
       " 5,\n",
       " 6,\n",
       " 7,\n",
       " 8,\n",
       " 9,\n",
       " 10]"
      ]
     },
     "execution_count": 8,
     "metadata": {},
     "output_type": "execute_result"
    }
   ],
   "source": [
    "list(range(11)) *3 #list range from 0 to 10 is repeated 3 times"
   ]
  },
  {
   "cell_type": "code",
   "execution_count": null,
   "id": "c9a4a85f",
   "metadata": {},
   "outputs": [
    {
     "name": "stdout",
     "output_type": "stream",
     "text": [
      "['potato', 'Banana', 'Maggi', 1, 2, 3.5, True, (5+9j), 'egg']\n",
      "['a', 'b']\n",
      "['potato', 'Banana', 'Maggi', 1, 2, 3.5, True, (5+9j), 'egg']\n",
      "['potato', 'Mazza', 'Maggi', 1, 2, 3.5, True, (5+9j), 'egg']\n"
     ]
    }
   ],
   "source": [
    "#Interview Questions\n",
    "# Deep copy and Shallow Copy\n",
    "\n",
    "#Shallow copy: value will change with change in other list\n",
    "#A is cheating continously with B copy(any change with change in both)\n",
    "\n",
    "a=grocery_list #a will not contain all value of grocery_list because both pointing to same memoru=y location\n",
    "a[0]=\"potato\"\n",
    "print(a)\n",
    "b=[\"a\",\"b\"]\n",
    "print(b)\n",
    "b=grocery_list #Now b will contain value of grocery_list but not a and b\n",
    "print(b)\n",
    "\n",
    "# Deep Copy\n",
    "c=grocery_list.copy() #it will point to 2 different memory location and change anyone will not impact other\n",
    "c[1]=\"Mazza\"\n",
    "print(c)\n"
   ]
  },
  {
   "cell_type": "code",
   "execution_count": null,
   "id": "1988513a",
   "metadata": {},
   "outputs": [
    {
     "name": "stdout",
     "output_type": "stream",
     "text": [
      "['Biology', 'Maths', 'Science', 'Science']\n",
      "0\n",
      "4\n",
      "2\n",
      "['Biology', 'Science', 'Science']\n"
     ]
    }
   ],
   "source": [
    "#sorting list\n",
    "book_list=[\"Maths\",\"Biology\",\"Science\",\"Science\"]\n",
    "print(sorted(book_list)) #will sort the books alphabetically\n",
    "print(book_list.index(\"Maths\")) #will give index (returns the first occurence)\n",
    "print(len(book_list)) #no of elements in list \n",
    "print(book_list.count(\"Science\")) #count the number of specific elements\n",
    "book_list.remove(\"Maths\")\n",
    "print(book_list)\n",
    "del book_list #Delete book_list variable"
   ]
  },
  {
   "cell_type": "code",
   "execution_count": 24,
   "id": "a7b18533",
   "metadata": {},
   "outputs": [
    {
     "name": "stdout",
     "output_type": "stream",
     "text": [
      "[]\n"
     ]
    }
   ],
   "source": [
    "\n",
    "book_list=[\"Maths\",\"Biology\",\"Science\",\"Science\"]\n",
    "book_list.clear() #delete all the elements of the variable\n",
    "print(book_list)"
   ]
  },
  {
   "cell_type": "code",
   "execution_count": 26,
   "id": "8711dd1d",
   "metadata": {},
   "outputs": [
    {
     "data": {
      "text/plain": [
       "'Biology'"
      ]
     },
     "execution_count": 26,
     "metadata": {},
     "output_type": "execute_result"
    }
   ],
   "source": [
    "\n",
    "book_list=[\"Maths\",\"Biology\",\"Science\",\"Science\"]\n",
    "book_list.pop() #removes the last element of the list\n",
    "book_list.pop(1) #removes the index 1 element"
   ]
  },
  {
   "cell_type": "code",
   "execution_count": 34,
   "id": "527ebdf5",
   "metadata": {},
   "outputs": [
    {
     "name": "stdout",
     "output_type": "stream",
     "text": [
      "[20, 40, 60, 80, 100]\n",
      "[20, 40, 60, 80, 100]\n",
      "['Ajay', 'Bijay', 'Sanjay']\n",
      "[1, 4, 9, 16, 25]\n"
     ]
    }
   ],
   "source": [
    "  #List Comprehension: to concise code\n",
    " \n",
    "prices=[10,20,30,40,50]\n",
    "doubled_prices=[]\n",
    "for i in prices:\n",
    "    doubled_prices.append(i*2)\n",
    "print(doubled_prices)\n",
    "\n",
    "another_way=[price * 2 for price in prices] #Can also give same result\n",
    "print(another_way)\n",
    "\n",
    "names=[\"ajay\",\"bijay\",\"sanjay\"]\n",
    "capital_name=[name.capitalize() for name in names]\n",
    "print(capital_name)\n",
    "\n",
    "numbers = [1,2,3,4,5]\n",
    "square=[num ** 2 for num in numbers]\n",
    "print(square)"
   ]
  },
  {
   "cell_type": "code",
   "execution_count": 38,
   "id": "86cf6ec4",
   "metadata": {},
   "outputs": [
    {
     "name": "stdout",
     "output_type": "stream",
     "text": [
      "ppt\n",
      "['pdf', 'ppt', 'jpg', 'py']\n",
      "['vk@yahoo.com', 'jk@yahoo.com']\n"
     ]
    }
   ],
   "source": [
    "str1=\"docx.ppt\"\n",
    "v=str1.split(\".\")[-1] #find the extension\n",
    "print(v)\n",
    "\n",
    "file_name=[\"doc1.pdf\", \"doc2.ppt\", \"doc3.jpg\", \"doc4.py\"]\n",
    "extension=[file.split(\".\")[-1] for file in file_name]\n",
    "print(extension)\n",
    "\n",
    "email_address=[\"aj@gmail.com\", \"vk@yahoo.com\",\"jk@yahoo.com\"]\n",
    "y=[email for email in email_address if email.endswith(\"@yahoo.com\")]\n",
    "print(y) #print email with yahoo.com"
   ]
  },
  {
   "cell_type": "code",
   "execution_count": 40,
   "id": "4101226b",
   "metadata": {},
   "outputs": [
    {
     "name": "stdout",
     "output_type": "stream",
     "text": [
      "[[1, 4], [1, 5], [1, 6], [2, 4], [2, 5], [2, 6], [3, 4], [3, 5], [3, 6]]\n",
      "[[1, 4], [1, 5], [1, 6], [2, 4], [2, 5], [2, 6], [3, 4], [3, 5], [3, 6]]\n"
     ]
    }
   ],
   "source": [
    "#Nested List Comprehension\n",
    "\n",
    "pairs=[]\n",
    "for x in [1,2,3]:\n",
    "    for y in [4,5,6]:\n",
    "        pairs.append([x,y])\n",
    "print(pairs)\n",
    "\n",
    "other_pair= [[x,y] for x in [1,2,3] for y in [4,5,6]]\n",
    "print(other_pair)"
   ]
  },
  {
   "cell_type": "code",
   "execution_count": null,
   "id": "16fe95ab",
   "metadata": {},
   "outputs": [
    {
     "name": "stdout",
     "output_type": "stream",
     "text": [
      "['Plate 1', 'Plate 2', 'Plate 3', 'Plate 4']\n",
      "['Plate 1', 'Plate 2', 'Plate 3']\n"
     ]
    }
   ],
   "source": [
    "#List as Stack and Queue\n",
    "#Stack: LIFO(Last In First Out) push and pop\n",
    "\n",
    "stack_of_plates=[]\n",
    "stack_of_plates.append(\"Plate 1\")\n",
    "stack_of_plates.append(\"Plate 2\")\n",
    "stack_of_plates.append(\"Plate 3\")\n",
    "stack_of_plates.append(\"Plate 4\")\n",
    "\n",
    "print(stack_of_plates)\n",
    "stack_of_plates.pop() #Last element will be removed\n",
    "print(stack_of_plates)"
   ]
  },
  {
   "cell_type": "code",
   "execution_count": 44,
   "id": "7ee12357",
   "metadata": {},
   "outputs": [
    {
     "name": "stdout",
     "output_type": "stream",
     "text": [
      "deque(['Cust1', 'Cust2', 'Cust3', 'Cust4', 'Cust5'])\n",
      "Serving Cust1\n",
      "Serving Cust2\n",
      "Serving Cust3\n",
      "Serving Cust4\n",
      "Serving Cust5\n"
     ]
    }
   ],
   "source": [
    "#Queue: FIFO(First In First Out) Enqueue and Dequeue\n",
    "\n",
    "#Library: collection of multiple python scripts(codes/modules) for reusing the code\n",
    "\n",
    "#Dequeue\n",
    "from collections import deque\n",
    "checkout = deque() #create object of deque\n",
    "checkout.append(\"Cust1\")\n",
    "checkout.append(\"Cust2\")\n",
    "checkout.append(\"Cust3\")\n",
    "checkout.append(\"Cust4\")\n",
    "checkout.append(\"Cust5\")\n",
    "print(checkout)\n",
    "\n",
    "while checkout:\n",
    "    customer = checkout.popleft()\n",
    "    print(\"Serving\", customer)"
   ]
  },
  {
   "cell_type": "code",
   "execution_count": null,
   "id": "f3c60d8a",
   "metadata": {},
   "outputs": [
    {
     "name": "stdout",
     "output_type": "stream",
     "text": [
      "Printing Print the 1 pdf\n",
      "Printing Print the 2 pdf\n",
      "Printing Print the 3 pdf\n",
      "Printing Print the 4 pdf\n"
     ]
    }
   ],
   "source": [
    "from queue import Queue\n",
    "print_queue= Queue()\n",
    "print_queue.put(\"Print the 1 pdf\") #put is similar to push\n",
    "print_queue.put(\"Print the 2 pdf\")\n",
    "print_queue.put(\"Print the 3 pdf\")\n",
    "print_queue.put(\"Print the 4 pdf\")\n",
    "\n",
    "while not print_queue.empty():\n",
    "    print_job = print_queue.get() #get is similar to pop\n",
    "    print(\"Printing\", print_job)"
   ]
  },
  {
   "cell_type": "code",
   "execution_count": null,
   "id": "9bb0eeb2",
   "metadata": {},
   "outputs": [],
   "source": []
  }
 ],
 "metadata": {
  "kernelspec": {
   "display_name": "Python 3",
   "language": "python",
   "name": "python3"
  },
  "language_info": {
   "codemirror_mode": {
    "name": "ipython",
    "version": 3
   },
   "file_extension": ".py",
   "mimetype": "text/x-python",
   "name": "python",
   "nbconvert_exporter": "python",
   "pygments_lexer": "ipython3",
   "version": "3.11.3"
  }
 },
 "nbformat": 4,
 "nbformat_minor": 5
}
