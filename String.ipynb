{
 "cells": [
  {
   "cell_type": "code",
   "execution_count": null,
   "id": "89323d9f",
   "metadata": {},
   "outputs": [],
   "source": [
    "#string is a sequence of character which represents and manipulate textual data\n",
    "#characters are represented using numerical value and each character is assigned unique value/\n",
    "#ASCII (7bits) and UNICODE (16 bits)\n",
    "#ASCII: 2 to the power 8 (128) characters has been encoded whereas the UTF covers almost all the characters of all the language in the world as it is 2 to the power 16\n",
    "#UTF-8, UTF-16 is popular encoding schemes\n",
    "#ASCII: American Standard Code for Information Interchange\n",
    "#UTF: Unicode Transformation Format"
   ]
  },
  {
   "cell_type": "code",
   "execution_count": null,
   "id": "9cf8c104",
   "metadata": {},
   "outputs": [
    {
     "name": "stdout",
     "output_type": "stream",
     "text": [
      "65\n",
      "A\n"
     ]
    }
   ],
   "source": [
    "#ASCII Representation\n",
    "char = \"A\"\n",
    "print(ord(char)) #ordinal, means what is numerical order of character\n",
    "print(chr(65)) #character give the character corresponding to that number "
   ]
  },
  {
   "cell_type": "code",
   "execution_count": null,
   "id": "e1a90471",
   "metadata": {},
   "outputs": [
    {
     "name": "stdout",
     "output_type": "stream",
     "text": [
      "Ω\n",
      "Σ\n",
      "ॴ\n",
      "ॳ\n"
     ]
    }
   ],
   "source": [
    "#UNICODE Representation\n",
    "#Omega\n",
    "\n",
    "print('\\u03A9') #Omega\n",
    "print('\\u03A3') #Summationn\n",
    "print('\\u0974') #A in hindi\n",
    "print('\\u0973') #Aau in Hindi"
   ]
  },
  {
   "cell_type": "code",
   "execution_count": 9,
   "id": "a4388def",
   "metadata": {},
   "outputs": [
    {
     "name": "stdout",
     "output_type": "stream",
     "text": [
      "I'm a student\n",
      "I\"m a student\n",
      "I\"m a student\n"
     ]
    }
   ],
   "source": [
    "print(\"I'm a student\")\n",
    "print(\"\"\"I\"m a student\"\"\")\n",
    "\n",
    "print('''I\"m a student''')"
   ]
  },
  {
   "cell_type": "code",
   "execution_count": 11,
   "id": "3cade36b",
   "metadata": {},
   "outputs": [
    {
     "name": "stdout",
     "output_type": "stream",
     "text": [
      "Hello World\n"
     ]
    }
   ],
   "source": [
    "#Concatenation of String: Combination of two string\n",
    "A= \"Hello\" +\" World\"\n",
    "print(A)"
   ]
  },
  {
   "cell_type": "code",
   "execution_count": 18,
   "id": "9e908a40",
   "metadata": {},
   "outputs": [
    {
     "name": "stdout",
     "output_type": "stream",
     "text": [
      "I am\n",
      "learning Data Scientist\n",
      "I am learning Data Scient\n",
      "ist\n",
      "\n",
      "Ia eri\n",
      "tsitneicS ataD gninrael ma I\n"
     ]
    }
   ],
   "source": [
    "a=\"I am learning Data Scientist\"\n",
    "print(a[0:4]) #4 is exclusive or it is not included\n",
    "print(a[5:]) #From 5th index to last\n",
    "print(a[:-3]) #except the last 3 character\n",
    "print(a[-3:]) #only last 3 character\n",
    "print()\n",
    "print(a[0:12:2]) #a[start:end:step]\n",
    "print(a[::-1]) #iterate over the sequence in reverse order"
   ]
  },
  {
   "cell_type": "code",
   "execution_count": 24,
   "id": "e136013a",
   "metadata": {},
   "outputs": [
    {
     "name": "stdout",
     "output_type": "stream",
     "text": [
      "28\n",
      "I am a coder\n",
      "BE right back, TTYL, Laughing Out Loud\n"
     ]
    }
   ],
   "source": [
    "# Length of string\n",
    "print(len(a))\n",
    "\n",
    "#Modification of string\n",
    "b= \"I am a student\"\n",
    "print(b.replace(\"student\",\"coder\"))\n",
    "\n",
    "c=\"BRB, TTYL, LOL\"\n",
    "print(c.replace(\"BRB\", \"BE right back\").replace(\"LOL\",\"Laughing Out Loud\"))"
   ]
  },
  {
   "cell_type": "code",
   "execution_count": 30,
   "id": "0cd24fb3",
   "metadata": {},
   "outputs": [
    {
     "name": "stdout",
     "output_type": "stream",
     "text": [
      "hello world\n",
      "HELLO WORLD\n",
      "Hello World\n",
      "hELLO wORLD\n",
      "Hello world\n"
     ]
    }
   ],
   "source": [
    "text= \"Hello World\"\n",
    "print(text.lower())\n",
    "print(text.upper())\n",
    "print(text.title()) #First letter to word to converted to uppercase\n",
    "print(text.swapcase()) #convert upper into lower and vice-versa\n",
    "print(text.capitalize()) #first letter uppercase and rest as lower.\n"
   ]
  },
  {
   "cell_type": "code",
   "execution_count": 34,
   "id": "6a94e806",
   "metadata": {},
   "outputs": [
    {
     "name": "stdout",
     "output_type": "stream",
     "text": [
      "Search Found!\n"
     ]
    }
   ],
   "source": [
    "#String Searching \n",
    "sen=\"I am a coder for data scientist\"\n",
    "search_word =\"am\"\n",
    "if search_word in sen:\n",
    "    print(\"Search Found!\")\n",
    "else:\n",
    "    print(\"Not found\")"
   ]
  },
  {
   "cell_type": "code",
   "execution_count": 35,
   "id": "e47c5803",
   "metadata": {},
   "outputs": [
    {
     "name": "stdout",
     "output_type": "stream",
     "text": [
      "It's a pdf file\n"
     ]
    }
   ],
   "source": [
    "document= \"vikash.pdf\"\n",
    "if \".pdf\" in document:\n",
    "    print(\"It's a pdf file\")\n",
    "else:\n",
    "    print(\"It's not a pdf file\")"
   ]
  },
  {
   "cell_type": "code",
   "execution_count": 37,
   "id": "3ae0f107",
   "metadata": {},
   "outputs": [
    {
     "data": {
      "text/plain": [
       "True"
      ]
     },
     "execution_count": 37,
     "metadata": {},
     "output_type": "execute_result"
    }
   ],
   "source": [
    "#String Comparison\n",
    "str1=\"Vivek\"\n",
    "str2=\"vivek\"\n",
    "str1.lower() == str2.lower() #to prevent typo mistake as python is case sensitive language"
   ]
  },
  {
   "cell_type": "code",
   "execution_count": 40,
   "id": "a503d04d",
   "metadata": {},
   "outputs": [
    {
     "name": "stdout",
     "output_type": "stream",
     "text": [
      "Not Found! Please Contact the receptionist\n"
     ]
    }
   ],
   "source": [
    "product_code = \"P123\"\n",
    "scanned_code = input(\"scan the product code: \")\n",
    "if product_code == scanned_code:\n",
    "    print(\"The price of product is 100\")\n",
    "else:\n",
    "    print(\"Not Found! Please Contact the receptionist\")\n"
   ]
  },
  {
   "cell_type": "code",
   "execution_count": 43,
   "id": "bd6eea31",
   "metadata": {},
   "outputs": [
    {
     "data": {
      "text/plain": [
       "['Ajay', 'Brijesh', 'Sanjay', 'rajesh']"
      ]
     },
     "execution_count": 43,
     "metadata": {},
     "output_type": "execute_result"
    }
   ],
   "source": [
    "#String Ordering\n",
    "name=[\"Ajay\", \"Sanjay\", \"rajesh\",\"Brijesh\"]\n",
    "sorted(name)"
   ]
  },
  {
   "cell_type": "code",
   "execution_count": 47,
   "id": "79104012",
   "metadata": {},
   "outputs": [
    {
     "name": "stdout",
     "output_type": "stream",
     "text": [
      "        Vikash          \n",
      "Vikash\n"
     ]
    }
   ],
   "source": [
    "#Common String Operations\n",
    "sent= \"        Vikash          \"\n",
    "print(sent)\n",
    "print(sent.strip()) #Remove the white space"
   ]
  },
  {
   "cell_type": "code",
   "execution_count": 52,
   "id": "81a48a06",
   "metadata": {},
   "outputs": [
    {
     "name": "stdout",
     "output_type": "stream",
     "text": [
      " Data Science\n"
     ]
    }
   ],
   "source": [
    "# String Splitting\n",
    "data = \"Vikash, Data Science, Coder\"\n",
    "info = data.split(',')\n",
    "name= info[0]\n",
    "sub= info[1]\n",
    "prof = info[2]\n",
    "print(sub)\n"
   ]
  },
  {
   "cell_type": "code",
   "execution_count": 3,
   "id": "35d6f4d1",
   "metadata": {},
   "outputs": [
    {
     "data": {
      "text/plain": [
       "'123, Hanumantha Compound,\\n J P nagar, \\n Bangalore'"
      ]
     },
     "execution_count": 3,
     "metadata": {},
     "output_type": "execute_result"
    }
   ],
   "source": [
    "#Escape Sequences: Special combinations of characters used within a string\n",
    "\n",
    "address=\"\"\"123, Hanumantha Compound,\n",
    " J P nagar, \n",
    " Bangalore\"\"\" #\\n will come in simple address calling\n",
    "address"
   ]
  },
  {
   "cell_type": "code",
   "execution_count": 5,
   "id": "adce6473",
   "metadata": {},
   "outputs": [
    {
     "name": "stdout",
     "output_type": "stream",
     "text": [
      "123, Hanumantha Compound,\n",
      " J P nagar, \n",
      " Bangalore\n"
     ]
    }
   ],
   "source": [
    "print(address) #\\n is not printed in print statement"
   ]
  },
  {
   "cell_type": "code",
   "execution_count": 7,
   "id": "8c9c84fb",
   "metadata": {},
   "outputs": [
    {
     "data": {
      "text/plain": [
       "'721, Hanumantha compound, \\n J P Nagar, \\nBangalore'"
      ]
     },
     "execution_count": 7,
     "metadata": {},
     "output_type": "execute_result"
    }
   ],
   "source": [
    "add1= \"\"\"721, Hanumantha compound, \\n J P Nagar, \\nBangalore\"\"\"\n",
    "add1"
   ]
  },
  {
   "cell_type": "code",
   "execution_count": 9,
   "id": "5b028ca7",
   "metadata": {},
   "outputs": [
    {
     "name": "stdout",
     "output_type": "stream",
     "text": [
      "721, Hanumantha compound, \n",
      " J P Nagar, \n",
      "Bangalore\n"
     ]
    }
   ],
   "source": [
    "print(add1) #\\n will print the following statement in new line"
   ]
  },
  {
   "cell_type": "code",
   "execution_count": 10,
   "id": "ed233aeb",
   "metadata": {},
   "outputs": [
    {
     "name": "stdout",
     "output_type": "stream",
     "text": [
      "Name\tAge\tGrade\n",
      "Vikash\t21\tA\n",
      "Vivek\t26\tA+\n",
      "\n"
     ]
    }
   ],
   "source": [
    "#\\t Escape Character for Tab\n",
    "table= \"Name\\tAge\\tGrade\\nVikash\\t21\\tA\\nVivek\\t26\\tA+\\n\"\n",
    "print(table)"
   ]
  },
  {
   "cell_type": "code",
   "execution_count": 13,
   "id": "5aafbbc8",
   "metadata": {},
   "outputs": [
    {
     "name": "stdout",
     "output_type": "stream",
     "text": [
      "C:\\Users\\Downloads\\Vikash.pdf\n",
      "I can't believe its Sunday\n"
     ]
    }
   ],
   "source": [
    "#\\' single quote escape\n",
    "\n",
    "file_path= \"C:\\\\Users\\\\Downloads\\\\Vikash.pdf\"\n",
    "print(file_path) #\\\\ because single \\ treat next character as escape statement\n",
    "\n",
    "str4= \"I can\\'t believe its Sunday\" #single \\ helps to print can't\n",
    "print(str4)"
   ]
  },
  {
   "cell_type": "code",
   "execution_count": null,
   "id": "34d3cfc4",
   "metadata": {},
   "outputs": [
    {
     "name": "stdout",
     "output_type": "stream",
     "text": [
      "Vikash, How can I help you?\n"
     ]
    }
   ],
   "source": [
    "#Carriage return \\r: moves the cursor to the beginning of line\n",
    "\n",
    "print(\"Hello, I am \\rVikash, How can I help you?\") #print after \\r"
   ]
  },
  {
   "cell_type": "code",
   "execution_count": null,
   "id": "2424ca93",
   "metadata": {},
   "outputs": [
    {
     "name": "stdout",
     "output_type": "stream",
     "text": [
      "hello Vikash, how are you?\n"
     ]
    }
   ],
   "source": [
    "# String Formatting: Creating string with placeholder for variables\n",
    "\n",
    "name=input(\"Please enter your name: \")\n",
    "grettings = f\"hello {name}, how are you?\" #create placeholder for any variable\n",
    "print(grettings)"
   ]
  },
  {
   "cell_type": "code",
   "execution_count": 17,
   "id": "cf83555b",
   "metadata": {},
   "outputs": [
    {
     "name": "stdout",
     "output_type": "stream",
     "text": [
      "Hello Wiry, Wish you a wonderful day ahead\n"
     ]
    }
   ],
   "source": [
    "# Old String Formatting\n",
    "name=\"Wiry\"\n",
    "gret=\"Hello %s, Wish you a wonderful day ahead\"%name\n",
    "print(gret)"
   ]
  },
  {
   "cell_type": "code",
   "execution_count": 18,
   "id": "57243d8c",
   "metadata": {},
   "outputs": [
    {
     "name": "stdout",
     "output_type": "stream",
     "text": [
      "Hello, Vikash Welcome to Data Science\n"
     ]
    }
   ],
   "source": [
    "#.format\n",
    "template= \"Hello, {} Welcome to {}\"\n",
    "message= template.format(\"Vikash\",\"Data Science\")\n",
    "print(message)"
   ]
  },
  {
   "cell_type": "code",
   "execution_count": 19,
   "id": "db1eebde",
   "metadata": {},
   "outputs": [
    {
     "data": {
      "text/plain": [
       "\"My course is data + frontend and it's duration is 6 months\""
      ]
     },
     "execution_count": 19,
     "metadata": {},
     "output_type": "execute_result"
    }
   ],
   "source": [
    "#f string (formatted string literals)\n",
    "course= \"data + frontend\"\n",
    "duration = 6\n",
    "f\"My course is {course} and it's duration is {duration} months\""
   ]
  },
  {
   "cell_type": "code",
   "execution_count": 20,
   "id": "a6d52f51",
   "metadata": {},
   "outputs": [
    {
     "name": "stdout",
     "output_type": "stream",
     "text": [
      "Hello user, Vikash, Today is 2025-06-06 post\n"
     ]
    }
   ],
   "source": [
    "user_name = \"Vikash\"\n",
    "post_date = \"2025-06-06\"\n",
    "\n",
    "print(f\"Hello user, {user_name}, Today is {post_date} post\")"
   ]
  },
  {
   "cell_type": "code",
   "execution_count": 22,
   "id": "cbb2efcc",
   "metadata": {},
   "outputs": [
    {
     "data": {
      "text/plain": [
       "'36 Celsius is equals to 96.8F'"
      ]
     },
     "execution_count": 22,
     "metadata": {},
     "output_type": "execute_result"
    }
   ],
   "source": [
    "celsius = 36\n",
    "f\"{celsius} Celsius is equals to {(celsius *9/5)+32}F\""
   ]
  },
  {
   "cell_type": "code",
   "execution_count": 23,
   "id": "4141f957",
   "metadata": {},
   "outputs": [
    {
     "data": {
      "text/plain": [
       "True"
      ]
     },
     "execution_count": 23,
     "metadata": {},
     "output_type": "execute_result"
    }
   ],
   "source": [
    "str5=\"datascience\"\n",
    "str5.startswith(\"data\")"
   ]
  },
  {
   "cell_type": "code",
   "execution_count": 24,
   "id": "d74437a1",
   "metadata": {},
   "outputs": [
    {
     "data": {
      "text/plain": [
       "True"
      ]
     },
     "execution_count": 24,
     "metadata": {},
     "output_type": "execute_result"
    }
   ],
   "source": [
    "str5.endswith(\"ce\")"
   ]
  },
  {
   "cell_type": "code",
   "execution_count": null,
   "id": "e845cc08",
   "metadata": {},
   "outputs": [
    {
     "data": {
      "text/plain": [
       "True"
      ]
     },
     "execution_count": 26,
     "metadata": {},
     "output_type": "execute_result"
    }
   ],
   "source": [
    "al=\"vik456\"\n",
    "al.isalnum() #to check alphanumeric"
   ]
  },
  {
   "cell_type": "code",
   "execution_count": null,
   "id": "9aa9c352",
   "metadata": {},
   "outputs": [],
   "source": []
  }
 ],
 "metadata": {
  "kernelspec": {
   "display_name": "Python 3",
   "language": "python",
   "name": "python3"
  },
  "language_info": {
   "codemirror_mode": {
    "name": "ipython",
    "version": 3
   },
   "file_extension": ".py",
   "mimetype": "text/x-python",
   "name": "python",
   "nbconvert_exporter": "python",
   "pygments_lexer": "ipython3",
   "version": "3.11.3"
  }
 },
 "nbformat": 4,
 "nbformat_minor": 5
}
