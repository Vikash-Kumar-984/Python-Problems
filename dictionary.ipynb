{
 "cells": [
  {
   "cell_type": "code",
   "execution_count": 18,
   "id": "468eef05",
   "metadata": {},
   "outputs": [
    {
     "name": "stdout",
     "output_type": "stream",
     "text": [
      "vik@gmail.com\n",
      "{'Name': 'Wiry', 'email': 'vik@gmail.com', 'contact': 12334}\n",
      "{'address': '12, J P Nagar'}\n",
      "{'address': '12, J P Nagar', 'name': 'vishal'}\n",
      "{'name': 'vishal'}\n",
      "<built-in method copy of dict object at 0x0000029D5F8EC640>\n",
      "{'name': 'vishal', 'course': 'ds'}\n"
     ]
    }
   ],
   "source": [
    "#Dictionary is a data structure that stores daata as key value pair\n",
    "#Keys are unique and immutable\n",
    "\n",
    "#Note: Dictionaries are unordered but from Python 3.7 version, dictionaries retain the order of insertion\n",
    "#This means that if you iterate over a dictionary, the items will be returned in the order they were added.\n",
    "\n",
    "#Key:Value pair\n",
    "\n",
    "d={\"Name\":\"Vikash\", \"email\":\"vik@gmail.com\", \"contact\":12334}\n",
    "print(d[\"email\"]) #in dictionary, the name of index is changed as key of the dictionary\n",
    "\n",
    "d[\"Name\"] = \"Wiry\" #change the value of name\n",
    "print(d)\n",
    "\n",
    "d={\"address\":\"12, J P Nagar\"}\n",
    "print(d)\n",
    "\n",
    "d[\"name\"]=\"vishal\" #add value of d\n",
    "print(d)\n",
    "\n",
    "del d['address'] #delete the pair\n",
    "print(d)\n",
    "\n",
    "d1=d.copy\n",
    "print(d1)\n",
    "# print(\"d1 is : \",d1)\n",
    "d2={\"course\": \"ds\"}\n",
    "d.update(d2) #update d2\n",
    "print(d)\n",
    "\n",
    "# d[\"course\"] d.get(\"course\") #both will give same result\n",
    "#It can only access value using key,  and vice-versa not possible\n",
    "#Mutable Data type: Unhashable type"
   ]
  },
  {
   "cell_type": "code",
   "execution_count": 19,
   "id": "abb16d2f",
   "metadata": {},
   "outputs": [
    {
     "name": "stdout",
     "output_type": "stream",
     "text": [
      "{(1, 2, 3): 'Tuple'}\n"
     ]
    }
   ],
   "source": [
    "# e={[1,2,3]:\"List\"} #gives error as list is mutable \n",
    "e={(1,2,3):\"Tuple\"} #it works fine\n",
    "print(e)"
   ]
  },
  {
   "cell_type": "code",
   "execution_count": 20,
   "id": "13798e69",
   "metadata": {},
   "outputs": [
    {
     "name": "stdout",
     "output_type": "stream",
     "text": [
      "{'Name': 'Raj', 'email': 'vik@gmail.com', 'contact': 12334}\n"
     ]
    }
   ],
   "source": [
    "d={\"Name\":\"Vikash\", \"email\":\"vik@gmail.com\", \"contact\":12334, \"Name\":\"Raj\"}\n",
    "print(d) #always the last key, value will be used\n",
    "\n"
   ]
  },
  {
   "cell_type": "code",
   "execution_count": 22,
   "id": "8b5a3b6e",
   "metadata": {},
   "outputs": [
    {
     "name": "stdout",
     "output_type": "stream",
     "text": [
      "{1: ('a', 'b', 'c'), 2: ('a', 'b', 'c'), 3: ('a', 'b', 'c')}\n"
     ]
    }
   ],
   "source": [
    "#from keys\n",
    "d4=d.fromkeys((1,2,3),(\"a\",\"b\",\"c\"))\n",
    "print(d4)"
   ]
  },
  {
   "cell_type": "code",
   "execution_count": 23,
   "id": "776be49b",
   "metadata": {},
   "outputs": [
    {
     "name": "stdout",
     "output_type": "stream",
     "text": [
      "('Vivek', 82)\n",
      "('Vishal', 68)\n",
      "('Aditya', 75)\n"
     ]
    }
   ],
   "source": [
    "#Dictionary Comprehension\n",
    "\n",
    "#Zip Function\n",
    "students=['Vivek','Vishal','Aditya']\n",
    "marks=[82,68,75]\n",
    "\n",
    "for i in zip(students,marks):\n",
    "    print(i)"
   ]
  },
  {
   "cell_type": "code",
   "execution_count": 26,
   "id": "f45bd801",
   "metadata": {},
   "outputs": [
    {
     "name": "stdout",
     "output_type": "stream",
     "text": [
      "{'Vivek': 82, 'Vishal': 68, 'Aditya': 75}\n"
     ]
    },
    {
     "data": {
      "text/plain": [
       "{'Vivek': 75, 'Vishal': 75, 'Aditya': 75}"
      ]
     },
     "execution_count": 26,
     "metadata": {},
     "output_type": "execute_result"
    }
   ],
   "source": [
    "students=['Vivek','Vishal','Aditya']\n",
    "marks=[82,68,75] \n",
    "students_mark={}\n",
    "\n",
    "for student, mark in zip(students,marks):\n",
    "    students_mark[student] = mark\n",
    "print(students_mark) #It will come in dictionary\n",
    "\n",
    "\n",
    "#using dictionary comprehension method\n",
    "{student:mark for student,marks in zip(students, marks)}"
   ]
  },
  {
   "cell_type": "code",
   "execution_count": 27,
   "id": "170abda0",
   "metadata": {},
   "outputs": [
    {
     "data": {
      "text/plain": [
       "{1: 'a21', 2: 'a22', 3: 'a23'}"
      ]
     },
     "execution_count": 27,
     "metadata": {},
     "output_type": "execute_result"
    }
   ],
   "source": [
    "user_id=[1,2,3]\n",
    "user_name=['a21','a22','a23']\n",
    "\n",
    "{u_id:u_name for u_id,u_name in zip(user_id,user_name)}"
   ]
  },
  {
   "cell_type": "code",
   "execution_count": 1,
   "id": "884ce7cb",
   "metadata": {},
   "outputs": [
    {
     "ename": "NameError",
     "evalue": "name 'my_dict' is not defined",
     "output_type": "error",
     "traceback": [
      "\u001b[1;31m---------------------------------------------------------------------------\u001b[0m",
      "\u001b[1;31mNameError\u001b[0m                                 Traceback (most recent call last)",
      "Cell \u001b[1;32mIn[1], line 1\u001b[0m\n\u001b[1;32m----> 1\u001b[0m \u001b[43mmy_dict\u001b[49m\u001b[38;5;241m.\u001b[39mget(\u001b[38;5;124m\"\u001b[39m\u001b[38;5;124mname\u001b[39m\u001b[38;5;124m\"\u001b[39m)\n",
      "\u001b[1;31mNameError\u001b[0m: name 'my_dict' is not defined"
     ]
    }
   ],
   "source": [
    "my_dict.get(\"name\")"
   ]
  },
  {
   "cell_type": "code",
   "execution_count": 2,
   "id": "3a1241a8",
   "metadata": {},
   "outputs": [
    {
     "data": {
      "text/plain": [
       "['h', 'e', 'l', 'l', 'o']"
      ]
     },
     "execution_count": 2,
     "metadata": {},
     "output_type": "execute_result"
    }
   ],
   "source": [
    "list(\"hello\")"
   ]
  },
  {
   "cell_type": "code",
   "execution_count": 3,
   "id": "8992056a",
   "metadata": {},
   "outputs": [
    {
     "name": "stdout",
     "output_type": "stream",
     "text": [
      "20\n"
     ]
    }
   ],
   "source": [
    "tup=(10,20,30)\n",
    "print(tup[1])"
   ]
  },
  {
   "cell_type": "code",
   "execution_count": 4,
   "id": "a6cbf212",
   "metadata": {},
   "outputs": [
    {
     "name": "stdout",
     "output_type": "stream",
     "text": [
      "1\n",
      "2\n",
      "3\n",
      "4\n"
     ]
    }
   ],
   "source": [
    "for i in range(1,5):\n",
    "    print(i)"
   ]
  },
  {
   "cell_type": "code",
   "execution_count": 5,
   "id": "18c7d991",
   "metadata": {},
   "outputs": [
    {
     "name": "stdout",
     "output_type": "stream",
     "text": [
      "VIK\n"
     ]
    }
   ],
   "source": [
    "a=\"vik\"\n",
    "print(a.upper())"
   ]
  },
  {
   "cell_type": "code",
   "execution_count": 7,
   "id": "fc1ddf17",
   "metadata": {},
   "outputs": [
    {
     "name": "stdout",
     "output_type": "stream",
     "text": [
      "(1, 2, 4, 5)\n"
     ]
    }
   ],
   "source": [
    "tu=(1,2)\n",
    "tu2=(4,5)\n",
    "print(tu+tu2)"
   ]
  },
  {
   "cell_type": "code",
   "execution_count": 9,
   "id": "9a9af92e",
   "metadata": {},
   "outputs": [
    {
     "name": "stdout",
     "output_type": "stream",
     "text": [
      "{'a', 'm', 'r'}\n"
     ]
    }
   ],
   "source": [
    "a=set(input(\"enter: \"))\n",
    "print(a)"
   ]
  },
  {
   "cell_type": "code",
   "execution_count": 10,
   "id": "e9996f01",
   "metadata": {},
   "outputs": [
    {
     "name": "stdout",
     "output_type": "stream",
     "text": [
      "{0: 0, 1: 1, 2: 4}\n"
     ]
    }
   ],
   "source": [
    "sq={x:x ** 2 for x in range(3)}\n",
    "print(sq)"
   ]
  },
  {
   "cell_type": "code",
   "execution_count": 5,
   "id": "815e3581",
   "metadata": {},
   "outputs": [
    {
     "name": "stdout",
     "output_type": "stream",
     "text": [
      "Go to Hospital and bring something to eat\n"
     ]
    }
   ],
   "source": [
    "aj=input(\"Please share your health status(are your feeling low) in Yes or No : \")\n",
    "if aj==\"Yes\":\n",
    "    print(\"Don't Go to Hospital\")\n",
    "else:\n",
    "    print(\"Go to Hospital and bring something to eat\")"
   ]
  },
  {
   "cell_type": "code",
   "execution_count": 1,
   "id": "92859e6a",
   "metadata": {},
   "outputs": [
    {
     "name": "stdout",
     "output_type": "stream",
     "text": [
      "Error\n"
     ]
    }
   ],
   "source": [
    "a=5\n",
    "if a != 6:\n",
    "    print(\"Error\")"
   ]
  },
  {
   "cell_type": "code",
   "execution_count": 2,
   "id": "fda084f3",
   "metadata": {},
   "outputs": [
    {
     "name": "stdout",
     "output_type": "stream",
     "text": [
      "10 :even number\n",
      "12 :even number\n",
      "14 :even number\n",
      "odd number:  15\n",
      "odd number:  17\n",
      "odd number:  21\n",
      "22 :even number\n",
      "odd number:  25\n",
      "odd number:  27\n",
      "odd number:  29\n"
     ]
    }
   ],
   "source": [
    "lis= [10,12,14,15,17,21,22,25,27,29]\n",
    "for i in lis:\n",
    "    if i%2==0:\n",
    "        # print(\"even number: \",i)\n",
    "        print(f\"{i} :even number\" )\n",
    "    else:\n",
    "        print(\"odd number: \",i)\n"
   ]
  },
  {
   "cell_type": "code",
   "execution_count": 3,
   "id": "90182c34",
   "metadata": {},
   "outputs": [
    {
     "name": "stdout",
     "output_type": "stream",
     "text": [
      "102\n"
     ]
    }
   ],
   "source": [
    "ab=[10,12,14,9,102,24,55,74]\n",
    "max=0\n",
    "for i in range(len(ab)):\n",
    "    if ab[i]>max:\n",
    "        max=ab[i]\n",
    "print(max)\n",
    "    "
   ]
  },
  {
   "cell_type": "code",
   "execution_count": null,
   "id": "4d86cf8c",
   "metadata": {},
   "outputs": [],
   "source": []
  }
 ],
 "metadata": {
  "kernelspec": {
   "display_name": "Python 3",
   "language": "python",
   "name": "python3"
  },
  "language_info": {
   "codemirror_mode": {
    "name": "ipython",
    "version": 3
   },
   "file_extension": ".py",
   "mimetype": "text/x-python",
   "name": "python",
   "nbconvert_exporter": "python",
   "pygments_lexer": "ipython3",
   "version": "3.11.3"
  }
 },
 "nbformat": 4,
 "nbformat_minor": 5
}
