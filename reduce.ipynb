{
 "cells": [
  {
   "cell_type": "code",
   "execution_count": null,
   "id": "dd985852",
   "metadata": {},
   "outputs": [
    {
     "data": {
      "text/plain": [
       "34"
      ]
     },
     "execution_count": 1,
     "metadata": {},
     "output_type": "execute_result"
    }
   ],
   "source": [
    "#reduce: Folding / Reduction\n",
    "\n",
    "#Syntax: reduce(func, iterable)\n",
    "#reduce will always take two arguments function\n",
    "\n",
    "\n",
    "from functools import reduce\n",
    "l=[2,1,3,4,8,6,7,3]\n",
    "reduce(lambda x,y:x+y,l)\n"
   ]
  },
  {
   "cell_type": "code",
   "execution_count": 2,
   "id": "d344e5bb",
   "metadata": {},
   "outputs": [
    {
     "data": {
      "text/plain": [
       "'Data Science Path'"
      ]
     },
     "execution_count": 2,
     "metadata": {},
     "output_type": "execute_result"
    }
   ],
   "source": [
    "word= [\"Data\", \"Science\", \"Path\"]\n",
    "reduce(lambda x,y:x+\" \"+y,word)"
   ]
  },
  {
   "cell_type": "code",
   "execution_count": 4,
   "id": "77b0bbde",
   "metadata": {},
   "outputs": [
    {
     "data": {
      "text/plain": [
       "720"
      ]
     },
     "execution_count": 4,
     "metadata": {},
     "output_type": "execute_result"
    }
   ],
   "source": [
    "def factorial(n):\n",
    "    return reduce(lambda x,y: x*y, range(1, n+1))\n",
    "\n",
    "factorial(6)"
   ]
  },
  {
   "cell_type": "code",
   "execution_count": 3,
   "id": "d66de9dd",
   "metadata": {},
   "outputs": [
    {
     "data": {
      "text/plain": [
       "[2, 4, 6, 8]"
      ]
     },
     "execution_count": 3,
     "metadata": {},
     "output_type": "execute_result"
    }
   ],
   "source": [
    "#filter function: it is used to filter elements from an iterable based on some condition\n",
    "#Syntax: filter(function, iterable)\n",
    "\n",
    "l=[2,3,5,4,6,8,9]\n",
    "list(filter(lambda x:x%2 == 0,l))"
   ]
  },
  {
   "cell_type": "code",
   "execution_count": 5,
   "id": "1c76a8ab",
   "metadata": {},
   "outputs": [
    {
     "data": {
      "text/plain": [
       "[-2, -3, -1]"
      ]
     },
     "execution_count": 5,
     "metadata": {},
     "output_type": "execute_result"
    }
   ],
   "source": [
    "l1=[-2,-3,6,7,-1]\n",
    "list(filter(lambda x:x < 0, l1))"
   ]
  },
  {
   "cell_type": "code",
   "execution_count": 9,
   "id": "6a68216f",
   "metadata": {},
   "outputs": [
    {
     "data": {
      "text/plain": [
       "[2, 4, 6, 8]"
      ]
     },
     "execution_count": 9,
     "metadata": {},
     "output_type": "execute_result"
    }
   ],
   "source": [
    "def check_even(n):\n",
    "    if n%2 == 0:\n",
    "        return True\n",
    "    return False\n",
    "\n",
    "n=[1,2,3,4,5,6,7,8]\n",
    "list(filter(check_even,n))"
   ]
  },
  {
   "cell_type": "code",
   "execution_count": null,
   "id": "7f3796aa",
   "metadata": {},
   "outputs": [],
   "source": []
  }
 ],
 "metadata": {
  "kernelspec": {
   "display_name": "Python 3",
   "language": "python",
   "name": "python3"
  },
  "language_info": {
   "codemirror_mode": {
    "name": "ipython",
    "version": 3
   },
   "file_extension": ".py",
   "mimetype": "text/x-python",
   "name": "python",
   "nbconvert_exporter": "python",
   "pygments_lexer": "ipython3",
   "version": "3.12.1"
  }
 },
 "nbformat": 4,
 "nbformat_minor": 5
}
