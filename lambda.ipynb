{
 "cells": [
  {
   "cell_type": "code",
   "execution_count": 1,
   "id": "d6865453",
   "metadata": {},
   "outputs": [
    {
     "data": {
      "text/plain": [
       "81"
      ]
     },
     "execution_count": 1,
     "metadata": {},
     "output_type": "execute_result"
    }
   ],
   "source": [
    "#Lambda Function: Anonymous function\n",
    "\n",
    "#Lambda arguments: expression (No need to return statement or def keyword)\n",
    "\n",
    "def square(x):\n",
    "    return x ** 2\n",
    "\n",
    "square(9)\n"
   ]
  },
  {
   "cell_type": "code",
   "execution_count": 3,
   "id": "6021ce4e",
   "metadata": {},
   "outputs": [
    {
     "data": {
      "text/plain": [
       "64"
      ]
     },
     "execution_count": 3,
     "metadata": {},
     "output_type": "execute_result"
    }
   ],
   "source": [
    "square_lambda = lambda x:x ** 2 #single line code\n",
    "\n",
    "square_lambda(8)"
   ]
  },
  {
   "cell_type": "code",
   "execution_count": 5,
   "id": "0299390f",
   "metadata": {},
   "outputs": [
    {
     "data": {
      "text/plain": [
       "11"
      ]
     },
     "execution_count": 5,
     "metadata": {},
     "output_type": "execute_result"
    }
   ],
   "source": [
    "add = lambda a, b: a+b\n",
    "\n",
    "add(5,6)"
   ]
  },
  {
   "cell_type": "code",
   "execution_count": 6,
   "id": "36535a94",
   "metadata": {},
   "outputs": [
    {
     "data": {
      "text/plain": [
       "True"
      ]
     },
     "execution_count": 6,
     "metadata": {},
     "output_type": "execute_result"
    }
   ],
   "source": [
    "is_even = lambda a: a%2==0\n",
    "\n",
    "is_even(4)"
   ]
  },
  {
   "cell_type": "code",
   "execution_count": 3,
   "id": "d95589e4",
   "metadata": {},
   "outputs": [
    {
     "data": {
      "text/plain": [
       "['data science', 'python', 'vikash']"
      ]
     },
     "execution_count": 3,
     "metadata": {},
     "output_type": "execute_result"
    }
   ],
   "source": [
    "x= [\"python\",\"data science\", \"vikash\"]\n",
    "\n",
    "sorted(x) #by default sorting based on alphabetical order"
   ]
  },
  {
   "cell_type": "code",
   "execution_count": 9,
   "id": "78c1a182",
   "metadata": {},
   "outputs": [
    {
     "data": {
      "text/plain": [
       "6"
      ]
     },
     "execution_count": 9,
     "metadata": {},
     "output_type": "execute_result"
    }
   ],
   "source": [
    "#sort the list based on length of element of list\n",
    "\n",
    "leng = lambda x:len(x)\n",
    "leng(\"Vikash\")"
   ]
  },
  {
   "cell_type": "code",
   "execution_count": 4,
   "id": "1ad4adaa",
   "metadata": {},
   "outputs": [
    {
     "data": {
      "text/plain": [
       "['python', 'vikash', 'data science']"
      ]
     },
     "execution_count": 4,
     "metadata": {},
     "output_type": "execute_result"
    }
   ],
   "source": [
    "sorted(x, key = lambda x: len(x))"
   ]
  },
  {
   "cell_type": "code",
   "execution_count": 6,
   "id": "0cde1cd6",
   "metadata": {},
   "outputs": [
    {
     "data": {
      "text/plain": [
       "[0, 1, 1, 2, 3, 5, 8, 13, 21, 34]"
      ]
     },
     "execution_count": 6,
     "metadata": {},
     "output_type": "execute_result"
    }
   ],
   "source": [
    "fib = lambda n: n if n<=1 else fib(n-1) + fib(n-2)\n",
    "[fib(i) for i in range(10)] #Fibonacci Series"
   ]
  },
  {
   "cell_type": "code",
   "execution_count": 7,
   "id": "d697df2b",
   "metadata": {},
   "outputs": [
    {
     "data": {
      "text/plain": [
       "120"
      ]
     },
     "execution_count": 7,
     "metadata": {},
     "output_type": "execute_result"
    }
   ],
   "source": [
    "def fact_num(i):\n",
    "    if i == 0:\n",
    "        return 1\n",
    "    else:\n",
    "        return i*fact_num(i-1)\n",
    "    \n",
    "fact_num(5)"
   ]
  },
  {
   "cell_type": "code",
   "execution_count": 8,
   "id": "3c7f3634",
   "metadata": {},
   "outputs": [
    {
     "data": {
      "text/plain": [
       "5040"
      ]
     },
     "execution_count": 8,
     "metadata": {},
     "output_type": "execute_result"
    }
   ],
   "source": [
    "factorial_num = lambda n: 1 if n==0 else n*factorial_num(n-1)\n",
    "factorial_num(7)"
   ]
  },
  {
   "cell_type": "code",
   "execution_count": null,
   "id": "b704a8cf",
   "metadata": {},
   "outputs": [],
   "source": []
  }
 ],
 "metadata": {
  "kernelspec": {
   "display_name": "Python 3",
   "language": "python",
   "name": "python3"
  },
  "language_info": {
   "codemirror_mode": {
    "name": "ipython",
    "version": 3
   },
   "file_extension": ".py",
   "mimetype": "text/x-python",
   "name": "python",
   "nbconvert_exporter": "python",
   "pygments_lexer": "ipython3",
   "version": "3.12.1"
  }
 },
 "nbformat": 4,
 "nbformat_minor": 5
}
