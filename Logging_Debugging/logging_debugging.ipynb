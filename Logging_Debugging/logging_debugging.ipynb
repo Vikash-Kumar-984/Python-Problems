{
 "cells": [
  {
   "cell_type": "code",
   "execution_count": 1,
   "id": "a1888c7d",
   "metadata": {},
   "outputs": [
    {
     "data": {
      "text/plain": [
       "5.0"
      ]
     },
     "execution_count": 1,
     "metadata": {},
     "output_type": "execute_result"
    }
   ],
   "source": [
    "# Debugging: It is the process of identifying and fixing bugs/issues in the code\n",
    "# Debugging involves  breaking the code(checkpoint), executing the code, inspecting the variables using print statment\n",
    "\n",
    "def divide(a, b):\n",
    "    return a/b\n",
    "\n",
    "divide(10, 2)"
   ]
  },
  {
   "cell_type": "code",
   "execution_count": 2,
   "id": "d86025eb",
   "metadata": {},
   "outputs": [
    {
     "ename": "ZeroDivisionError",
     "evalue": "division by zero",
     "output_type": "error",
     "traceback": [
      "\u001b[31m---------------------------------------------------------------------------\u001b[39m",
      "\u001b[31mZeroDivisionError\u001b[39m                         Traceback (most recent call last)",
      "\u001b[36mCell\u001b[39m\u001b[36m \u001b[39m\u001b[32mIn[2]\u001b[39m\u001b[32m, line 1\u001b[39m\n\u001b[32m----> \u001b[39m\u001b[32m1\u001b[39m \u001b[43mdivide\u001b[49m\u001b[43m(\u001b[49m\u001b[32;43m10\u001b[39;49m\u001b[43m,\u001b[49m\u001b[43m \u001b[49m\u001b[32;43m0\u001b[39;49m\u001b[43m)\u001b[49m \u001b[38;5;66;03m#Gives the ZeroDivisionError\u001b[39;00m\n",
      "\u001b[36mCell\u001b[39m\u001b[36m \u001b[39m\u001b[32mIn[1]\u001b[39m\u001b[32m, line 5\u001b[39m, in \u001b[36mdivide\u001b[39m\u001b[34m(a, b)\u001b[39m\n\u001b[32m      4\u001b[39m \u001b[38;5;28;01mdef\u001b[39;00m\u001b[38;5;250m \u001b[39m\u001b[34mdivide\u001b[39m(a, b):\n\u001b[32m----> \u001b[39m\u001b[32m5\u001b[39m     \u001b[38;5;28;01mreturn\u001b[39;00m \u001b[43ma\u001b[49m\u001b[43m/\u001b[49m\u001b[43mb\u001b[49m\n",
      "\u001b[31mZeroDivisionError\u001b[39m: division by zero"
     ]
    }
   ],
   "source": [
    "divide(10, 0) #Gives the ZeroDivisionError"
   ]
  },
  {
   "cell_type": "code",
   "execution_count": null,
   "id": "5928275b",
   "metadata": {},
   "outputs": [
    {
     "ename": "ZeroDivisionError",
     "evalue": "division by zero",
     "output_type": "error",
     "traceback": [
      "\u001b[31m---------------------------------------------------------------------------\u001b[39m",
      "\u001b[31mZeroDivisionError\u001b[39m                         Traceback (most recent call last)",
      "\u001b[36mCell\u001b[39m\u001b[36m \u001b[39m\u001b[32mIn[6]\u001b[39m\u001b[32m, line 2\u001b[39m\n\u001b[32m      1\u001b[39m \u001b[38;5;28;01mfor\u001b[39;00m i \u001b[38;5;129;01min\u001b[39;00m \u001b[38;5;28mrange\u001b[39m(-\u001b[32m10\u001b[39m, \u001b[32m10\u001b[39m):\n\u001b[32m----> \u001b[39m\u001b[32m2\u001b[39m     \u001b[43mdivide\u001b[49m\u001b[43m(\u001b[49m\u001b[43mi\u001b[49m\u001b[43m,\u001b[49m\u001b[43m \u001b[49m\u001b[43mi\u001b[49m\u001b[43m+\u001b[49m\u001b[32;43m1\u001b[39;49m\u001b[43m)\u001b[49m\n\u001b[32m      3\u001b[39m \u001b[38;5;66;03m# we have called divide function many times\u001b[39;00m\n\u001b[32m      4\u001b[39m \u001b[38;5;66;03m# at somewhere its throwing error, but where, no idea?\u001b[39;00m\n\u001b[32m      5\u001b[39m \u001b[38;5;66;03m# We have to debug the code: for what value of a and b parameter, its throwing error\u001b[39;00m\n",
      "\u001b[36mCell\u001b[39m\u001b[36m \u001b[39m\u001b[32mIn[2]\u001b[39m\u001b[32m, line 5\u001b[39m, in \u001b[36mdivide\u001b[39m\u001b[34m(a, b)\u001b[39m\n\u001b[32m      4\u001b[39m \u001b[38;5;28;01mdef\u001b[39;00m\u001b[38;5;250m \u001b[39m\u001b[34mdivide\u001b[39m(a, b):\n\u001b[32m----> \u001b[39m\u001b[32m5\u001b[39m     \u001b[38;5;28;01mreturn\u001b[39;00m \u001b[43ma\u001b[49m\u001b[43m/\u001b[49m\u001b[43mb\u001b[49m\n",
      "\u001b[31mZeroDivisionError\u001b[39m: division by zero"
     ]
    }
   ],
   "source": [
    "for i in range(-10, 10):\n",
    "    divide(i, i+1)\n",
    "# we have called divide function many times\n",
    "# at somewhere its throwing error, but where, no idea?\n",
    "# We have to debug the code: for what value of a and b parameter, its throwing error\n",
    "\n"
   ]
  },
  {
   "cell_type": "code",
   "execution_count": null,
   "id": "a69f895c",
   "metadata": {},
   "outputs": [
    {
     "ename": "ZeroDivisionError",
     "evalue": "division by zero",
     "output_type": "error",
     "traceback": [
      "\u001b[31m---------------------------------------------------------------------------\u001b[39m",
      "\u001b[31mZeroDivisionError\u001b[39m                         Traceback (most recent call last)",
      "\u001b[36mCell\u001b[39m\u001b[36m \u001b[39m\u001b[32mIn[7]\u001b[39m\u001b[32m, line 10\u001b[39m\n\u001b[32m      7\u001b[39m     \u001b[38;5;28;01mreturn\u001b[39;00m a/b\n\u001b[32m      9\u001b[39m \u001b[38;5;28;01mfor\u001b[39;00m i \u001b[38;5;129;01min\u001b[39;00m \u001b[38;5;28mrange\u001b[39m(-\u001b[32m10\u001b[39m, \u001b[32m10\u001b[39m):\n\u001b[32m---> \u001b[39m\u001b[32m10\u001b[39m     \u001b[43mdivide\u001b[49m\u001b[43m(\u001b[49m\u001b[43mi\u001b[49m\u001b[43m,\u001b[49m\u001b[43m \u001b[49m\u001b[43mi\u001b[49m\u001b[43m+\u001b[49m\u001b[32;43m1\u001b[39;49m\u001b[43m)\u001b[49m\n\u001b[32m     11\u001b[39m \u001b[38;5;66;03m#breaking the code>> logcally> here we understand that there are two steps involved\u001b[39;00m\n\u001b[32m     12\u001b[39m \u001b[38;5;66;03m#break the code it terms of execution as well using return statments or print statment\u001b[39;00m\n\u001b[32m     13\u001b[39m \u001b[38;5;66;03m#first a loop and second calling divide function in loop\u001b[39;00m\n",
      "\u001b[36mCell\u001b[39m\u001b[36m \u001b[39m\u001b[32mIn[7]\u001b[39m\u001b[32m, line 7\u001b[39m, in \u001b[36mdivide\u001b[39m\u001b[34m(a, b)\u001b[39m\n\u001b[32m      6\u001b[39m \u001b[38;5;28;01mdef\u001b[39;00m\u001b[38;5;250m \u001b[39m\u001b[34mdivide\u001b[39m(a, b):\n\u001b[32m----> \u001b[39m\u001b[32m7\u001b[39m     \u001b[38;5;28;01mreturn\u001b[39;00m \u001b[43ma\u001b[49m\u001b[43m/\u001b[49m\u001b[43mb\u001b[49m\n",
      "\u001b[31mZeroDivisionError\u001b[39m: division by zero"
     ]
    }
   ],
   "source": [
    "# How to Debug?\n",
    "# breaking the code(checkpoint), \n",
    "# executing the code, \n",
    "# inspecting the variables using print statment\n",
    "\n",
    "def divide(a, b):\n",
    "    return a/b\n",
    "\n",
    "for i in range(-10, 10):\n",
    "    divide(i, i+1)\n",
    "#breaking the code>> logcally> here we understand that there are two steps involved\n",
    "#break the code it terms of execution as well using return statments or print statment\n",
    "#first a loop and second calling divide function in loop"
   ]
  },
  {
   "cell_type": "code",
   "execution_count": null,
   "id": "ff88961a",
   "metadata": {},
   "outputs": [
    {
     "name": "stdout",
     "output_type": "stream",
     "text": [
      "-10 -9\n",
      "-9 -8\n",
      "-8 -7\n",
      "-7 -6\n",
      "-6 -5\n",
      "-5 -4\n",
      "-4 -3\n",
      "-3 -2\n",
      "-2 -1\n",
      "-1 0\n"
     ]
    },
    {
     "ename": "ZeroDivisionError",
     "evalue": "division by zero",
     "output_type": "error",
     "traceback": [
      "\u001b[31m---------------------------------------------------------------------------\u001b[39m",
      "\u001b[31mZeroDivisionError\u001b[39m                         Traceback (most recent call last)",
      "\u001b[36mCell\u001b[39m\u001b[36m \u001b[39m\u001b[32mIn[8]\u001b[39m\u001b[32m, line 7\u001b[39m\n\u001b[32m      5\u001b[39m \u001b[38;5;28;01mfor\u001b[39;00m i \u001b[38;5;129;01min\u001b[39;00m \u001b[38;5;28mrange\u001b[39m(-\u001b[32m10\u001b[39m, \u001b[32m10\u001b[39m):\n\u001b[32m      6\u001b[39m     \u001b[38;5;28mprint\u001b[39m(i, i+\u001b[32m1\u001b[39m)\n\u001b[32m----> \u001b[39m\u001b[32m7\u001b[39m     \u001b[43mdivide\u001b[49m\u001b[43m(\u001b[49m\u001b[43mi\u001b[49m\u001b[43m,\u001b[49m\u001b[43m \u001b[49m\u001b[43mi\u001b[49m\u001b[43m+\u001b[49m\u001b[32;43m1\u001b[39;49m\u001b[43m)\u001b[49m\n",
      "\u001b[36mCell\u001b[39m\u001b[36m \u001b[39m\u001b[32mIn[8]\u001b[39m\u001b[32m, line 3\u001b[39m, in \u001b[36mdivide\u001b[39m\u001b[34m(a, b)\u001b[39m\n\u001b[32m      2\u001b[39m \u001b[38;5;28;01mdef\u001b[39;00m\u001b[38;5;250m \u001b[39m\u001b[34mdivide\u001b[39m(a, b):\n\u001b[32m----> \u001b[39m\u001b[32m3\u001b[39m     \u001b[38;5;28;01mreturn\u001b[39;00m \u001b[43ma\u001b[49m\u001b[43m/\u001b[49m\u001b[43mb\u001b[49m\n",
      "\u001b[31mZeroDivisionError\u001b[39m: division by zero"
     ]
    }
   ],
   "source": [
    "#using print statement to debug\n",
    "def divide(a, b):\n",
    "    return a/b\n",
    "\n",
    "for i in range(-10, 10):\n",
    "    print(i, i+1)\n",
    "    divide(i, i+1)"
   ]
  },
  {
   "cell_type": "code",
   "execution_count": null,
   "id": "6b3749a3",
   "metadata": {},
   "outputs": [
    {
     "name": "stdout",
     "output_type": "stream",
     "text": [
      "-10 -9\n",
      "-9 -8\n",
      "-8 -7\n",
      "-7 -6\n",
      "-6 -5\n",
      "-5 -4\n",
      "-4 -3\n",
      "-3 -2\n",
      "-2 -1\n",
      "-1 0\n"
     ]
    },
    {
     "ename": "ZeroDivisionError",
     "evalue": "division by zero",
     "output_type": "error",
     "traceback": [
      "\u001b[31m---------------------------------------------------------------------------\u001b[39m",
      "\u001b[31mZeroDivisionError\u001b[39m                         Traceback (most recent call last)",
      "\u001b[36mCell\u001b[39m\u001b[36m \u001b[39m\u001b[32mIn[9]\u001b[39m\u001b[32m, line 8\u001b[39m\n\u001b[32m      4\u001b[39m     \u001b[38;5;28;01mreturn\u001b[39;00m a/b\n\u001b[32m      6\u001b[39m \u001b[38;5;28;01mfor\u001b[39;00m i \u001b[38;5;129;01min\u001b[39;00m \u001b[38;5;28mrange\u001b[39m(-\u001b[32m10\u001b[39m, \u001b[32m10\u001b[39m):\n\u001b[32m      7\u001b[39m     \u001b[38;5;66;03m# print(i, i+1)\u001b[39;00m\n\u001b[32m----> \u001b[39m\u001b[32m8\u001b[39m     \u001b[43mdivide\u001b[49m\u001b[43m(\u001b[49m\u001b[43mi\u001b[49m\u001b[43m,\u001b[49m\u001b[43m \u001b[49m\u001b[43mi\u001b[49m\u001b[43m+\u001b[49m\u001b[32;43m1\u001b[39;49m\u001b[43m)\u001b[49m\n",
      "\u001b[36mCell\u001b[39m\u001b[36m \u001b[39m\u001b[32mIn[9]\u001b[39m\u001b[32m, line 4\u001b[39m, in \u001b[36mdivide\u001b[39m\u001b[34m(a, b)\u001b[39m\n\u001b[32m      2\u001b[39m \u001b[38;5;28;01mdef\u001b[39;00m\u001b[38;5;250m \u001b[39m\u001b[34mdivide\u001b[39m(a, b):\n\u001b[32m      3\u001b[39m     \u001b[38;5;28mprint\u001b[39m(a, b)\n\u001b[32m----> \u001b[39m\u001b[32m4\u001b[39m     \u001b[38;5;28;01mreturn\u001b[39;00m \u001b[43ma\u001b[49m\u001b[43m/\u001b[49m\u001b[43mb\u001b[49m\n",
      "\u001b[31mZeroDivisionError\u001b[39m: division by zero"
     ]
    }
   ],
   "source": [
    "#using another print statment inside function\n",
    "def divide(a, b):\n",
    "    print(a, b)\n",
    "    return a/b\n",
    "\n",
    "for i in range(-10, 10):\n",
    "    # print(i, i+1)\n",
    "    divide(i, i+1)"
   ]
  },
  {
   "cell_type": "code",
   "execution_count": null,
   "id": "686087f9",
   "metadata": {},
   "outputs": [
    {
     "name": "stdout",
     "output_type": "stream",
     "text": [
      "-10 -9\n",
      "-9 -8\n",
      "-8 -7\n",
      "-7 -6\n",
      "-6 -5\n",
      "-5 -4\n",
      "-4 -3\n",
      "-3 -2\n",
      "-2 -1\n",
      "-1 0\n",
      "zero divion error\n",
      "0 1\n",
      "1 2\n",
      "2 3\n",
      "3 4\n",
      "4 5\n",
      "5 6\n",
      "6 7\n",
      "7 8\n",
      "8 9\n",
      "9 10\n"
     ]
    }
   ],
   "source": [
    "#from print statment you understand that when b is 0, it throws the error\n",
    "def divide(a, b):\n",
    "    print(a, b)\n",
    "    #breaking the code in terms of execution\n",
    "    if b == 0:\n",
    "        print(\"zero divion error\")\n",
    "        return \n",
    "    return a/b\n",
    "\n",
    "for i in range(-10, 10):\n",
    "    # print(i, i+1)\n",
    "    divide(i, i+1)"
   ]
  },
  {
   "cell_type": "code",
   "execution_count": null,
   "id": "8ae2cc72",
   "metadata": {},
   "outputs": [],
   "source": [
    "# print statment is not a pythonic way to debug: print statments are not efficient\n",
    "# print statment is good for simple scripts but not complex\n",
    "# in console/terminal all the print statments will be lost\n",
    "# We use LOGGING instead of print stament\n",
    "\n",
    "# Logging: It records the state and flow of the program/code/software\n",
    "# It is useful for understanding, monitoring and debugging of the code\n",
    "# It shows how program behaves over time\n",
    "\n",
    "\n",
    "# Analogy: diary entry since childhood to now, we will understand how we evolved\n",
    "# similarly in complex scripts to understand how the code is changing the result over time, we can log the specific steps\n",
    "\n"
   ]
  },
  {
   "cell_type": "code",
   "execution_count": null,
   "id": "3827f67d",
   "metadata": {},
   "outputs": [],
   "source": [
    "# Theoretical use case explanation\n",
    "# see the different steps of coding below:-\n",
    "# step 1: remove some element of list\n",
    "# step 2: captialize(upper case)\n",
    "# step 3: remove metropolitan city\n",
    "# step 4: lower case \n",
    "# if after step 3 the list becomes empty, step 4 can throw error, so we can log the result of step 3 to debug\n",
    "\n",
    "# Logging supports different levels of logging which helps to categorize messages based on their severity\n",
    "# Analogy: different level of severity if terror attack which can go to emergency\n",
    "# similarly in logging we have different levels\n",
    "\n"
   ]
  },
  {
   "cell_type": "code",
   "execution_count": null,
   "id": "28462743",
   "metadata": {},
   "outputs": [],
   "source": [
    "import logging\n",
    "\n",
    "logging.basicConfig(filename = 'test.log', level = logging.INFO) #New test.log file will be created\n",
    "\n",
    "logging.info(\"This is my normal information about the software\")\n",
    "\n",
    "logging.warning(\"There can be empty list here\")\n",
    "\n",
    "logging.debug(\"The length of list is\") #This message will not be in the test.log file as DEBUG have less hierarchial value\n",
    "\n",
    "logging .error(\"Some error has happened\")\n",
    "\n",
    "logging.critical(\"The software has stopped running\")\n",
    "\n",
    "logging.shutdown()\n",
    "\n"
   ]
  },
  {
   "cell_type": "code",
   "execution_count": 1,
   "id": "6bec445e",
   "metadata": {},
   "outputs": [],
   "source": [
    "# NOSET level is not used\n",
    "\n",
    "# 1. DEBUG: lowest level of logging. To give detailed information of any variable, message, while doing debugging\n",
    "# 2. INFO: This is used to convey that the code is working as expected\n",
    "           #example \"Data analysis is completed\"\n",
    "\n",
    "# 3. WARNING: Used to indicate that something unexpected happend or potential issue in the code\n",
    "# 4. ERROR: Serious problem with some function\n",
    "# 5. CRITICAL: Termination of program/code/software\n",
    "\n",
    "\n",
    "# The above level of logging is executed in the same order: DEBUG being lowest priority and CRITICAL being highest priority\n",
    "# while defining level in logging.basicConfig, from that level the logs will be logged or in other words the log level priority will start from that level which is used to initialise the logging\n",
    "        #example: if we initialise with WARNING then only warning, error, critical msgs will le logged. debug and info will not be logged\n",
    "\n",
    "import logging\n",
    "logging.basicConfig(filename = \"test_new.log\", level = logging.DEBUG, format = '%(asctime)s %(message)s')\n",
    "logging.debug(\"This msg is for debugging\")\n",
    "logging.info(\"This is my info msg\")\n",
    "logging.warning(\"This is my warning msg\")\n",
    "logging.shutdown()"
   ]
  },
  {
   "cell_type": "code",
   "execution_count": 1,
   "id": "537b16fe",
   "metadata": {},
   "outputs": [],
   "source": [
    "# If we want level name in logs as well\n",
    "\n",
    "import logging\n",
    "logging.basicConfig(filename = \"test_new1.log\", level = logging.DEBUG, format = '%(asctime)s %(levelname)s %(message)s')\n",
    "\n",
    "logging.debug(\"This msg is for debugging\")\n",
    "logging.info(\"This is my info msg\")\n",
    "logging.warning(\"This is my warning msg\")\n",
    "logging.shutdown()"
   ]
  },
  {
   "cell_type": "code",
   "execution_count": 2,
   "id": "97695459",
   "metadata": {},
   "outputs": [],
   "source": [
    "#use case with example\n",
    "import logging\n",
    "logging.basicConfig(filename = \"program.log\", level = logging.DEBUG, format = '%(asctime)s %(levelname)s %(message)s')\n"
   ]
  },
  {
   "cell_type": "code",
   "execution_count": 1,
   "id": "934e41c9",
   "metadata": {},
   "outputs": [],
   "source": [
    "#write a program to separate the integer and string in two lists separately\n",
    "import logging\n",
    "\n",
    "l = [1, \"hello\", [2, \"world\"],4, [3, \"Python\"]]\n",
    "\n",
    "l1_int = []\n",
    "l2_str = []\n",
    "\n",
    "for i in l:\n",
    "    logging.info(f\"processing each element {i}\")\n",
    "    \n",
    "    if type(i) == list:\n",
    "        for j in i:\n",
    "            logging.info(f\"processing sublist element: {j}\")\n",
    "            if type(j) == int:\n",
    "                l1_int.append(j)\n",
    "    elif type(i) == int:\n",
    "        l1_int.append(i)\n",
    "    else:\n",
    "        l2_str.append(i)\n",
    "logging.info(f\"The result is : {l1_int}, {l2_str}\")\n",
    "logging.shutdown()"
   ]
  },
  {
   "cell_type": "code",
   "execution_count": null,
   "id": "e45710aa",
   "metadata": {},
   "outputs": [],
   "source": []
  }
 ],
 "metadata": {
  "kernelspec": {
   "display_name": "Python 3",
   "language": "python",
   "name": "python3"
  },
  "language_info": {
   "codemirror_mode": {
    "name": "ipython",
    "version": 3
   },
   "file_extension": ".py",
   "mimetype": "text/x-python",
   "name": "python",
   "nbconvert_exporter": "python",
   "pygments_lexer": "ipython3",
   "version": "3.12.1"
  }
 },
 "nbformat": 4,
 "nbformat_minor": 5
}
