{
 "cells": [
  {
   "cell_type": "code",
   "execution_count": 9,
   "id": "35f1a8f5",
   "metadata": {},
   "outputs": [
    {
     "name": "stdout",
     "output_type": "stream",
     "text": [
      "4\n",
      "1\n",
      "('data', 1, 1, 2, 3, 1, 1, 5, 4, 'data', 1, 1, 2, 3, 1, 1, 5, 4)\n",
      "('data', 1, 1, 2)\n",
      "(4, 5, 1, 1, 3, 2, 1, 1, 'data')\n",
      "(4, 1, 3, 1, 'data')\n"
     ]
    }
   ],
   "source": [
    "#Tuples are ordered collection of elements and can contain heterogenous data type\n",
    "#Tuples are immutable\n",
    "\n",
    "tuple1=('data',1,1,2,3,1,1,5,4)\n",
    "print(tuple1.count(1))\n",
    "print(tuple1.count(\"data\"))\n",
    "tuple1.index(2) #first occurence\n",
    "print(tuple1 *2) #print 2 times \n",
    "print(tuple1[0:4])\n",
    "print(tuple1[::-1])#reversed\n",
    "print(tuple1[::-2]) #reversed and skips 2nd element backward"
   ]
  },
  {
   "cell_type": "code",
   "execution_count": null,
   "id": "aaee00fb",
   "metadata": {},
   "outputs": [
    {
     "name": "stdout",
     "output_type": "stream",
     "text": [
      "1\n",
      "((1, 2, 3, 4, 5, 6), (41, 25, 36, 20))\n",
      "6\n",
      "(1, 2, 3, 4, 5, 6, 41, 25, 36, 20)\n"
     ]
    }
   ],
   "source": [
    "t1=(1,2,3,4,5,6)\n",
    "t2=(41,25,36,20)\n",
    "print(min(t1)) #find minimum in the tuple\n",
    "t3=(t1,t2) #nested tuples\n",
    "print(t3)\n",
    "del t3 #delete t3\n",
    "print(len(t1))\n",
    "1 in t1\n",
    "t3=t1+t2 #add tuple elements\n",
    "print(t3)"
   ]
  },
  {
   "cell_type": "code",
   "execution_count": null,
   "id": "aac4f008",
   "metadata": {},
   "outputs": [
    {
     "name": "stdout",
     "output_type": "stream",
     "text": [
      "{1, 2, 3, 'Vika', 'vik'}\n",
      "[1, 2, 3, 'Vika', 'vik']\n",
      "{1, 2, 3, 'Vika', 6, 'vik'}\n",
      "{2, 3, 'Vika', 6, 'vik'}\n",
      "{2, 'Vika', 6, 'vik'}\n",
      "{2, 6, 'a', 's', 'k', 'V', 'i', 'Vika', 'h', 'vik'}\n",
      "{2, 6, 'a', 's', 'k', 'V', 'i', 'Vika', 'h', 'vik', 'vikash'}\n",
      "{2, 6, 'a', 11, 's', 'k', 'V', 'i', 'Vika', 19, 'h', 'vik', 'vikash'}\n"
     ]
    }
   ],
   "source": [
    "#Sets are unordered and unique collection of elements\n",
    "#sets doesn't allow duplicate elements\n",
    "#unordered hence indexing will not work\n",
    "\n",
    "s={1,2,2,3,3,3,\"vik\",\"vik\",\"Vika\",\"Vika\",\"vik\"}\n",
    "print(s) #only unique values\n",
    "list1=list(s) #converted into list\n",
    "print(list1)\n",
    "# s[1] #gives error as indexing not work\n",
    "#immutable data structure has a stable hash value\n",
    "s.add(6)\n",
    "print(s)\n",
    "s.pop() #remove random value\n",
    "print(s)\n",
    "s.remove(3) #remove specific element\n",
    "print(s)\n",
    "s.update(\"Vikash\") #print as each character\n",
    "print(s)\n",
    "s.update([\"vikash\"]) #print as whole \n",
    "print(s)\n",
    "s.update([11,19])\n",
    "print(s)\n",
    "s.clear() #removes all element in set"
   ]
  },
  {
   "cell_type": "code",
   "execution_count": null,
   "id": "a52a4eb1",
   "metadata": {},
   "outputs": [
    {
     "name": "stdout",
     "output_type": "stream",
     "text": [
      "{11, 12, 13, 14}\n"
     ]
    }
   ],
   "source": [
    "j={11,12,13,14}\n",
    "#j.remove(20) #will give error as 20 is not present in the set\n",
    "j.discard(20) #works even when 20 is present\n",
    "print(j)"
   ]
  },
  {
   "cell_type": "code",
   "execution_count": 26,
   "id": "95eeaaa1",
   "metadata": {},
   "outputs": [
    {
     "name": "stdout",
     "output_type": "stream",
     "text": [
      "{'reading', 'travelling', 'photography', 'coding', 'hiking'}\n",
      "{'coding'}\n",
      "{'reading', 'hiking'}\n",
      "{'travelling', 'reading', 'photography', 'hiking'}\n"
     ]
    }
   ],
   "source": [
    "#Set Operations\n",
    "#Union: combine elements from two sets excluding duplicates\n",
    "#Intersection: Only common elements between sets\n",
    "#Difference: return the elements that is present in first set and not in second\n",
    "#symmetric difference: returns elements that are present in either set but not in both\n",
    "\n",
    "s1={'coding','hiking','reading'}\n",
    "s2={'coding','photography', 'travelling'}\n",
    "\n",
    "union1=s1 | s2\n",
    "intersection1= s1 & s2\n",
    "difference1=s1-s2\n",
    "symmetric1=s1^s2\n",
    "print(union1)\n",
    "print(intersection1)\n",
    "print(difference1)\n",
    "print(symmetric1)"
   ]
  },
  {
   "cell_type": "code",
   "execution_count": null,
   "id": "17a3fdd3",
   "metadata": {},
   "outputs": [
    {
     "name": "stdout",
     "output_type": "stream",
     "text": [
      "frozenset({1, 2, 3, 4, 5})\n"
     ]
    }
   ],
   "source": [
    "#Frozen sets: immutable version of set, cannot be added or removed any new element\n",
    "my_fs = frozenset([1,2,2,2,2,3,3,3,4,4,4,4,4,4,5])\n",
    "print(my_fs)\n",
    "# my_fs.add(20) #gives error as it is frozenset\n"
   ]
  },
  {
   "cell_type": "code",
   "execution_count": null,
   "id": "04d99fc5",
   "metadata": {},
   "outputs": [],
   "source": []
  }
 ],
 "metadata": {
  "kernelspec": {
   "display_name": "Python 3",
   "language": "python",
   "name": "python3"
  },
  "language_info": {
   "codemirror_mode": {
    "name": "ipython",
    "version": 3
   },
   "file_extension": ".py",
   "mimetype": "text/x-python",
   "name": "python",
   "nbconvert_exporter": "python",
   "pygments_lexer": "ipython3",
   "version": "3.11.3"
  }
 },
 "nbformat": 4,
 "nbformat_minor": 5
}
