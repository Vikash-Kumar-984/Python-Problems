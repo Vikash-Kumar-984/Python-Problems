{
 "cells": [
  {
   "cell_type": "code",
   "execution_count": 1,
   "id": "1cf43462",
   "metadata": {},
   "outputs": [],
   "source": [
    "# Multiprocessing in Python is a built-in package that enables the execution of multiple processes concurrently, leveraging multiple CPU cores for improved performance, especially in CPU-bound tasks.\n",
    "\n",
    "# Unlike multithreading, which is limited by Python's Global Interpreter Lock (GIL), multiprocessing creates separate processes, each with its own memory space and Python interpreter, thus allowing true parallel execution.\n"
   ]
  },
  {
   "cell_type": "code",
   "execution_count": 2,
   "id": "66d64534",
   "metadata": {},
   "outputs": [
    {
     "name": "stdout",
     "output_type": "stream",
     "text": [
      "Welcome Vikash!\n",
      "Sleep for 1 sec\n",
      "Done with sleeping\n",
      "Welcome Vikash!\n",
      "Sleep for 1 sec\n",
      "Done with sleeping\n",
      "The program finished in 2.0 seconds\n"
     ]
    }
   ],
   "source": [
    "import time\n",
    "start = time.perf_counter()\n",
    "\n",
    "def test_func():\n",
    "    print(\"Welcome Vikash!\")\n",
    "    print(\"Sleep for 1 sec\")\n",
    "    time.sleep(1)\n",
    "    print(\"Done with sleeping\")\n",
    "test_func()\n",
    "test_func()\n",
    "end = time.perf_counter()\n",
    "\n",
    "print(f\"The program finished in {round(end-start, 2)} seconds\")"
   ]
  },
  {
   "cell_type": "code",
   "execution_count": 4,
   "id": "fabcf0d4",
   "metadata": {},
   "outputs": [
    {
     "name": "stdout",
     "output_type": "stream",
     "text": [
      "Welcome Vikash! \n",
      "\n",
      "Sleep for 1 sec \n",
      "\n",
      "Welcome Vikash! \n",
      "\n",
      "Sleep for 1 sec \n",
      "\n"
     ]
    },
    {
     "name": "stdout",
     "output_type": "stream",
     "text": [
      "Done with sleeping \n",
      "\n",
      "Done with sleeping \n",
      "\n",
      "The program finished in 1.03 seconds\n"
     ]
    }
   ],
   "source": [
    "import multiprocessing\n",
    "\n",
    "import time\n",
    "start = time.perf_counter()\n",
    "\n",
    "def test_func():\n",
    "    print(\"Welcome Vikash! \\n\")\n",
    "    print(\"Sleep for 1 sec \\n\")\n",
    "    time.sleep(1)\n",
    "    print(\"Done with sleeping \\n\")\n",
    "\n",
    "p1 = multiprocessing.Process(target = test_func)\n",
    "p2 = multiprocessing.Process(target = test_func)\n",
    "\n",
    "p1.start()\n",
    "p2.start()\n",
    "\n",
    "p1.join()\n",
    "p2.join()\n",
    "    \n",
    "\n",
    "end = time.perf_counter()\n",
    "\n",
    "print(f\"The program finished in {round(end-start, 2)} seconds\")"
   ]
  },
  {
   "cell_type": "code",
   "execution_count": 5,
   "id": "c4681ef7",
   "metadata": {},
   "outputs": [],
   "source": [
    "# Multiprocessing used above and use of multiple processor to execute the program"
   ]
  },
  {
   "cell_type": "code",
   "execution_count": 6,
   "id": "83cf41fb",
   "metadata": {},
   "outputs": [
    {
     "name": "stdout",
     "output_type": "stream",
     "text": [
      "Welcome Vikash! \n",
      "\n",
      "Rest for 1 sec \n",
      "Welcome Vikash! \n",
      "\n",
      "Welcome Vikash! \n",
      "\n",
      "\n",
      "Welcome Vikash! \n",
      "\n",
      "Rest for 1 sec \n",
      "Rest for 1 sec \n",
      "Rest for 1 sec \n",
      "\n",
      "Welcome Vikash! \n",
      "\n",
      "\n",
      "\n",
      "Rest for 1 sec \n",
      "Welcome Vikash! \n",
      "Welcome Vikash! \n",
      "\n",
      "\n",
      "Rest for 1 sec \n",
      "\n",
      "Rest for 1 sec \n",
      "\n",
      "\n",
      "Welcome Vikash! \n",
      "\n",
      "Welcome Vikash! \n",
      "Rest for 1 sec \n",
      "\n",
      "\n",
      "Welcome Vikash! \n",
      "Rest for 1 sec \n",
      "\n",
      "\n",
      "Rest for 1 sec \n",
      "\n",
      "Done with sleeping\n",
      "\n",
      "Done with sleeping\n",
      "Done with sleeping\n",
      "\n",
      "Done with sleeping\n",
      "\n",
      "\n",
      "Done with sleeping\n",
      "\n",
      "Done with sleeping\n",
      "Done with sleeping\n",
      "\n",
      "\n",
      "Done with sleeping\n",
      "\n",
      "Done with sleeping\n",
      "\n",
      "Done with sleeping\n",
      "\n",
      "The program finished in 1.1 seconds\n"
     ]
    }
   ],
   "source": [
    "import multiprocessing\n",
    "\n",
    "import time\n",
    "start = time.perf_counter()\n",
    "\n",
    "def test_func():\n",
    "    print(\"Welcome Vikash! \\n\")\n",
    "    print(\"Rest for 1 sec \\n\")\n",
    "    time.sleep(1)\n",
    "    print(\"Done with sleeping\\n\")\n",
    "\n",
    "processes = []\n",
    "for i in range(10):\n",
    "    p = multiprocessing.Process(target = test_func)\n",
    "    p.start()\n",
    "    processes.append(p)\n",
    "    \n",
    "for process in processes:\n",
    "    process.join()\n",
    "\n",
    "    \n",
    "\n",
    "end = time.perf_counter()\n",
    "\n",
    "print(f\"The program finished in {round(end-start, 2)} seconds\")"
   ]
  },
  {
   "cell_type": "code",
   "execution_count": 8,
   "id": "b8eab98e",
   "metadata": {},
   "outputs": [
    {
     "name": "stdout",
     "output_type": "stream",
     "text": [
      "[1, 4, 25, 9, 808348673]\n",
      "The program finished in 0.03 seconds\n"
     ]
    }
   ],
   "source": [
    "# Use Case 1:\n",
    "# Multiprocessing: should be used in case of computation\n",
    "\n",
    "\n",
    "import multiprocessing\n",
    "\n",
    "import time\n",
    "start = time.perf_counter()\n",
    "\n",
    "def square(index, value):\n",
    "    value[index] = value[index] ** 2\n",
    "\n",
    "arr = multiprocessing.Array('i', [1, 2, 5, 3, 999999999])\n",
    "\n",
    "\n",
    "processes = []\n",
    "for i in range(5): #in array 5 nos, therefore loop will be in range(5)\n",
    "    p = multiprocessing.Process(target = square, args = (i, arr))\n",
    "    p.start()\n",
    "    processes.append(p)\n",
    "    \n",
    "for process in processes:\n",
    "    process.join() #main process will run at the end\n",
    "\n",
    "print(list(arr))\n",
    "\n",
    "    \n",
    "\n",
    "end = time.perf_counter()\n",
    "\n",
    "print(f\"The program finished in {round(end-start, 2)} seconds\")"
   ]
  },
  {
   "cell_type": "code",
   "execution_count": 9,
   "id": "5f5e5391",
   "metadata": {},
   "outputs": [
    {
     "name": "stdout",
     "output_type": "stream",
     "text": [
      "The square of 1 is 1  .The square of 2 is 4  .\n",
      "\n",
      "The square of 4 is 16  .The square of 3 is 9  .\n",
      "\n",
      "The square of 6000 is 36000000  .\n",
      "The program finished in 0.04 seconds\n"
     ]
    }
   ],
   "source": [
    "# Using Multiprocessing.pool\n",
    "\n",
    "start = time.perf_counter()\n",
    "def square(no):\n",
    "    result = no*no\n",
    "    print(f\"The square of {no} is {result}  .\")\n",
    "\n",
    "numbers = [1, 2, 3, 4, 6000]\n",
    "\n",
    "with multiprocessing.Pool() as pool:\n",
    "    pool.map(square, numbers)\n",
    "    \n",
    "end = time.perf_counter()\n",
    "\n",
    "print(f\"The program finished in {round(end-start, 2)} seconds\")"
   ]
  },
  {
   "cell_type": "code",
   "execution_count": 10,
   "id": "2b6b2485",
   "metadata": {},
   "outputs": [],
   "source": [
    "#no order in the results shows multiple core/processors being used and result returned not sequentially, parallel execution of the code"
   ]
  },
  {
   "cell_type": "code",
   "execution_count": 11,
   "id": "5285d128",
   "metadata": {},
   "outputs": [],
   "source": [
    "# Use Case 2:\n",
    "# If we want to get admission is a school\n",
    "# We will make a enrollment request in a queue\n",
    "# These requests will be processed from the queue and registration will be done\n",
    "\n",
    "# These enrollment and registration tasks can run in parallel\n",
    "# This means while one process is busy putting the requests into the queue, the other process\n",
    "# can be busy processing those request\n"
   ]
  },
  {
   "cell_type": "code",
   "execution_count": null,
   "id": "41d12ea6",
   "metadata": {},
   "outputs": [
    {
     "name": "stdout",
     "output_type": "stream",
     "text": [
      "Register the enrollment request: enroll request for Vivek\n",
      "Register the enrollment request: enroll request for Vikash\n",
      "Register the enrollment request: enroll request for Vishal\n",
      "Register the enrollment request: enroll request for Aditya\n"
     ]
    }
   ],
   "source": [
    "import multiprocessing\n",
    "\n",
    "def enroll_students(student_queue):\n",
    "    for student in [\"Vivek\", \"Vikash\", \"Vishal\",\"Aditya\"]:\n",
    "        student_queue.put(f\"enroll request for {student}\")\n",
    "        \n",
    "def register_students(students_queue):\n",
    "    while True:\n",
    "        enrollment_req = student_queue.get()\n",
    "        if enrollment_req is None:\n",
    "            break\n",
    "        print(f\"Register the enrollment request: {enrollment_req}\")\n",
    "        \n",
    "if True:\n",
    "    student_queue = multiprocessing.Queue() #multiprocessing has data structure queue\n",
    "    enrollment_process = multiprocessing.Process(target = enroll_students, args = (student_queue,))\n",
    "    reg_process = multiprocessing.Process(target = register_students, args = (student_queue,))\n",
    "    \n",
    "    enrollment_process.start()\n",
    "    reg_process.start()\n",
    "    \n",
    "    enrollment_process.join()\n",
    "    reg_process.join()"
   ]
  },
  {
   "cell_type": "code",
   "execution_count": 14,
   "id": "374c775b",
   "metadata": {},
   "outputs": [
    {
     "name": "stdout",
     "output_type": "stream",
     "text": [
      "Welcome Wiry!!! Welcome Wiry!!! \n",
      "\n",
      "Sleep for 1 sec Sleep for 1 sec \n",
      "\n"
     ]
    },
    {
     "name": "stdout",
     "output_type": "stream",
     "text": [
      "Done with sleeping Done with sleeping \n",
      "\n",
      "Welcome Wiry!!! Welcome Wiry!!! \n",
      "\n",
      "Sleep for 1 sec \n",
      "Sleep for 1 sec \n",
      "Done with sleeping Done with sleeping \n",
      "\n",
      "Welcome Wiry!!! Welcome Wiry!!! \n",
      "\n",
      "Sleep for 1 sec Sleep for 1 sec \n",
      "\n",
      "Done with sleeping Done with sleeping \n",
      "Welcome Wiry!!! \n",
      "\n",
      "Sleep for 1 sec \n",
      "Welcome Wiry!!! \n",
      "Sleep for 1 sec \n",
      "Done with sleeping \n",
      "Welcome Wiry!!! \n",
      "Done with sleeping Sleep for 1 sec \n",
      "\n",
      "Welcome Wiry!!! \n",
      "Sleep for 1 sec \n",
      "Done with sleeping \n",
      "Done with sleeping \n",
      "The program finished in 5.08 seconds\n"
     ]
    }
   ],
   "source": [
    "# Using concurrent.futures process pool\n",
    "import concurrent.futures\n",
    "\n",
    "import time\n",
    "start = time.perf_counter()\n",
    "\n",
    "def test_func(i):\n",
    "    print(\"Welcome Wiry!!! \")\n",
    "    print(\"Sleep for 1 sec \")\n",
    "    time.sleep(1)\n",
    "    print(\"Done with sleeping \")\n",
    "\n",
    "with concurrent.futures.ProcessPoolExecutor() as executor:\n",
    "    executor.map(test_func, range(10))\n",
    "\n",
    "    \n",
    "\n",
    "end = time.perf_counter()\n",
    "\n",
    "print(f\"The program finished in {round(end-start, 2)} seconds\")"
   ]
  },
  {
   "cell_type": "code",
   "execution_count": null,
   "id": "18848fc5",
   "metadata": {},
   "outputs": [],
   "source": []
  }
 ],
 "metadata": {
  "kernelspec": {
   "display_name": "Python 3",
   "language": "python",
   "name": "python3"
  },
  "language_info": {
   "codemirror_mode": {
    "name": "ipython",
    "version": 3
   },
   "file_extension": ".py",
   "mimetype": "text/x-python",
   "name": "python",
   "nbconvert_exporter": "python",
   "pygments_lexer": "ipython3",
   "version": "3.12.1"
  }
 },
 "nbformat": 4,
 "nbformat_minor": 5
}
