{
 "cells": [
  {
   "cell_type": "code",
   "execution_count": null,
   "id": "b2d44520",
   "metadata": {},
   "outputs": [],
   "source": [
    "#Property Decorators:  It allowed to use class method as an attribute\n",
    "\n",
    "class Student:\n",
    "    def __init__(self, name, price):\n",
    "        self.__name = name\n",
    "        self.__price = price\n",
    "\n",
    "#here name and price are private variables which we will not be able to access from outside the class\n",
    "stud = Student(\"Vikash\",600)\n",
    "# stud.__name #error as name and price private variables"
   ]
  },
  {
   "cell_type": "code",
   "execution_count": null,
   "id": "61b59bbd",
   "metadata": {},
   "outputs": [
    {
     "data": {
      "text/plain": [
       "'Vikash'"
      ]
     },
     "execution_count": 3,
     "metadata": {},
     "output_type": "execute_result"
    }
   ],
   "source": [
    "#still we can access private variable if we know structure of the class\n",
    "stud._Student__name #using class name and exact variable name\n"
   ]
  },
  {
   "cell_type": "code",
   "execution_count": 5,
   "id": "23d92ac6",
   "metadata": {},
   "outputs": [
    {
     "data": {
      "text/plain": [
       "600"
      ]
     },
     "execution_count": 5,
     "metadata": {},
     "output_type": "execute_result"
    }
   ],
   "source": [
    "#another way to expose private variables using property decorators\n",
    "\n",
    "class Student:\n",
    "    def __init__(self, name, price):\n",
    "        self.__name = name\n",
    "        self.__price = price\n",
    "    @property\n",
    "    def access_price(self):\n",
    "        return self.__price\n",
    "    \n",
    "stud = Student(\"Vikash\",600)\n",
    "stud.access_price"
   ]
  },
  {
   "cell_type": "code",
   "execution_count": null,
   "id": "5fb886a0",
   "metadata": {},
   "outputs": [
    {
     "data": {
      "text/plain": [
       "600"
      ]
     },
     "execution_count": 6,
     "metadata": {},
     "output_type": "execute_result"
    }
   ],
   "source": [
    "#To modify the price\n",
    "class Student:\n",
    "    def __init__(self, name, price):\n",
    "        self.__name = name\n",
    "        self.__price = price\n",
    "   \n",
    "    @property\n",
    "    def access_price(self):\n",
    "        return self.__price\n",
    "    \n",
    "    @access_price.setter\n",
    "    def price_set(self, price_new):\n",
    "        self.__price = price_new\n",
    "\n",
    "        \n",
    "stud = Student(\"Vikash\",600)\n",
    "stud.access_price"
   ]
  },
  {
   "cell_type": "code",
   "execution_count": 7,
   "id": "fc02c207",
   "metadata": {},
   "outputs": [
    {
     "data": {
      "text/plain": [
       "2000"
      ]
     },
     "execution_count": 7,
     "metadata": {},
     "output_type": "execute_result"
    }
   ],
   "source": [
    "stud.price_set = 2000\n",
    "stud.access_price"
   ]
  },
  {
   "cell_type": "code",
   "execution_count": 8,
   "id": "aa3c18bd",
   "metadata": {},
   "outputs": [
    {
     "data": {
      "text/plain": [
       "650"
      ]
     },
     "execution_count": 8,
     "metadata": {},
     "output_type": "execute_result"
    }
   ],
   "source": [
    "#delete a variable\n",
    "\n",
    "class Student:\n",
    "    def __init__(self, name, price):\n",
    "        self.__name = name\n",
    "        self.__price = price\n",
    "   \n",
    "    @property\n",
    "    def access_price(self):\n",
    "        return self.__price\n",
    "    \n",
    "    @access_price.setter\n",
    "    def access_price(self, price_new):\n",
    "        self.__price = price_new\n",
    "    \n",
    "    @access_price.deleter\n",
    "    def access_price(self):\n",
    "        del self.__price\n",
    "\n",
    "\n",
    "stud = Student(\"Vikash\",650)\n",
    "stud.access_price"
   ]
  },
  {
   "cell_type": "code",
   "execution_count": 9,
   "id": "276e2275",
   "metadata": {},
   "outputs": [
    {
     "data": {
      "text/plain": [
       "650"
      ]
     },
     "execution_count": 9,
     "metadata": {},
     "output_type": "execute_result"
    }
   ],
   "source": [
    "stud.price_set = 2850\n",
    "stud.access_price"
   ]
  },
  {
   "cell_type": "code",
   "execution_count": 11,
   "id": "91a2af6c",
   "metadata": {},
   "outputs": [
    {
     "ename": "AttributeError",
     "evalue": "'Student' object has no attribute '_Student__price'",
     "output_type": "error",
     "traceback": [
      "\u001b[31m---------------------------------------------------------------------------\u001b[39m",
      "\u001b[31mAttributeError\u001b[39m                            Traceback (most recent call last)",
      "\u001b[36mCell\u001b[39m\u001b[36m \u001b[39m\u001b[32mIn[11]\u001b[39m\u001b[32m, line 1\u001b[39m\n\u001b[32m----> \u001b[39m\u001b[32m1\u001b[39m \u001b[38;5;28;01mdel\u001b[39;00m \u001b[43mstud\u001b[49m\u001b[43m.\u001b[49m\u001b[43maccess_price\u001b[49m\n\u001b[32m      2\u001b[39m stud.access_price \u001b[38;5;66;03m#This will throw an error\u001b[39;00m\n",
      "\u001b[36mCell\u001b[39m\u001b[36m \u001b[39m\u001b[32mIn[8]\u001b[39m\u001b[32m, line 18\u001b[39m, in \u001b[36mStudent.access_price\u001b[39m\u001b[34m(self)\u001b[39m\n\u001b[32m     16\u001b[39m \u001b[38;5;129m@access_price\u001b[39m.deleter\n\u001b[32m     17\u001b[39m \u001b[38;5;28;01mdef\u001b[39;00m\u001b[38;5;250m \u001b[39m\u001b[34maccess_price\u001b[39m(\u001b[38;5;28mself\u001b[39m):\n\u001b[32m---> \u001b[39m\u001b[32m18\u001b[39m     \u001b[38;5;28;01mdel\u001b[39;00m \u001b[38;5;28;43mself\u001b[39;49m\u001b[43m.\u001b[49m\u001b[43m__price\u001b[49m\n",
      "\u001b[31mAttributeError\u001b[39m: 'Student' object has no attribute '_Student__price'"
     ]
    }
   ],
   "source": [
    "del stud.access_price\n",
    "stud.access_price #This will throw an error"
   ]
  },
  {
   "cell_type": "code",
   "execution_count": 12,
   "id": "8058b2f0",
   "metadata": {},
   "outputs": [
    {
     "data": {
      "text/plain": [
       "6"
      ]
     },
     "execution_count": 12,
     "metadata": {},
     "output_type": "execute_result"
    }
   ],
   "source": [
    "#use case\n",
    "class Circle:\n",
    "    def __init__(self, radius):\n",
    "        self.__radius = radius\n",
    "        \n",
    "    @property\n",
    "    def radius(self):\n",
    "        return self.__radius\n",
    "    \n",
    "c=Circle(6)\n",
    "c.radius"
   ]
  },
  {
   "cell_type": "code",
   "execution_count": 13,
   "id": "c82e12cd",
   "metadata": {},
   "outputs": [
    {
     "data": {
      "text/plain": [
       "7"
      ]
     },
     "execution_count": 13,
     "metadata": {},
     "output_type": "execute_result"
    }
   ],
   "source": [
    "class Circle:\n",
    "    def __init__(self, radius):\n",
    "        self.__radius = radius\n",
    "        \n",
    "    @property\n",
    "    def radius(self):\n",
    "        return self.__radius\n",
    "    @radius.setter\n",
    "    def radius(self, value):\n",
    "        if value <= 0:\n",
    "            raise ValueError(\"Radius is not positive\")\n",
    "        self.__radius = value\n",
    "    def area(self):\n",
    "        return 3.14*self.__radius*self.__radius\n",
    "    \n",
    "c=Circle(7)\n",
    "c.radius"
   ]
  },
  {
   "cell_type": "code",
   "execution_count": 14,
   "id": "90984a1d",
   "metadata": {},
   "outputs": [
    {
     "data": {
      "text/plain": [
       "11"
      ]
     },
     "execution_count": 14,
     "metadata": {},
     "output_type": "execute_result"
    }
   ],
   "source": [
    "c.radius=11\n",
    "c.radius"
   ]
  },
  {
   "cell_type": "code",
   "execution_count": 15,
   "id": "25b497a0",
   "metadata": {},
   "outputs": [
    {
     "data": {
      "text/plain": [
       "379.94"
      ]
     },
     "execution_count": 15,
     "metadata": {},
     "output_type": "execute_result"
    }
   ],
   "source": [
    "c.area()"
   ]
  },
  {
   "cell_type": "code",
   "execution_count": 16,
   "id": "04308e25",
   "metadata": {},
   "outputs": [
    {
     "data": {
      "text/plain": [
       "254.34"
      ]
     },
     "execution_count": 16,
     "metadata": {},
     "output_type": "execute_result"
    }
   ],
   "source": [
    "class Circle:\n",
    "    def __init__(self, radius):\n",
    "        self.__radius = radius\n",
    "        \n",
    "    @property\n",
    "    def radius(self):\n",
    "        return self.__radius\n",
    "    @radius.setter\n",
    "    def radius(self, value):\n",
    "        if value <= 0:\n",
    "            raise ValueError(\"Radius is not positive\")\n",
    "        self.__radius = value\n",
    "    @radius.deleter\n",
    "    def radius(self):\n",
    "        del self.__radius\n",
    "    def area(self):\n",
    "        return 3.14*self.__radius*self.__radius\n",
    "    \n",
    "c=Circle(9)\n",
    "c.area()"
   ]
  },
  {
   "cell_type": "code",
   "execution_count": null,
   "id": "051ed55c",
   "metadata": {},
   "outputs": [],
   "source": []
  }
 ],
 "metadata": {
  "kernelspec": {
   "display_name": "Python 3",
   "language": "python",
   "name": "python3"
  },
  "language_info": {
   "codemirror_mode": {
    "name": "ipython",
    "version": 3
   },
   "file_extension": ".py",
   "mimetype": "text/x-python",
   "name": "python",
   "nbconvert_exporter": "python",
   "pygments_lexer": "ipython3",
   "version": "3.12.1"
  }
 },
 "nbformat": 4,
 "nbformat_minor": 5
}
