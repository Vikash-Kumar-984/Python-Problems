{
 "cells": [
  {
   "cell_type": "code",
   "execution_count": 1,
   "id": "59dfbf55",
   "metadata": {},
   "outputs": [
    {
     "data": {
      "text/plain": [
       "50.0"
      ]
     },
     "execution_count": 1,
     "metadata": {},
     "output_type": "execute_result"
    }
   ],
   "source": [
    "100/2"
   ]
  },
  {
   "cell_type": "code",
   "execution_count": 2,
   "id": "190d85cb",
   "metadata": {},
   "outputs": [
    {
     "ename": "TypeError",
     "evalue": "unsupported operand type(s) for /: 'int' and 'str'",
     "output_type": "error",
     "traceback": [
      "\u001b[31m---------------------------------------------------------------------------\u001b[39m",
      "\u001b[31mTypeError\u001b[39m                                 Traceback (most recent call last)",
      "\u001b[36mCell\u001b[39m\u001b[36m \u001b[39m\u001b[32mIn[2]\u001b[39m\u001b[32m, line 1\u001b[39m\n\u001b[32m----> \u001b[39m\u001b[32m1\u001b[39m \u001b[32;43m100\u001b[39;49m\u001b[43m/\u001b[49m\u001b[33;43m\"\u001b[39;49m\u001b[33;43msome string\u001b[39;49m\u001b[33;43m\"\u001b[39;49m\n",
      "\u001b[31mTypeError\u001b[39m: unsupported operand type(s) for /: 'int' and 'str'"
     ]
    }
   ],
   "source": [
    "100/\"some string\"\n"
   ]
  },
  {
   "cell_type": "code",
   "execution_count": 3,
   "id": "76a249e5",
   "metadata": {},
   "outputs": [
    {
     "ename": "ZeroDivisionError",
     "evalue": "division by zero",
     "output_type": "error",
     "traceback": [
      "\u001b[31m---------------------------------------------------------------------------\u001b[39m",
      "\u001b[31mZeroDivisionError\u001b[39m                         Traceback (most recent call last)",
      "\u001b[36mCell\u001b[39m\u001b[36m \u001b[39m\u001b[32mIn[3]\u001b[39m\u001b[32m, line 1\u001b[39m\n\u001b[32m----> \u001b[39m\u001b[32m1\u001b[39m \u001b[32;43m100\u001b[39;49m\u001b[43m/\u001b[49m\u001b[32;43m0\u001b[39;49m\n",
      "\u001b[31mZeroDivisionError\u001b[39m: division by zero"
     ]
    }
   ],
   "source": [
    "100/0"
   ]
  },
  {
   "cell_type": "code",
   "execution_count": 4,
   "id": "957ee2ce",
   "metadata": {},
   "outputs": [
    {
     "name": "stdout",
     "output_type": "stream",
     "text": [
      "There is some error\n"
     ]
    }
   ],
   "source": [
    "try:\n",
    "    10/0\n",
    "except: #generic exception to print your message\n",
    "    print(\"There is some error\")\n",
    "    "
   ]
  },
  {
   "cell_type": "code",
   "execution_count": 5,
   "id": "6305fbb3",
   "metadata": {},
   "outputs": [
    {
     "name": "stdout",
     "output_type": "stream",
     "text": [
      "There is some error\n"
     ]
    }
   ],
   "source": [
    "try:\n",
    "    10/\"some string\"\n",
    "except:\n",
    "    print(\"There is some error\")"
   ]
  },
  {
   "cell_type": "code",
   "execution_count": 6,
   "id": "0d868ba2",
   "metadata": {},
   "outputs": [
    {
     "name": "stdout",
     "output_type": "stream",
     "text": [
      "There is some error division by zero\n"
     ]
    }
   ],
   "source": [
    "try:\n",
    "    10/0\n",
    "except Exception as e:\n",
    "    print(\"There is some error\", e)"
   ]
  },
  {
   "cell_type": "code",
   "execution_count": 7,
   "id": "3ad2069d",
   "metadata": {},
   "outputs": [
    {
     "ename": "ZeroDivisionError",
     "evalue": "division by zero",
     "output_type": "error",
     "traceback": [
      "\u001b[31m---------------------------------------------------------------------------\u001b[39m",
      "\u001b[31mZeroDivisionError\u001b[39m                         Traceback (most recent call last)",
      "\u001b[36mCell\u001b[39m\u001b[36m \u001b[39m\u001b[32mIn[7]\u001b[39m\u001b[32m, line 3\u001b[39m\n\u001b[32m      1\u001b[39m \u001b[38;5;66;03m#The above example is of generic exception handling\u001b[39;00m\n\u001b[32m----> \u001b[39m\u001b[32m3\u001b[39m \u001b[32;43m10\u001b[39;49m\u001b[43m/\u001b[49m\u001b[32;43m0\u001b[39;49m\n",
      "\u001b[31mZeroDivisionError\u001b[39m: division by zero"
     ]
    }
   ],
   "source": [
    "#The above example is of generic exception handling\n",
    "\n",
    "10/0"
   ]
  },
  {
   "cell_type": "code",
   "execution_count": null,
   "id": "6d678661",
   "metadata": {},
   "outputs": [
    {
     "name": "stdout",
     "output_type": "stream",
     "text": [
      "Here I am handling the zero divison error: division by zero\n"
     ]
    }
   ],
   "source": [
    "# Best Practice 1: always catch specific error\n",
    "# Specificity in exception handling\n",
    "\n",
    "try:\n",
    "    10/0 #suspicion\n",
    "except ZeroDivisionError as e:\n",
    "    print(\"Here I am handling the zero divison error:\", e)"
   ]
  },
  {
   "cell_type": "code",
   "execution_count": 9,
   "id": "59141d0c",
   "metadata": {},
   "outputs": [
    {
     "ename": "TypeError",
     "evalue": "unsupported operand type(s) for /: 'int' and 'str'",
     "output_type": "error",
     "traceback": [
      "\u001b[31m---------------------------------------------------------------------------\u001b[39m",
      "\u001b[31mTypeError\u001b[39m                                 Traceback (most recent call last)",
      "\u001b[36mCell\u001b[39m\u001b[36m \u001b[39m\u001b[32mIn[9]\u001b[39m\u001b[32m, line 1\u001b[39m\n\u001b[32m----> \u001b[39m\u001b[32m1\u001b[39m \u001b[32;43m10\u001b[39;49m\u001b[43m/\u001b[49m\u001b[33;43m\"\u001b[39;49m\u001b[33;43msome string\u001b[39;49m\u001b[33;43m\"\u001b[39;49m\n",
      "\u001b[31mTypeError\u001b[39m: unsupported operand type(s) for /: 'int' and 'str'"
     ]
    }
   ],
   "source": [
    "10/\"some string\""
   ]
  },
  {
   "cell_type": "code",
   "execution_count": 10,
   "id": "1bb24e54",
   "metadata": {},
   "outputs": [
    {
     "name": "stdout",
     "output_type": "stream",
     "text": [
      "Some string is being used in divison unsupported operand type(s) for /: 'int' and 'str'\n"
     ]
    }
   ],
   "source": [
    "#another example\n",
    "try:\n",
    "    10/\"some string\"\n",
    "except TypeError as e:\n",
    "    print(\"Some string is being used in divison\", e)"
   ]
  },
  {
   "cell_type": "code",
   "execution_count": 11,
   "id": "b23bd2aa",
   "metadata": {},
   "outputs": [
    {
     "name": "stdout",
     "output_type": "stream",
     "text": [
      "Some string is being used in divison unsupported operand type(s) for /: 'int' and 'str'\n",
      "The calculation is 3.3333333333333335\n"
     ]
    }
   ],
   "source": [
    "# Benefit of Handling Specific Error: We know what error is expected and if\n",
    "# other error comes which we were not able to think, we will be able address that\n",
    "\n",
    "#example to handle some specific exception\n",
    "try:\n",
    "    10/\"3\"\n",
    "except TypeError as e:\n",
    "    print(\"Some string is being used in divison\", e)\n",
    "    print(\"The calculation is\", 10/int(\"3\"))"
   ]
  },
  {
   "cell_type": "code",
   "execution_count": 12,
   "id": "229a8afe",
   "metadata": {},
   "outputs": [
    {
     "name": "stdout",
     "output_type": "stream",
     "text": [
      "Here I am handling the zero divison error: division by zero\n",
      "Since the den value is 0, using default value 1, the quotient is  10.0\n"
     ]
    }
   ],
   "source": [
    "#another example of handling specific exception\n",
    "\n",
    "try:\n",
    "    10/0 \n",
    "except ZeroDivisionError as e:\n",
    "    print(\"Here I am handling the zero divison error:\", e)\n",
    "    print(\"Since the den value is 0, using default value 1, the quotient is \", 10/1)"
   ]
  },
  {
   "cell_type": "code",
   "execution_count": 13,
   "id": "e7a664d2",
   "metadata": {},
   "outputs": [
    {
     "ename": "ValueError",
     "evalue": "invalid literal for int() with base 10: 'datascience'",
     "output_type": "error",
     "traceback": [
      "\u001b[31m---------------------------------------------------------------------------\u001b[39m",
      "\u001b[31mValueError\u001b[39m                                Traceback (most recent call last)",
      "\u001b[36mCell\u001b[39m\u001b[36m \u001b[39m\u001b[32mIn[13]\u001b[39m\u001b[32m, line 1\u001b[39m\n\u001b[32m----> \u001b[39m\u001b[32m1\u001b[39m \u001b[38;5;28;43mint\u001b[39;49m\u001b[43m(\u001b[49m\u001b[33;43m\"\u001b[39;49m\u001b[33;43mdatascience\u001b[39;49m\u001b[33;43m\"\u001b[39;49m\u001b[43m)\u001b[49m\n",
      "\u001b[31mValueError\u001b[39m: invalid literal for int() with base 10: 'datascience'"
     ]
    }
   ],
   "source": [
    "int(\"datascience\")"
   ]
  },
  {
   "cell_type": "code",
   "execution_count": 14,
   "id": "7a2d5c9f",
   "metadata": {},
   "outputs": [
    {
     "name": "stdout",
     "output_type": "stream",
     "text": [
      "The string can not be converted to integer invalid literal for int() with base 10: 'datascicence'\n"
     ]
    }
   ],
   "source": [
    "try:\n",
    "    int(\"datascicence\")\n",
    "except ValueError as e:\n",
    "    print(\"The string can not be converted to integer\", e)"
   ]
  },
  {
   "cell_type": "code",
   "execution_count": 15,
   "id": "313b6fbc",
   "metadata": {},
   "outputs": [
    {
     "name": "stdout",
     "output_type": "stream",
     "text": [
      "The divison is not possible due the error>> unsupported operand type(s) for /: 'int' and 'str'\n"
     ]
    }
   ],
   "source": [
    "#handling two specific exception/multiple exceptions\n",
    "try:\n",
    "    10/\"3\"\n",
    "except (ZeroDivisionError, TypeError) as e:\n",
    "    print(\"The divison is not possible due the error>>\", e)"
   ]
  },
  {
   "cell_type": "code",
   "execution_count": 16,
   "id": "892b3130",
   "metadata": {},
   "outputs": [
    {
     "name": "stdout",
     "output_type": "stream",
     "text": [
      "The divison is not possible due the error>> division by zero\n"
     ]
    }
   ],
   "source": [
    "try:\n",
    "    10/0\n",
    "except (ZeroDivisionError, TypeError) as e:\n",
    "    print(\"The divison is not possible due the error>>\", e)"
   ]
  },
  {
   "cell_type": "code",
   "execution_count": 18,
   "id": "ec420655",
   "metadata": {},
   "outputs": [
    {
     "name": "stdout",
     "output_type": "stream",
     "text": [
      "The divison is not possible due the error:  division by zero\n"
     ]
    }
   ],
   "source": [
    "#handle multiple exceptions in separate blocks\n",
    "try:\n",
    "    10/0\n",
    "except ZeroDivisionError as e:\n",
    "    print(\"The divison is not possible due the error: \", e)\n",
    "except TypeError as e:\n",
    "    print(\"This is value error:\", e)"
   ]
  },
  {
   "cell_type": "code",
   "execution_count": 19,
   "id": "2c66ddbc",
   "metadata": {},
   "outputs": [
    {
     "ename": "TypeError",
     "evalue": "unsupported operand type(s) for /: 'int' and 'str'",
     "output_type": "error",
     "traceback": [
      "\u001b[31m---------------------------------------------------------------------------\u001b[39m",
      "\u001b[31mTypeError\u001b[39m                                 Traceback (most recent call last)",
      "\u001b[36mCell\u001b[39m\u001b[36m \u001b[39m\u001b[32mIn[19]\u001b[39m\u001b[32m, line 1\u001b[39m\n\u001b[32m----> \u001b[39m\u001b[32m1\u001b[39m \u001b[32;43m10\u001b[39;49m\u001b[43m/\u001b[49m\u001b[33;43m\"\u001b[39;49m\u001b[33;43msome string\u001b[39;49m\u001b[33;43m\"\u001b[39;49m\n",
      "\u001b[31mTypeError\u001b[39m: unsupported operand type(s) for /: 'int' and 'str'"
     ]
    }
   ],
   "source": [
    " 10/\"some string\""
   ]
  },
  {
   "cell_type": "code",
   "execution_count": 21,
   "id": "13525d8a",
   "metadata": {},
   "outputs": [
    {
     "name": "stdout",
     "output_type": "stream",
     "text": [
      "This is value error: unsupported operand type(s) for /: 'int' and 'str'\n"
     ]
    }
   ],
   "source": [
    "try:\n",
    "    10/\"some string\"\n",
    "except ZeroDivisionError as e:\n",
    "    print(\"The divison is not possible due the error:\", e)\n",
    "except TypeError as e:\n",
    "    print(\"This is value error:\", e)"
   ]
  },
  {
   "cell_type": "code",
   "execution_count": 22,
   "id": "b0908c73",
   "metadata": {},
   "outputs": [],
   "source": [
    "import csv"
   ]
  },
  {
   "cell_type": "code",
   "execution_count": 23,
   "id": "f1f1fa1a",
   "metadata": {},
   "outputs": [
    {
     "ename": "ModuleNotFoundError",
     "evalue": "No module named 'vikash'",
     "output_type": "error",
     "traceback": [
      "\u001b[31m---------------------------------------------------------------------------\u001b[39m",
      "\u001b[31mModuleNotFoundError\u001b[39m                       Traceback (most recent call last)",
      "\u001b[36mCell\u001b[39m\u001b[36m \u001b[39m\u001b[32mIn[23]\u001b[39m\u001b[32m, line 1\u001b[39m\n\u001b[32m----> \u001b[39m\u001b[32m1\u001b[39m \u001b[38;5;28;01mimport\u001b[39;00m\u001b[38;5;250m \u001b[39m\u001b[34;01mvikash\u001b[39;00m\n",
      "\u001b[31mModuleNotFoundError\u001b[39m: No module named 'vikash'"
     ]
    }
   ],
   "source": [
    "import vikash\n"
   ]
  },
  {
   "cell_type": "code",
   "execution_count": 24,
   "id": "08e3b8a0",
   "metadata": {},
   "outputs": [
    {
     "name": "stdout",
     "output_type": "stream",
     "text": [
      "The module not found No module named 'vikash'\n"
     ]
    }
   ],
   "source": [
    "try:\n",
    "    import vikash\n",
    "except ModuleNotFoundError as e:\n",
    "    print(\"The module not found\", e)"
   ]
  },
  {
   "cell_type": "code",
   "execution_count": 25,
   "id": "377c4592",
   "metadata": {},
   "outputs": [
    {
     "ename": "NameError",
     "evalue": "name 'test' is not defined",
     "output_type": "error",
     "traceback": [
      "\u001b[31m---------------------------------------------------------------------------\u001b[39m",
      "\u001b[31mNameError\u001b[39m                                 Traceback (most recent call last)",
      "\u001b[36mCell\u001b[39m\u001b[36m \u001b[39m\u001b[32mIn[25]\u001b[39m\u001b[32m, line 1\u001b[39m\n\u001b[32m----> \u001b[39m\u001b[32m1\u001b[39m \u001b[43mtest\u001b[49m()\n",
      "\u001b[31mNameError\u001b[39m: name 'test' is not defined"
     ]
    }
   ],
   "source": [
    "test()"
   ]
  },
  {
   "cell_type": "code",
   "execution_count": 26,
   "id": "ed5a55e1",
   "metadata": {},
   "outputs": [
    {
     "name": "stdout",
     "output_type": "stream",
     "text": [
      "name 'test' is not defined\n"
     ]
    }
   ],
   "source": [
    "try:\n",
    "    test()\n",
    "except NameError as e:\n",
    "    print(e)"
   ]
  },
  {
   "cell_type": "code",
   "execution_count": 28,
   "id": "771ff8ad",
   "metadata": {},
   "outputs": [
    {
     "ename": "KeyError",
     "evalue": "'age'",
     "output_type": "error",
     "traceback": [
      "\u001b[31m---------------------------------------------------------------------------\u001b[39m",
      "\u001b[31mKeyError\u001b[39m                                  Traceback (most recent call last)",
      "\u001b[36mCell\u001b[39m\u001b[36m \u001b[39m\u001b[32mIn[28]\u001b[39m\u001b[32m, line 2\u001b[39m\n\u001b[32m      1\u001b[39m d = {\u001b[33m\"\u001b[39m\u001b[33mname\u001b[39m\u001b[33m\"\u001b[39m: \u001b[33m\"\u001b[39m\u001b[33mVikash\u001b[39m\u001b[33m\"\u001b[39m, \u001b[33m\"\u001b[39m\u001b[33mclass\u001b[39m\u001b[33m\"\u001b[39m: \u001b[33m\"\u001b[39m\u001b[33mds\u001b[39m\u001b[33m\"\u001b[39m}\n\u001b[32m----> \u001b[39m\u001b[32m2\u001b[39m \u001b[43md\u001b[49m\u001b[43m[\u001b[49m\u001b[33;43m\"\u001b[39;49m\u001b[33;43mage\u001b[39;49m\u001b[33;43m\"\u001b[39;49m\u001b[43m]\u001b[49m\n",
      "\u001b[31mKeyError\u001b[39m: 'age'"
     ]
    }
   ],
   "source": [
    "d = {\"name\": \"Vikash\", \"class\": \"ds\"}\n",
    "d[\"age\"]"
   ]
  },
  {
   "cell_type": "code",
   "execution_count": 29,
   "id": "2f3e6610",
   "metadata": {},
   "outputs": [
    {
     "name": "stdout",
     "output_type": "stream",
     "text": [
      "The key is not found 'age'\n"
     ]
    }
   ],
   "source": [
    "try:\n",
    "    d = {\"name\": \"Vikash\", \"class\": \"ds\"}\n",
    "    d[\"age\"]\n",
    "except KeyError as e:\n",
    "    print(\"The key is not found\", e)"
   ]
  },
  {
   "cell_type": "code",
   "execution_count": 30,
   "id": "ec1289f8",
   "metadata": {},
   "outputs": [
    {
     "ename": "IndexError",
     "evalue": "list index out of range",
     "output_type": "error",
     "traceback": [
      "\u001b[31m---------------------------------------------------------------------------\u001b[39m",
      "\u001b[31mIndexError\u001b[39m                                Traceback (most recent call last)",
      "\u001b[36mCell\u001b[39m\u001b[36m \u001b[39m\u001b[32mIn[30]\u001b[39m\u001b[32m, line 2\u001b[39m\n\u001b[32m      1\u001b[39m l = [\u001b[32m1\u001b[39m, \u001b[32m2\u001b[39m, \u001b[32m3\u001b[39m, \u001b[32m4\u001b[39m]\n\u001b[32m----> \u001b[39m\u001b[32m2\u001b[39m \u001b[43ml\u001b[49m\u001b[43m[\u001b[49m\u001b[32;43m4\u001b[39;49m\u001b[43m]\u001b[49m\n",
      "\u001b[31mIndexError\u001b[39m: list index out of range"
     ]
    }
   ],
   "source": [
    "l = [1, 2, 3, 4]\n",
    "l[4]"
   ]
  },
  {
   "cell_type": "code",
   "execution_count": 31,
   "id": "a9996508",
   "metadata": {},
   "outputs": [
    {
     "name": "stdout",
     "output_type": "stream",
     "text": [
      "The index not found list index out of range\n"
     ]
    }
   ],
   "source": [
    "try:\n",
    "    l = [1, 2, 3, 4]\n",
    "    l[4]\n",
    "except IndexError as e:\n",
    "    print(\"The index not found\", e)"
   ]
  },
  {
   "cell_type": "code",
   "execution_count": 32,
   "id": "732d5da7",
   "metadata": {},
   "outputs": [
    {
     "ename": "FileNotFoundError",
     "evalue": "[Errno 2] No such file or directory: 'example.txt'",
     "output_type": "error",
     "traceback": [
      "\u001b[31m---------------------------------------------------------------------------\u001b[39m",
      "\u001b[31mFileNotFoundError\u001b[39m                         Traceback (most recent call last)",
      "\u001b[36mCell\u001b[39m\u001b[36m \u001b[39m\u001b[32mIn[32]\u001b[39m\u001b[32m, line 1\u001b[39m\n\u001b[32m----> \u001b[39m\u001b[32m1\u001b[39m f = \u001b[38;5;28;43mopen\u001b[39;49m\u001b[43m(\u001b[49m\u001b[33;43m\"\u001b[39;49m\u001b[33;43mexample.txt\u001b[39;49m\u001b[33;43m\"\u001b[39;49m\u001b[43m,\u001b[49m\u001b[43m \u001b[49m\u001b[33;43m\"\u001b[39;49m\u001b[33;43mr\u001b[39;49m\u001b[33;43m\"\u001b[39;49m\u001b[43m)\u001b[49m\n",
      "\u001b[36mFile \u001b[39m\u001b[32m~/.local/lib/python3.12/site-packages/IPython/core/interactiveshell.py:326\u001b[39m, in \u001b[36m_modified_open\u001b[39m\u001b[34m(file, *args, **kwargs)\u001b[39m\n\u001b[32m    319\u001b[39m \u001b[38;5;28;01mif\u001b[39;00m file \u001b[38;5;129;01min\u001b[39;00m {\u001b[32m0\u001b[39m, \u001b[32m1\u001b[39m, \u001b[32m2\u001b[39m}:\n\u001b[32m    320\u001b[39m     \u001b[38;5;28;01mraise\u001b[39;00m \u001b[38;5;167;01mValueError\u001b[39;00m(\n\u001b[32m    321\u001b[39m         \u001b[33mf\u001b[39m\u001b[33m\"\u001b[39m\u001b[33mIPython won\u001b[39m\u001b[33m'\u001b[39m\u001b[33mt let you open fd=\u001b[39m\u001b[38;5;132;01m{\u001b[39;00mfile\u001b[38;5;132;01m}\u001b[39;00m\u001b[33m by default \u001b[39m\u001b[33m\"\u001b[39m\n\u001b[32m    322\u001b[39m         \u001b[33m\"\u001b[39m\u001b[33mas it is likely to crash IPython. If you know what you are doing, \u001b[39m\u001b[33m\"\u001b[39m\n\u001b[32m    323\u001b[39m         \u001b[33m\"\u001b[39m\u001b[33myou can use builtins\u001b[39m\u001b[33m'\u001b[39m\u001b[33m open.\u001b[39m\u001b[33m\"\u001b[39m\n\u001b[32m    324\u001b[39m     )\n\u001b[32m--> \u001b[39m\u001b[32m326\u001b[39m \u001b[38;5;28;01mreturn\u001b[39;00m \u001b[43mio_open\u001b[49m\u001b[43m(\u001b[49m\u001b[43mfile\u001b[49m\u001b[43m,\u001b[49m\u001b[43m \u001b[49m\u001b[43m*\u001b[49m\u001b[43margs\u001b[49m\u001b[43m,\u001b[49m\u001b[43m \u001b[49m\u001b[43m*\u001b[49m\u001b[43m*\u001b[49m\u001b[43mkwargs\u001b[49m\u001b[43m)\u001b[49m\n",
      "\u001b[31mFileNotFoundError\u001b[39m: [Errno 2] No such file or directory: 'example.txt'"
     ]
    }
   ],
   "source": [
    "f = open(\"example.txt\", \"r\")\n"
   ]
  },
  {
   "cell_type": "code",
   "execution_count": 33,
   "id": "e913fa88",
   "metadata": {},
   "outputs": [
    {
     "name": "stdout",
     "output_type": "stream",
     "text": [
      "The following file was not created, please re run the code [Errno 2] No such file or directory: 'example.txt'\n"
     ]
    }
   ],
   "source": [
    "try:\n",
    "    f = open(\"example.txt\", \"r\")\n",
    "    f.read()\n",
    "except FileNotFoundError as e:\n",
    "    print(\"The following file was not created, please re run the code\", e)"
   ]
  },
  {
   "cell_type": "code",
   "execution_count": null,
   "id": "7229023e",
   "metadata": {},
   "outputs": [
    {
     "name": "stdout",
     "output_type": "stream",
     "text": [
      "first msg-----File is not opened due to [Errno 2] No such file or directory: 'example.txt'\n"
     ]
    }
   ],
   "source": [
    "#sometime we will not know what could be the possible exceptions\n",
    "try:\n",
    "    f = open(\"example.txt\", \"r\")\n",
    "    f.read()\n",
    "except Exception as e: #parent class\n",
    "    print(\"first msg-----File is not opened due to\", e)\n",
    "except FileNotFoundError as e:\n",
    "    print(\"The following file was not created, please re run the code\", e)"
   ]
  },
  {
   "cell_type": "code",
   "execution_count": 35,
   "id": "671dddc7",
   "metadata": {},
   "outputs": [
    {
     "name": "stdout",
     "output_type": "stream",
     "text": [
      "The following file was not created, please re run the code [Errno 2] No such file or directory: 'example.txt'\n"
     ]
    }
   ],
   "source": [
    "# Best Practice\n",
    "# In case, we know specific exception keep that block first \n",
    "# and the block of generic exception after that\n",
    "\n",
    "try:\n",
    "    f = open(\"example.txt\", \"r\")\n",
    "    f.read()\n",
    "except FileNotFoundError as e:\n",
    "    print(\"The following file was not created, please re run the code\", e)\n",
    "except Exception as e: #parent class\n",
    "    print(\"first msg-----File is not opened due to\", e)"
   ]
  },
  {
   "cell_type": "code",
   "execution_count": 37,
   "id": "00e07b9e",
   "metadata": {},
   "outputs": [
    {
     "name": "stdout",
     "output_type": "stream",
     "text": [
      "The error is unsupported operand type(s) for /: 'int' and 'str'\n"
     ]
    }
   ],
   "source": [
    "# another rexample of above case\n",
    "try:\n",
    "    10/\"string\"\n",
    "except ZeroDivisionError as e:\n",
    "    print(\"The divison is not possible due the error:\", e)\n",
    "except Exception as e:\n",
    "    print(\"The error is\", e)"
   ]
  },
  {
   "cell_type": "code",
   "execution_count": 38,
   "id": "8ca81d1a",
   "metadata": {},
   "outputs": [],
   "source": [
    "# Best Practice: Always try to log\n",
    "import logging\n",
    "logging.basicConfig(filename = \"program.log\", level = logging.DEBUG)\n",
    "try:\n",
    "    f = open(\"example.txt\", \"r\")\n",
    "    f.read()\n",
    "except FileNotFoundError as e:\n",
    "    logging.error(f\"My file was not found {e}\")"
   ]
  },
  {
   "cell_type": "code",
   "execution_count": 39,
   "id": "a965b808",
   "metadata": {},
   "outputs": [],
   "source": [
    "import logging\n",
    "logging.basicConfig(filename = \"program1.log\", level = logging.DEBUG)\n",
    "try:\n",
    "    10/0\n",
    "except ZeroDivisionError as e:\n",
    "    logging.error(f\"My file was not found {e}\")"
   ]
  },
  {
   "cell_type": "code",
   "execution_count": 40,
   "id": "ecbeec8e",
   "metadata": {},
   "outputs": [],
   "source": [
    "#putting exception handling in a function\n",
    "def test(file):\n",
    "    try:\n",
    "        f = open(file, \"r\")\n",
    "        f.read()\n",
    "    except FileNotFoundError as e:\n",
    "        print(f\"My file was not found {e}\")"
   ]
  },
  {
   "cell_type": "code",
   "execution_count": 41,
   "id": "ad800953",
   "metadata": {},
   "outputs": [
    {
     "name": "stdout",
     "output_type": "stream",
     "text": [
      "My file was not found [Errno 2] No such file or directory: 'example.txt'\n"
     ]
    }
   ],
   "source": [
    "test(\"example.txt\")"
   ]
  },
  {
   "cell_type": "code",
   "execution_count": 42,
   "id": "1a567b99",
   "metadata": {},
   "outputs": [
    {
     "name": "stdout",
     "output_type": "stream",
     "text": [
      "The divison is not possible due the error: division by zero\n"
     ]
    }
   ],
   "source": [
    "# Do not try to use unnecessary exception/multiple exception\n",
    "# Exmple:: filenotfound exception is never possible in divison\n",
    "# so no point to handle filenotfound error here\n",
    "# Instead we can handle typeError or use generic excepction class\n",
    "try:\n",
    "    10/0\n",
    "except ZeroDivisionError as e:\n",
    "    print(\"The divison is not possible due the error:\", e)\n",
    "except FileNotFoundError as e:\n",
    "    print(\"The error is\", e)"
   ]
  },
  {
   "cell_type": "code",
   "execution_count": 43,
   "id": "823fdba3",
   "metadata": {},
   "outputs": [],
   "source": [
    "#zero divion error doesnt make any sense here\n",
    "def test(file):\n",
    "    try:\n",
    "        f = open(file, \"r\")\n",
    "        f.read()\n",
    "    except FileNotFoundError as e:\n",
    "        print(f\"My file was not found {e}\")\n",
    "    except ZeroDivisionError as e:#unnecesary\n",
    "        print(\"The divison is not possible due the error:\", e) "
   ]
  },
  {
   "cell_type": "code",
   "execution_count": 44,
   "id": "29a2109a",
   "metadata": {},
   "outputs": [
    {
     "name": "stdout",
     "output_type": "stream",
     "text": [
      "My file was not found [Errno 2] No such file or directory: 'example.txt'\n"
     ]
    }
   ],
   "source": [
    "test(\"example.txt\")"
   ]
  },
  {
   "cell_type": "code",
   "execution_count": 45,
   "id": "8c2a8d9e",
   "metadata": {},
   "outputs": [],
   "source": [
    "# Best Practice:: Give Proper Documentation in docstring/proper comments in the code\n",
    "def test(file):\n",
    "    \"\"\"\n",
    "    This function is about is reading a file.\n",
    "    \n",
    "    Args:\n",
    "        input: file(str)\n",
    "        output: text(str)\n",
    "    \"\"\"\n",
    "    try:\n",
    "        f = open(file, \"r\")\n",
    "        f.read()\n",
    "    except FileNotFoundError as e:\n",
    "        print(f\"My file was not found {e}\")\n",
    "    #unnecesary exception\n",
    "    except ZeroDivisionError as e:\n",
    "        print(\"The divison is not possible due the error>>\", e) "
   ]
  },
  {
   "cell_type": "code",
   "execution_count": 46,
   "id": "14a2e0e2",
   "metadata": {},
   "outputs": [
    {
     "name": "stdout",
     "output_type": "stream",
     "text": [
      "My file was not found [Errno 2] No such file or directory: 'example.txt'\n"
     ]
    }
   ],
   "source": [
    "test(\"example.txt\")"
   ]
  },
  {
   "cell_type": "code",
   "execution_count": 47,
   "id": "9faf60da",
   "metadata": {},
   "outputs": [],
   "source": [
    "# Best Practice: Always clean up the resources using finally\n",
    "\n",
    "\n",
    "def test(file):\n",
    "    \"\"\"\n",
    "    This function is about is reading a file.\n",
    "    \n",
    "    Args:\n",
    "        input: file(str)\n",
    "        output: text(str)\n",
    "    \"\"\"\n",
    "    try:\n",
    "        f = open(file, \"w\")\n",
    "        f.write(\"Anything being written\")\n",
    "    except FileNotFoundError as e:\n",
    "        print(f\"My file was not found {e}\")\n",
    "    finally:\n",
    "        f.close()"
   ]
  },
  {
   "cell_type": "code",
   "execution_count": 48,
   "id": "fb862b70",
   "metadata": {},
   "outputs": [],
   "source": [
    "test(\"example.txt\")"
   ]
  },
  {
   "cell_type": "code",
   "execution_count": null,
   "id": "6bd33b1f",
   "metadata": {},
   "outputs": [],
   "source": []
  }
 ],
 "metadata": {
  "kernelspec": {
   "display_name": "Python 3",
   "language": "python",
   "name": "python3"
  },
  "language_info": {
   "codemirror_mode": {
    "name": "ipython",
    "version": 3
   },
   "file_extension": ".py",
   "mimetype": "text/x-python",
   "name": "python",
   "nbconvert_exporter": "python",
   "pygments_lexer": "ipython3",
   "version": "3.12.1"
  }
 },
 "nbformat": 4,
 "nbformat_minor": 5
}
