{
 "cells": [
  {
   "cell_type": "code",
   "execution_count": null,
   "id": "700a84e0",
   "metadata": {},
   "outputs": [],
   "source": [
    "#Vikash Kumar\n",
    "\n",
    "text_content = \"\"\" \n",
    "example1\n",
    "Vikash Kumar\n",
    "example2\n",
    "example3\n",
    "\"\"\""
   ]
  },
  {
   "cell_type": "code",
   "execution_count": 2,
   "id": "5f5e4e4b",
   "metadata": {},
   "outputs": [],
   "source": [
    "with open(\"example.txt\", \"w\") as file:\n",
    "    file.write(text_content)"
   ]
  },
  {
   "cell_type": "code",
   "execution_count": 3,
   "id": "7951b546",
   "metadata": {},
   "outputs": [
    {
     "name": "stdout",
     "output_type": "stream",
     "text": [
      " \n",
      "example1\n",
      "example2\n",
      "example3\n",
      "\n"
     ]
    }
   ],
   "source": [
    "with open(\"example.txt\", \"r\") as file:\n",
    "    data = file.read()\n",
    "print(data)"
   ]
  },
  {
   "cell_type": "code",
   "execution_count": 4,
   "id": "e007bb6d",
   "metadata": {},
   "outputs": [],
   "source": [
    "\n",
    "#csv: comma separated values file\n",
    "data = [[\"Name\", \"Course\", \"Fee\"],\n",
    "       [\"Ajay\", \"DS\", \"20000\"],\n",
    "       [\"Rahul\", \"DA\", \"30000\"]]"
   ]
  },
  {
   "cell_type": "code",
   "execution_count": 5,
   "id": "1eb2b623",
   "metadata": {},
   "outputs": [
    {
     "name": "stdout",
     "output_type": "stream",
     "text": [
      "['Name', 'Course', 'Fee']\n",
      "['Ajay', 'DS', '20000']\n",
      "['Rahul', 'DA', '30000']\n"
     ]
    }
   ],
   "source": [
    "for i in data:\n",
    "    print(i)"
   ]
  },
  {
   "cell_type": "code",
   "execution_count": 6,
   "id": "578c83eb",
   "metadata": {},
   "outputs": [],
   "source": [
    "import csv\n",
    "with open(\"example_csv.csv\", \"w\") as f:\n",
    "    w = csv.writer(f)\n",
    "    for i in data:\n",
    "        w.writerow(i)"
   ]
  },
  {
   "cell_type": "code",
   "execution_count": 7,
   "id": "b0f0b3b2",
   "metadata": {},
   "outputs": [
    {
     "name": "stdout",
     "output_type": "stream",
     "text": [
      "['Name', 'Course', 'Fee']\n",
      "['Ajay', 'DS', '20000']\n",
      "['Rahul', 'DA', '30000']\n"
     ]
    }
   ],
   "source": [
    "with open(\"example_csv.csv\", 'r') as f:\n",
    "    r = csv.reader(f)\n",
    "    for i in r:\n",
    "        print(i)"
   ]
  },
  {
   "cell_type": "code",
   "execution_count": 12,
   "id": "94e9bee7",
   "metadata": {},
   "outputs": [
    {
     "data": {
      "text/plain": [
       "{'name': 'Vikash', 'course': 'DS', 'fee': 2000}"
      ]
     },
     "execution_count": 12,
     "metadata": {},
     "output_type": "execute_result"
    }
   ],
   "source": [
    "#JSON>> Javascript object notation\n",
    "data = {\"name\": \"Vikash\",\n",
    "       \"course\":\"DS\",\n",
    "       \"fee\": 2000}\n",
    "data"
   ]
  },
  {
   "cell_type": "code",
   "execution_count": 13,
   "id": "1a415c55",
   "metadata": {},
   "outputs": [
    {
     "data": {
      "text/plain": [
       "dict"
      ]
     },
     "execution_count": 13,
     "metadata": {},
     "output_type": "execute_result"
    }
   ],
   "source": [
    "type(data)"
   ]
  },
  {
   "cell_type": "code",
   "execution_count": 14,
   "id": "09319edd",
   "metadata": {},
   "outputs": [],
   "source": [
    "import json\n",
    "with open(\"file_json.json\", \"w\") as f:\n",
    "    json.dump(data, f)"
   ]
  },
  {
   "cell_type": "code",
   "execution_count": 15,
   "id": "567abbcf",
   "metadata": {},
   "outputs": [
    {
     "name": "stdout",
     "output_type": "stream",
     "text": [
      "{'name': 'Vikash', 'course': 'DS', 'fee': 2000}\n"
     ]
    }
   ],
   "source": [
    "with open(\"file_json.json\", \"r\") as f:\n",
    "    data = json.load(f)\n",
    "print(data)"
   ]
  },
  {
   "cell_type": "code",
   "execution_count": 16,
   "id": "ad354c01",
   "metadata": {},
   "outputs": [],
   "source": [
    "# write a binary data in a file\n",
    "# wb:write byte mode\n",
    "with open(\"test_bin.bin\", \"wb\") as f:\n",
    "    f.write(b\"\\x48\\x65\\x6c\\x6c\\x6f\\x2c\\x20\\x57\\x6f\\x72\\x6c\\x64\\x21\")"
   ]
  },
  {
   "cell_type": "code",
   "execution_count": 17,
   "id": "547fcf11",
   "metadata": {},
   "outputs": [
    {
     "name": "stdout",
     "output_type": "stream",
     "text": [
      "b'Hello, World!'\n"
     ]
    }
   ],
   "source": [
    "with open(\"test_bin.bin\", \"rb\") as f:\n",
    "    print(f.read())"
   ]
  },
  {
   "cell_type": "code",
   "execution_count": 18,
   "id": "55daaa05",
   "metadata": {},
   "outputs": [],
   "source": [
    "# Buffered reading and writing\n",
    "# It alllows the program to read and write data in chunks\n",
    "# It increases teh performance and efficiency\n",
    "\n",
    "import io\n",
    "with open('test_buf.txt', \"wb\") as f:\n",
    "    file = io.BufferedWriter(f)\n",
    "    file.write(b\"Data science is an interdisciplinary academic field that uses statistics, scientific computing, scientific methods, processing, scientific visualization, algorithms and systems to extract or extrapolate knowledge from potentially noisy, structured, or unstructured data.\")\n",
    "    file.write(b\"Hello world, how are you?\")\n",
    "    file.write(b\"I am studying ds\")\n",
    "    file.flush()"
   ]
  },
  {
   "cell_type": "code",
   "execution_count": 19,
   "id": "5bcfbf26",
   "metadata": {},
   "outputs": [
    {
     "name": "stdout",
     "output_type": "stream",
     "text": [
      "b'Data science is an interdisciplinary academic field that uses statistics, scientific computing, scientific methods, processing, scientific visualizati'\n"
     ]
    }
   ],
   "source": [
    "with open('test_buf.txt', \"rb\") as f:\n",
    "    file = io.BufferedReader(f)\n",
    "    data = file.read(150) #read the first chunk of 100 bytes\n",
    "    print(data)"
   ]
  },
  {
   "cell_type": "code",
   "execution_count": null,
   "id": "a07a7e30",
   "metadata": {},
   "outputs": [],
   "source": []
  }
 ],
 "metadata": {
  "kernelspec": {
   "display_name": "Python 3",
   "language": "python",
   "name": "python3"
  },
  "language_info": {
   "codemirror_mode": {
    "name": "ipython",
    "version": 3
   },
   "file_extension": ".py",
   "mimetype": "text/x-python",
   "name": "python",
   "nbconvert_exporter": "python",
   "pygments_lexer": "ipython3",
   "version": "3.12.1"
  }
 },
 "nbformat": 4,
 "nbformat_minor": 5
}
