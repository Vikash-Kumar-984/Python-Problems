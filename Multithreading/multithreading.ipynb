{
 "cells": [
  {
   "cell_type": "code",
   "execution_count": 1,
   "id": "2773a980",
   "metadata": {},
   "outputs": [],
   "source": [
    "# A process is an instance of a computer program\n",
    "# Multiprocessing: Process runs parallely on multiple processors\n",
    "# Multithreading: Process runs concurrently on multiple threads in a processor"
   ]
  },
  {
   "cell_type": "code",
   "execution_count": 2,
   "id": "dd5018bd",
   "metadata": {},
   "outputs": [
    {
     "name": "stdout",
     "output_type": "stream",
     "text": [
      "Welcome Vikash!\n",
      "sleep for 1 sec\n",
      "done with sleeping\n",
      "The program finished in 1.0 seconds\n"
     ]
    }
   ],
   "source": [
    "import time\n",
    "start = time.perf_counter()\n",
    "\n",
    "def test_func():\n",
    "    print(\"Welcome Vikash!\")\n",
    "    print(\"sleep for 1 sec\")\n",
    "    time.sleep(1)\n",
    "    print(\"done with sleeping\")\n",
    "test_func()\n",
    "end = time.perf_counter()\n",
    "\n",
    "print(f\"The program finished in {round(end-start, 2)} seconds\")"
   ]
  },
  {
   "cell_type": "code",
   "execution_count": 3,
   "id": "a68bf904",
   "metadata": {},
   "outputs": [
    {
     "name": "stdout",
     "output_type": "stream",
     "text": [
      "Welcome Vikash!\n",
      "sleep for 1 sec\n",
      "done with sleeping\n",
      "Welcome Vikash!\n",
      "sleep for 1 sec\n",
      "done with sleeping\n",
      "Welcome Vikash!\n",
      "sleep for 1 sec\n",
      "done with sleeping\n",
      "Welcome Vikash!\n",
      "sleep for 1 sec\n",
      "done with sleeping\n",
      "Welcome Vikash!\n",
      "sleep for 1 sec\n",
      "done with sleeping\n",
      "The program finished in 5.0 seconds\n"
     ]
    }
   ],
   "source": [
    "import time\n",
    "start = time.perf_counter()\n",
    "\n",
    "def test_func():\n",
    "    print(\"Welcome Vikash!\")\n",
    "    print(\"sleep for 1 sec\")\n",
    "    time.sleep(1)\n",
    "    print(\"done with sleeping\")\n",
    "test_func()\n",
    "test_func()\n",
    "test_func()\n",
    "test_func()\n",
    "test_func()\n",
    "end = time.perf_counter()\n",
    "\n",
    "print(f\"The program finished in {round(end-start, 2)} seconds\")"
   ]
  },
  {
   "cell_type": "code",
   "execution_count": 4,
   "id": "5c46a75d",
   "metadata": {},
   "outputs": [],
   "source": [
    "# Since the program run sequentially(single thread on a single core), so it took 5 secs"
   ]
  },
  {
   "cell_type": "code",
   "execution_count": 5,
   "id": "484c1908",
   "metadata": {},
   "outputs": [
    {
     "name": "stdout",
     "output_type": "stream",
     "text": [
      "Welcome Wiry!\n",
      "Sleep for 1 sec\n",
      "Welcome Wiry!\n",
      "Sleep for 1 sec\n",
      "Done with sleeping\n",
      "Done with sleeping\n",
      "The program finished in 1.01 seconds\n"
     ]
    }
   ],
   "source": [
    "import time\n",
    "import threading #python module\n",
    "start = time.perf_counter()\n",
    "\n",
    "def test_func():\n",
    "    print(\"Welcome Wiry!\")\n",
    "    print(\"Sleep for 1 sec\")\n",
    "    time.sleep(1)\n",
    "    print(\"Done with sleeping\")\n",
    "\n",
    "#run the program on two threads\n",
    "t1 = threading.Thread(target = test_func)\n",
    "t2 = threading.Thread(target = test_func)\n",
    "\n",
    "t1.start() #to start the thread\n",
    "t2.start()\n",
    "\n",
    "t1.join() #join first executed these t1, t2 threads and then the main thread will be executed\n",
    "t2.join()\n",
    "\n",
    "end = time.perf_counter()\n",
    "\n",
    "print(f\"The program finished in {round(end-start, 2)} seconds\")"
   ]
  },
  {
   "cell_type": "code",
   "execution_count": 6,
   "id": "ac18b254",
   "metadata": {},
   "outputs": [],
   "source": [
    "# It takes just 1second to run the above program, due to multithreading"
   ]
  },
  {
   "cell_type": "code",
   "execution_count": 7,
   "id": "84f7faf6",
   "metadata": {},
   "outputs": [
    {
     "name": "stdout",
     "output_type": "stream",
     "text": [
      "Welcome Vikash!!!Welcome Vikash!!!\n",
      "Sleep for 1 sec\n",
      "Welcome Vikash!!!\n",
      "Sleep for 1 sec\n",
      "\n",
      "Sleep for 1 sec\n",
      "Welcome Vikash!!!\n",
      "Sleep for 1 sec\n",
      "Welcome Vikash!!!\n",
      "Sleep for 1 sec\n",
      "Welcome Vikash!!!\n",
      "Sleep for 1 sec\n",
      "Welcome Vikash!!!\n",
      "Sleep for 1 sec\n",
      "Welcome Vikash!!!\n",
      "Sleep for 1 sec\n",
      "Welcome Vikash!!!\n",
      "Sleep for 1 sec\n",
      "Welcome Vikash!!!\n",
      "Sleep for 1 sec\n",
      "Done with sleeping\n",
      "Done with sleeping\n",
      "Done with sleeping\n",
      "Done with sleeping\n",
      "Done with sleeping\n",
      "Done with sleeping\n",
      "Done with sleeping\n",
      "Done with sleeping\n",
      "Done with sleeping\n",
      "Done with sleeping\n",
      "The program finished in 1.01 seconds\n"
     ]
    }
   ],
   "source": [
    "import time\n",
    "import threading #python module\n",
    "start = time.perf_counter()\n",
    "\n",
    "def test_func():\n",
    "    print(\"Welcome Vikash!!!\")\n",
    "    print(\"Sleep for 1 sec\")\n",
    "    time.sleep(1)\n",
    "    print(\"Done with sleeping\")\n",
    "\n",
    "threads = []\n",
    "for i in range(10):\n",
    "    t = threading.Thread(target = test_func)\n",
    "    t.start()\n",
    "    threads.append(t)\n",
    "\n",
    "for thread in threads:\n",
    "    thread.join()\n",
    "\n",
    "\n",
    "end = time.perf_counter()\n",
    "\n",
    "print(f\"The program finished in {round(end-start, 2)} seconds\")"
   ]
  },
  {
   "cell_type": "code",
   "execution_count": 8,
   "id": "45b53e80",
   "metadata": {},
   "outputs": [],
   "source": [
    "# Since test_func is called in 10 times, it should have taken 10 secs but due to multithreading got completed in just 1 secs"
   ]
  },
  {
   "cell_type": "code",
   "execution_count": 9,
   "id": "04b344a0",
   "metadata": {},
   "outputs": [
    {
     "name": "stdout",
     "output_type": "stream",
     "text": [
      "Vikash, Let's go...\n",
      "Sleep for 2 sec\n",
      "Vikash, Let's go...\n",
      "Sleep for 2 sec\n",
      "Vikash, Let's go...\n",
      "Sleep for 2 sec\n",
      "Vikash, Let's go...\n",
      "Sleep for 2 sec\n",
      "Vikash, Let's go...\n",
      "Sleep for 2 sec\n",
      "Vikash, Let's go...\n",
      "Sleep for 2 sec\n",
      "Vikash, Let's go...\n",
      "Sleep for 2 sec\n",
      "Vikash, Let's go...\n",
      "Sleep for 2 sec\n",
      "Vikash, Let's go...\n",
      "Sleep for 2 sec\n",
      "Vikash, Let's go...\n",
      "Sleep for 2 sec\n",
      "Done with sleeping\n",
      "Done with sleeping\n",
      "Done with sleeping\n",
      "Done with sleeping\n",
      "Done with sleeping\n",
      "Done with sleeping\n",
      "Done with sleeping\n",
      "Done with sleeping\n",
      "Done with sleeping\n",
      "Done with sleeping\n",
      "The program finished in 2.02 seconds\n"
     ]
    }
   ],
   "source": [
    "# Using Multithreading with function that takes an argument\n",
    "\n",
    "import time\n",
    "import threading #python module\n",
    "start = time.perf_counter()\n",
    "\n",
    "def test_func(args):\n",
    "    print(\"Vikash, Let's go...\")\n",
    "    print(f\"Sleep for {args} sec\")\n",
    "    time.sleep(args)\n",
    "    print(\"Done with sleeping\")\n",
    "\n",
    "threads = []\n",
    "for i in range(10):\n",
    "    t = threading.Thread(target = test_func, args = [2])\n",
    "    t.start()\n",
    "    threads.append(t)\n",
    "\n",
    "for thread in threads:\n",
    "    thread.join()\n",
    "\n",
    "\n",
    "end = time.perf_counter()\n",
    "\n",
    "print(f\"The program finished in {round(end-start, 2)} seconds\")"
   ]
  },
  {
   "cell_type": "code",
   "execution_count": 10,
   "id": "c183cec0",
   "metadata": {},
   "outputs": [
    {
     "name": "stdout",
     "output_type": "stream",
     "text": [
      "The program finished in 2.08 seconds\n"
     ]
    }
   ],
   "source": [
    "# Use Case\n",
    "# Multithreading works well with I/O bound task means where some output has to wait for input\n",
    "# e.g., reading-writing files, network communiication, data base queries,etc.\n",
    "\n",
    "#https://github.com/itsfoss/text-files\n",
    "import time\n",
    "import threading\n",
    "start = time.perf_counter()\n",
    "url_list = [\n",
    "    'https://raw.githubusercontent.com/dscape/spell/master/test/resources/big.txt',\n",
    "    'https://raw.githubusercontent.com/first20hours/google-10000-english/master/google-10000-english-no-swears.txt',\n",
    "    'https://raw.githubusercontent.com/itsfoss/text-files/master/sherlock.txt' ,\n",
    "    'https://raw.githubusercontent.com/itsfoss/text-files/master/sample_log_file.txt',\n",
    "]\n",
    "\n",
    "data_list = [\"data1.txt\", \"data2.txt\", \"data3.txt\", \"data4.txt\"]\n",
    "\n",
    "import urllib.request\n",
    "\n",
    "def file_download(url, filename):\n",
    "    urllib.request.urlretrieve(url, filename)\n",
    "\n",
    "    \n",
    "threads = []\n",
    "for i in range(len(url_list)):\n",
    "    t = threading.Thread(target = file_download, args = (url_list[i], data_list[i]))\n",
    "    t.start()\n",
    "    threads.append(t)\n",
    "\n",
    "for thread in threads:\n",
    "    thread.join()\n",
    "\n",
    "\n",
    "end = time.perf_counter()\n",
    "\n",
    "print(f\"The program finished in {round(end-start, 2)} seconds\")\n"
   ]
  },
  {
   "cell_type": "code",
   "execution_count": 11,
   "id": "7ba9a19b",
   "metadata": {},
   "outputs": [],
   "source": [
    "# The above huge multiple files are downloaded in just 2 seconds, the power of multithreading :-)"
   ]
  },
  {
   "cell_type": "code",
   "execution_count": 12,
   "id": "738e8bdf",
   "metadata": {},
   "outputs": [
    {
     "name": "stdout",
     "output_type": "stream",
     "text": [
      "The program finished in 0.55 seconds.\n"
     ]
    }
   ],
   "source": [
    "# Multithreading using concurrent.futures (keeps code concise)\n",
    "\n",
    "\n",
    "import time\n",
    "import concurrent.futures\n",
    "start = time.perf_counter()\n",
    "\n",
    "url_list = [\n",
    "    'https://raw.githubusercontent.com/dscape/spell/master/test/resources/big.txt',\n",
    "    'https://raw.githubusercontent.com/first20hours/google-10000-english/master/google-10000-english-no-swears.txt',\n",
    "    'https://raw.githubusercontent.com/itsfoss/text-files/master/sherlock.txt' ,\n",
    "    'https://raw.githubusercontent.com/itsfoss/text-files/master/sample_log_file.txt',\n",
    "]\n",
    "\n",
    "\n",
    "data_list = ['data5.txt', 'data6.txt', 'data7.txt', 'data8.txt']\n",
    "    \n",
    "import urllib.request\n",
    "def file_download(url, filename):\n",
    "    urllib.request.urlretrieve(url, filename)\n",
    "\n",
    "with concurrent.futures.ThreadPoolExecutor() as executor:\n",
    "    executor.map(file_download, url_list, data_list)\n",
    "\n",
    "\n",
    "\n",
    "end = time.perf_counter()\n",
    "\n",
    "\n",
    "print(f\"The program finished in {round(end-start, 2)} seconds.\")\n"
   ]
  },
  {
   "cell_type": "code",
   "execution_count": 13,
   "id": "b41def4e",
   "metadata": {},
   "outputs": [],
   "source": [
    "# The concurrent.futures is much faster than urllib, just downloaded huge file in 0.55 seconds"
   ]
  },
  {
   "cell_type": "code",
   "execution_count": 14,
   "id": "fd7e16d4",
   "metadata": {},
   "outputs": [
    {
     "name": "stdout",
     "output_type": "stream",
     "text": [
      "Thread 1: incremented shared counter to 1\n",
      "Thread 2: incremented shared counter to 2\n",
      "Thread 3: incremented shared counter to 3\n",
      "Thread 4: incremented shared counter to 4\n",
      "Thread 5: incremented shared counter to 5\n",
      "Thread 6: incremented shared counter to 6\n",
      "The program finished in 6.01 seconds.\n"
     ]
    }
   ],
   "source": [
    "# Shared variable across all the threads\n",
    "\n",
    "start = time.perf_counter()\n",
    "shared_counter = 0\n",
    "counter_lock = threading.Lock() #locking the counter for a specific thread\n",
    "\n",
    "def increment_shared_counter(x):\n",
    "    global shared_counter #that can be accessed by all the threads\n",
    "    with counter_lock:\n",
    "        shared_counter = shared_counter+1\n",
    "        print(f\"Thread {x}: incremented shared counter to {shared_counter}\")\n",
    "        time.sleep(1)\n",
    "\n",
    "threads = [threading.Thread(target = increment_shared_counter, args = (i,)) for i in [1, 2, 3, 4, 5, 6]]\n",
    "\n",
    "for thread in threads:\n",
    "    thread.start()\n",
    "for thread in threads:\n",
    "    thread.join()\n",
    "\n",
    "end = time.perf_counter()\n",
    "print(f\"The program finished in {round(end-start, 2)} seconds.\")\n"
   ]
  },
  {
   "cell_type": "code",
   "execution_count": 15,
   "id": "b7b8b82b",
   "metadata": {},
   "outputs": [
    {
     "name": "stdout",
     "output_type": "stream",
     "text": [
      "Thread 1: incremented shared counter to 1\n",
      "Thread 2: incremented shared counter to 2\n",
      "Thread 3: incremented shared counter to 3\n",
      "Thread 4: incremented shared counter to 4\n",
      "Thread 5: incremented shared counter to 5\n",
      "Thread 6: incremented shared counter to 6\n",
      "The program finished in 6.01 seconds.\n"
     ]
    }
   ],
   "source": [
    "# The above same program using concurrent futures\n",
    "\n",
    "start = time.perf_counter()\n",
    "shared_counter = 0\n",
    "counter_lock = threading.Lock() #locking the counter for a specific thread\n",
    "\n",
    "def increment_shared_counter(x):\n",
    "    global shared_counter #that can be accessed by all the threads\n",
    "    with counter_lock:\n",
    "        shared_counter = shared_counter+1\n",
    "        print(f\"Thread {x}: incremented shared counter to {shared_counter}\")\n",
    "        time.sleep(1)\n",
    "\n",
    "with concurrent.futures.ThreadPoolExecutor() as executor:\n",
    "    thread_args = [1, 2, 3, 4, 5, 6]\n",
    "    executor.map(increment_shared_counter, thread_args)\n",
    "    \n",
    "end = time.perf_counter()\n",
    "print(f\"The program finished in {round(end-start, 2)} seconds.\")\n"
   ]
  },
  {
   "cell_type": "code",
   "execution_count": 16,
   "id": "de1d8981",
   "metadata": {},
   "outputs": [],
   "source": [
    "# Summary: shared variable can be incremented by individual threads of a process"
   ]
  },
  {
   "cell_type": "code",
   "execution_count": null,
   "id": "c7dd61d6",
   "metadata": {},
   "outputs": [],
   "source": []
  }
 ],
 "metadata": {
  "kernelspec": {
   "display_name": "Python 3",
   "language": "python",
   "name": "python3"
  },
  "language_info": {
   "codemirror_mode": {
    "name": "ipython",
    "version": 3
   },
   "file_extension": ".py",
   "mimetype": "text/x-python",
   "name": "python",
   "nbconvert_exporter": "python",
   "pygments_lexer": "ipython3",
   "version": "3.12.1"
  }
 },
 "nbformat": 4,
 "nbformat_minor": 5
}
