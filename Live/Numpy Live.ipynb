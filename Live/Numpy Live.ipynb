{
  "cells": [
    {
      "cell_type": "code",
      "execution_count": null,
      "id": "6d2d9eb1",
      "metadata": {
        "id": "6d2d9eb1"
      },
      "outputs": [],
      "source": [
        "!pip install numpy"
      ]
    },
    {
      "cell_type": "code",
      "execution_count": null,
      "id": "f86bade5-3891-4ea0-ae26-d73eb4a8034f",
      "metadata": {
        "id": "f86bade5-3891-4ea0-ae26-d73eb4a8034f"
      },
      "outputs": [],
      "source": [
        "import numpy as np"
      ]
    },
    {
      "cell_type": "code",
      "execution_count": null,
      "id": "5f259c90",
      "metadata": {
        "id": "5f259c90"
      },
      "outputs": [],
      "source": [
        "mylist = [1,2,3,4,5]"
      ]
    },
    {
      "cell_type": "code",
      "execution_count": null,
      "id": "8b5c5b4e",
      "metadata": {
        "id": "8b5c5b4e",
        "outputId": "340696ee-4a9c-433f-fcb2-39818ee8d45a"
      },
      "outputs": [
        {
          "name": "stdout",
          "output_type": "stream",
          "text": [
            "[1, 2, 3, 4, 5]\n"
          ]
        }
      ],
      "source": [
        "print(mylist)"
      ]
    },
    {
      "cell_type": "code",
      "execution_count": null,
      "id": "f482649f",
      "metadata": {
        "id": "f482649f"
      },
      "outputs": [],
      "source": [
        "np1 = np.array([1,2,3,4,5])"
      ]
    },
    {
      "cell_type": "code",
      "execution_count": null,
      "id": "db9918a2",
      "metadata": {
        "id": "db9918a2",
        "outputId": "a8566f51-e88a-4ac7-b947-6912b8aacea4"
      },
      "outputs": [
        {
          "name": "stdout",
          "output_type": "stream",
          "text": [
            "[1 2 3 4 5]\n"
          ]
        }
      ],
      "source": [
        "print(np1) #1d array"
      ]
    },
    {
      "cell_type": "code",
      "execution_count": null,
      "id": "bd3b0e80",
      "metadata": {
        "id": "bd3b0e80",
        "outputId": "75ea732d-529c-469e-b788-3391da89b110"
      },
      "outputs": [
        {
          "data": {
            "text/plain": [
              "numpy.ndarray"
            ]
          },
          "execution_count": 5,
          "metadata": {},
          "output_type": "execute_result"
        }
      ],
      "source": [
        "type(np1)"
      ]
    },
    {
      "cell_type": "code",
      "execution_count": null,
      "id": "4753caaf",
      "metadata": {
        "id": "4753caaf"
      },
      "outputs": [],
      "source": [
        "np2 = np.array((1,2,3,4,5))"
      ]
    },
    {
      "cell_type": "code",
      "execution_count": null,
      "id": "5a8b028a",
      "metadata": {
        "id": "5a8b028a",
        "outputId": "53cb7e8e-9f5e-4414-c6b7-703d2ba82990"
      },
      "outputs": [
        {
          "data": {
            "text/plain": [
              "array([1, 2, 3, 4, 5])"
            ]
          },
          "execution_count": 5,
          "metadata": {},
          "output_type": "execute_result"
        }
      ],
      "source": [
        "np2 #1d array"
      ]
    },
    {
      "cell_type": "code",
      "execution_count": null,
      "id": "a91abe0c",
      "metadata": {
        "id": "a91abe0c",
        "outputId": "d927bd73-9686-4351-8454-da1afd4d1c6e"
      },
      "outputs": [
        {
          "name": "stdout",
          "output_type": "stream",
          "text": [
            "[1 2 3 4 5]\n"
          ]
        }
      ],
      "source": [
        "print(np2)"
      ]
    },
    {
      "cell_type": "code",
      "execution_count": null,
      "id": "58cc803c",
      "metadata": {
        "id": "58cc803c",
        "outputId": "bbdc39de-a46e-4f6b-ba5f-c8ede6740c78"
      },
      "outputs": [
        {
          "data": {
            "text/plain": [
              "numpy.ndarray"
            ]
          },
          "execution_count": 8,
          "metadata": {},
          "output_type": "execute_result"
        }
      ],
      "source": [
        "type(np2)"
      ]
    },
    {
      "cell_type": "code",
      "execution_count": null,
      "id": "df46b85c",
      "metadata": {
        "id": "df46b85c"
      },
      "outputs": [],
      "source": [
        "np3 = np.array([[1,2,3],[4,5,6],[7,8,9]])"
      ]
    },
    {
      "cell_type": "code",
      "execution_count": null,
      "id": "5022744c",
      "metadata": {
        "id": "5022744c",
        "outputId": "b94d1154-ca77-4a8a-e81f-630a27bac0b1"
      },
      "outputs": [
        {
          "data": {
            "text/plain": [
              "array([[1, 2, 3],\n",
              "       [4, 5, 6],\n",
              "       [7, 8, 9]])"
            ]
          },
          "execution_count": 10,
          "metadata": {},
          "output_type": "execute_result"
        }
      ],
      "source": [
        "np3"
      ]
    },
    {
      "cell_type": "code",
      "execution_count": null,
      "id": "d17ff1d7",
      "metadata": {
        "id": "d17ff1d7"
      },
      "outputs": [],
      "source": [
        "np1d = np.array([1,2,3,4,5,6,7,8,9])"
      ]
    },
    {
      "cell_type": "code",
      "execution_count": null,
      "id": "044e447b",
      "metadata": {
        "id": "044e447b",
        "outputId": "6c4375c7-f55d-4f7b-edf2-bb8ebd966839"
      },
      "outputs": [
        {
          "data": {
            "text/plain": [
              "array([1, 2, 3, 4, 5, 6, 7, 8, 9])"
            ]
          },
          "execution_count": 8,
          "metadata": {},
          "output_type": "execute_result"
        }
      ],
      "source": [
        "np1d"
      ]
    },
    {
      "cell_type": "code",
      "execution_count": null,
      "id": "e94ea895",
      "metadata": {
        "id": "e94ea895"
      },
      "outputs": [],
      "source": [
        "np4 = np.array([[[4,6],[7,8]],[[1,2],[3,4]],[[0,1],[2,3]]])"
      ]
    },
    {
      "cell_type": "code",
      "execution_count": null,
      "id": "0ad659ad",
      "metadata": {
        "id": "0ad659ad",
        "outputId": "84f3a5b7-63e4-4e27-d8ed-73a688a23625"
      },
      "outputs": [
        {
          "data": {
            "text/plain": [
              "array([[[4, 6],\n",
              "        [7, 8]],\n",
              "\n",
              "       [[1, 2],\n",
              "        [3, 4]],\n",
              "\n",
              "       [[0, 1],\n",
              "        [2, 3]]])"
            ]
          },
          "execution_count": 19,
          "metadata": {},
          "output_type": "execute_result"
        }
      ],
      "source": [
        "np4"
      ]
    },
    {
      "cell_type": "code",
      "execution_count": null,
      "id": "90268268-2d40-48bd-ad91-a7f18679ed2b",
      "metadata": {
        "id": "90268268-2d40-48bd-ad91-a7f18679ed2b",
        "outputId": "8abe4e60-a9fc-40b5-8e62-3e6bd9b6bae4"
      },
      "outputs": [
        {
          "data": {
            "text/plain": [
              "numpy.ndarray"
            ]
          },
          "execution_count": 7,
          "metadata": {},
          "output_type": "execute_result"
        }
      ],
      "source": [
        "type(np4)"
      ]
    },
    {
      "cell_type": "code",
      "execution_count": null,
      "id": "60c82527",
      "metadata": {
        "id": "60c82527"
      },
      "outputs": [],
      "source": [
        "np3 = np.array([[1,2,3.2],[4,5,6],[7,8,9]], dtype=float)"
      ]
    },
    {
      "cell_type": "code",
      "execution_count": null,
      "id": "20c6f23a",
      "metadata": {
        "id": "20c6f23a",
        "outputId": "7ac14561-16ab-43ef-ac5d-6a3a3db25611"
      },
      "outputs": [
        {
          "data": {
            "text/plain": [
              "array([[1. , 2. , 3.2],\n",
              "       [4. , 5. , 6. ],\n",
              "       [7. , 8. , 9. ]])"
            ]
          },
          "execution_count": 9,
          "metadata": {},
          "output_type": "execute_result"
        }
      ],
      "source": [
        "np3"
      ]
    },
    {
      "cell_type": "code",
      "execution_count": null,
      "id": "89a8fca1",
      "metadata": {
        "id": "89a8fca1"
      },
      "outputs": [],
      "source": [
        "np5 = np.array([5.1,-1,\"s\",2])"
      ]
    },
    {
      "cell_type": "code",
      "execution_count": null,
      "id": "e2e598e9-8052-4a69-a01b-52de624a6c8e",
      "metadata": {
        "id": "e2e598e9-8052-4a69-a01b-52de624a6c8e"
      },
      "outputs": [],
      "source": [
        "#\"s\" - number?"
      ]
    },
    {
      "cell_type": "code",
      "execution_count": null,
      "id": "e770f123-3828-4e92-8f84-cf2489c4d2ce",
      "metadata": {
        "id": "e770f123-3828-4e92-8f84-cf2489c4d2ce"
      },
      "outputs": [],
      "source": [
        "#when array contains a char and number, number will be converted to character"
      ]
    },
    {
      "cell_type": "code",
      "execution_count": null,
      "id": "6810c64d",
      "metadata": {
        "id": "6810c64d",
        "outputId": "d05208ed-ace1-4676-fa9d-f502da478222"
      },
      "outputs": [
        {
          "data": {
            "text/plain": [
              "array(['5.1', '-1', 's', '2'], dtype='<U32')"
            ]
          },
          "execution_count": 13,
          "metadata": {},
          "output_type": "execute_result"
        }
      ],
      "source": [
        "np5"
      ]
    },
    {
      "cell_type": "code",
      "execution_count": null,
      "id": "8b646d74",
      "metadata": {
        "id": "8b646d74"
      },
      "outputs": [],
      "source": [
        "np6 = np.array([[2.4,1],[4.4,2],[2.1,1]])"
      ]
    },
    {
      "cell_type": "code",
      "execution_count": null,
      "id": "2a9a64a4-6a27-43c7-aa5b-388b8d865bd2",
      "metadata": {
        "id": "2a9a64a4-6a27-43c7-aa5b-388b8d865bd2"
      },
      "outputs": [],
      "source": [
        "#when there is an int, float, int will be converted to a float"
      ]
    },
    {
      "cell_type": "code",
      "execution_count": null,
      "id": "f894093d-6cc9-4541-95bd-8798ff914d8f",
      "metadata": {
        "id": "f894093d-6cc9-4541-95bd-8798ff914d8f"
      },
      "outputs": [],
      "source": [
        "#char > float > int"
      ]
    },
    {
      "cell_type": "code",
      "execution_count": null,
      "id": "99fdf8fe",
      "metadata": {
        "id": "99fdf8fe",
        "outputId": "ea8469bc-7cf0-41f3-a9eb-f1869d42df90"
      },
      "outputs": [
        {
          "data": {
            "text/plain": [
              "array([[2.4, 1. ],\n",
              "       [4.4, 2. ],\n",
              "       [2.1, 1. ]])"
            ]
          },
          "execution_count": 31,
          "metadata": {},
          "output_type": "execute_result"
        }
      ],
      "source": [
        "np6"
      ]
    },
    {
      "cell_type": "code",
      "execution_count": null,
      "id": "8dd806bf",
      "metadata": {
        "id": "8dd806bf",
        "outputId": "279c3f59-c9f0-4453-911e-7152311f5d71"
      },
      "outputs": [
        {
          "data": {
            "text/plain": [
              "2"
            ]
          },
          "execution_count": 19,
          "metadata": {},
          "output_type": "execute_result"
        }
      ],
      "source": [
        "np6.ndim"
      ]
    },
    {
      "cell_type": "code",
      "execution_count": null,
      "id": "68691f69",
      "metadata": {
        "id": "68691f69",
        "outputId": "c601eeeb-642d-4e6b-eb39-25c46328472d"
      },
      "outputs": [
        {
          "data": {
            "text/plain": [
              "1"
            ]
          },
          "execution_count": 20,
          "metadata": {},
          "output_type": "execute_result"
        }
      ],
      "source": [
        "np5.ndim"
      ]
    },
    {
      "cell_type": "code",
      "execution_count": null,
      "id": "5ce5f5bc",
      "metadata": {
        "id": "5ce5f5bc",
        "outputId": "685f68de-7f7e-4ba9-c53a-5f573ab63b77"
      },
      "outputs": [
        {
          "data": {
            "text/plain": [
              "3"
            ]
          },
          "execution_count": 21,
          "metadata": {},
          "output_type": "execute_result"
        }
      ],
      "source": [
        "np4.ndim"
      ]
    },
    {
      "cell_type": "code",
      "execution_count": null,
      "id": "881cf270",
      "metadata": {
        "id": "881cf270",
        "outputId": "c597e751-0ade-4c7c-ca69-986a0ea24ecc"
      },
      "outputs": [
        {
          "data": {
            "text/plain": [
              "(3, 2)"
            ]
          },
          "execution_count": 22,
          "metadata": {},
          "output_type": "execute_result"
        }
      ],
      "source": [
        "np6.shape"
      ]
    },
    {
      "cell_type": "code",
      "execution_count": null,
      "id": "f468204d",
      "metadata": {
        "id": "f468204d",
        "outputId": "700c924f-c3cd-4678-b0d3-964f3f9d9ca9"
      },
      "outputs": [
        {
          "data": {
            "text/plain": [
              "(3, 2, 2)"
            ]
          },
          "execution_count": 20,
          "metadata": {},
          "output_type": "execute_result"
        }
      ],
      "source": [
        "np4.shape"
      ]
    },
    {
      "cell_type": "code",
      "execution_count": null,
      "id": "adbbcc62",
      "metadata": {
        "id": "adbbcc62",
        "outputId": "adc1f71b-4013-4108-8de0-74d7e34278f6"
      },
      "outputs": [
        {
          "data": {
            "text/plain": [
              "(4,)"
            ]
          },
          "execution_count": 24,
          "metadata": {},
          "output_type": "execute_result"
        }
      ],
      "source": [
        "np5.shape"
      ]
    },
    {
      "cell_type": "code",
      "execution_count": null,
      "id": "1963785e",
      "metadata": {
        "id": "1963785e",
        "outputId": "df935cfe-c03d-4118-e6a4-d3cd544e0e97"
      },
      "outputs": [
        {
          "data": {
            "text/plain": [
              "6"
            ]
          },
          "execution_count": 25,
          "metadata": {},
          "output_type": "execute_result"
        }
      ],
      "source": [
        "np6.size"
      ]
    },
    {
      "cell_type": "code",
      "execution_count": null,
      "id": "f78f64db",
      "metadata": {
        "id": "f78f64db",
        "outputId": "c1798400-31e1-4867-843e-428469d46cc1"
      },
      "outputs": [
        {
          "data": {
            "text/plain": [
              "12"
            ]
          },
          "execution_count": 21,
          "metadata": {},
          "output_type": "execute_result"
        }
      ],
      "source": [
        "np4.size"
      ]
    },
    {
      "cell_type": "code",
      "execution_count": null,
      "id": "1cc18f96",
      "metadata": {
        "id": "1cc18f96",
        "outputId": "40764cb4-2b3a-4e63-d224-4f937fffc7d6"
      },
      "outputs": [
        {
          "data": {
            "text/plain": [
              "4"
            ]
          },
          "execution_count": 22,
          "metadata": {},
          "output_type": "execute_result"
        }
      ],
      "source": [
        "np5.size"
      ]
    },
    {
      "cell_type": "code",
      "execution_count": null,
      "id": "58112f4a-1f22-49a4-bee0-e94ae464b831",
      "metadata": {
        "id": "58112f4a-1f22-49a4-bee0-e94ae464b831"
      },
      "outputs": [],
      "source": [
        "#ndim - 1d, 2d, 3d?\n",
        "#shape - rows, cols?\n",
        "#size - individual elements?"
      ]
    },
    {
      "cell_type": "code",
      "execution_count": null,
      "id": "23b484d2",
      "metadata": {
        "id": "23b484d2",
        "outputId": "95d20133-0c8e-4572-dbf6-3388d354b4a1"
      },
      "outputs": [
        {
          "data": {
            "text/plain": [
              "dtype('<U32')"
            ]
          },
          "execution_count": 24,
          "metadata": {},
          "output_type": "execute_result"
        }
      ],
      "source": [
        "np6.dtype"
      ]
    },
    {
      "cell_type": "code",
      "execution_count": null,
      "id": "c8e22d6b",
      "metadata": {
        "id": "c8e22d6b",
        "outputId": "7993ed37-e051-4113-bc50-64f92b6f40c6"
      },
      "outputs": [
        {
          "data": {
            "text/plain": [
              "dtype('int64')"
            ]
          },
          "execution_count": 25,
          "metadata": {},
          "output_type": "execute_result"
        }
      ],
      "source": [
        "np4.dtype"
      ]
    },
    {
      "cell_type": "code",
      "execution_count": null,
      "id": "57f444ed",
      "metadata": {
        "id": "57f444ed",
        "outputId": "e584d301-0bab-4000-c379-0ca4161295e3"
      },
      "outputs": [
        {
          "data": {
            "text/plain": [
              "dtype('<U32')"
            ]
          },
          "execution_count": 26,
          "metadata": {},
          "output_type": "execute_result"
        }
      ],
      "source": [
        "np5.dtype"
      ]
    },
    {
      "cell_type": "code",
      "execution_count": null,
      "id": "804d7a91",
      "metadata": {
        "id": "804d7a91",
        "outputId": "d179d796-8f18-48d1-da0d-746695aa1829"
      },
      "outputs": [
        {
          "data": {
            "text/plain": [
              "128"
            ]
          },
          "execution_count": 27,
          "metadata": {},
          "output_type": "execute_result"
        }
      ],
      "source": [
        "np6.itemsize"
      ]
    },
    {
      "cell_type": "code",
      "execution_count": null,
      "id": "210af1a2",
      "metadata": {
        "id": "210af1a2",
        "outputId": "8706171d-decb-4e35-df4d-e190b4f3a114"
      },
      "outputs": [
        {
          "data": {
            "text/plain": [
              "4"
            ]
          },
          "execution_count": 32,
          "metadata": {},
          "output_type": "execute_result"
        }
      ],
      "source": [
        "np4.itemsize"
      ]
    },
    {
      "cell_type": "code",
      "execution_count": null,
      "id": "3eb24335",
      "metadata": {
        "id": "3eb24335",
        "outputId": "b97e451e-5262-4fde-919d-1aa3536560af"
      },
      "outputs": [
        {
          "data": {
            "text/plain": [
              "44"
            ]
          },
          "execution_count": 33,
          "metadata": {},
          "output_type": "execute_result"
        }
      ],
      "source": [
        "np5.itemsize"
      ]
    },
    {
      "cell_type": "code",
      "execution_count": null,
      "id": "f8f07cbf",
      "metadata": {
        "id": "f8f07cbf",
        "outputId": "6aa4cb20-b81d-4fdd-8584-7838a9d1eb84"
      },
      "outputs": [
        {
          "data": {
            "text/plain": [
              "array([[[1, 2],\n",
              "        [3, 4]],\n",
              "\n",
              "       [[5, 6],\n",
              "        [7, 8]]])"
            ]
          },
          "execution_count": 34,
          "metadata": {},
          "output_type": "execute_result"
        }
      ],
      "source": [
        "np4"
      ]
    },
    {
      "cell_type": "code",
      "execution_count": null,
      "id": "29dd25cc",
      "metadata": {
        "id": "29dd25cc",
        "outputId": "14c78363-5b56-4a49-d3c0-7ff7d55e5863"
      },
      "outputs": [
        {
          "data": {
            "text/plain": [
              "array(['5.1', '-1', 's', '2'], dtype='<U32')"
            ]
          },
          "execution_count": 32,
          "metadata": {},
          "output_type": "execute_result"
        }
      ],
      "source": [
        "np5"
      ]
    },
    {
      "cell_type": "code",
      "execution_count": null,
      "id": "693711cb",
      "metadata": {
        "id": "693711cb",
        "outputId": "66215892-a9b3-465a-b234-9adda1c6d468"
      },
      "outputs": [
        {
          "data": {
            "text/plain": [
              "np.str_('2')"
            ]
          },
          "execution_count": 36,
          "metadata": {},
          "output_type": "execute_result"
        }
      ],
      "source": [
        "np5[3]"
      ]
    },
    {
      "cell_type": "code",
      "execution_count": null,
      "id": "6ec144d2",
      "metadata": {
        "id": "6ec144d2",
        "outputId": "e5c8fe21-d182-4d9d-8ddd-94f22c8da036"
      },
      "outputs": [
        {
          "data": {
            "text/plain": [
              "array(['5.1', '-1', 's'], dtype='<U32')"
            ]
          },
          "execution_count": 37,
          "metadata": {},
          "output_type": "execute_result"
        }
      ],
      "source": [
        "np5[0:3]"
      ]
    },
    {
      "cell_type": "code",
      "execution_count": null,
      "id": "f4122efe",
      "metadata": {
        "id": "f4122efe",
        "outputId": "a7c7dafc-69d5-493e-e134-fea135227eb9"
      },
      "outputs": [
        {
          "data": {
            "text/plain": [
              "array([[2.4, 1. ],\n",
              "       [4.4, 2. ],\n",
              "       [2.1, 1. ]])"
            ]
          },
          "execution_count": 38,
          "metadata": {},
          "output_type": "execute_result"
        }
      ],
      "source": [
        "np6"
      ]
    },
    {
      "cell_type": "code",
      "execution_count": null,
      "id": "216b2e5d",
      "metadata": {
        "id": "216b2e5d",
        "outputId": "c62450ad-ba7b-49b5-9f54-dc28d9b00f21"
      },
      "outputs": [
        {
          "data": {
            "text/plain": [
              "np.float64(2.0)"
            ]
          },
          "execution_count": 39,
          "metadata": {},
          "output_type": "execute_result"
        }
      ],
      "source": [
        "np6[1,1]"
      ]
    },
    {
      "cell_type": "code",
      "execution_count": null,
      "id": "f2757804",
      "metadata": {
        "id": "f2757804",
        "outputId": "5d7f1f4f-d42c-44fe-bff8-c33053936a11"
      },
      "outputs": [
        {
          "data": {
            "text/plain": [
              "array([[[4, 6],\n",
              "        [7, 8]],\n",
              "\n",
              "       [[1, 2],\n",
              "        [3, 4]],\n",
              "\n",
              "       [[0, 1],\n",
              "        [2, 3]]])"
            ]
          },
          "execution_count": 41,
          "metadata": {},
          "output_type": "execute_result"
        }
      ],
      "source": [
        "np4 #[2darray,rows, cols] [1,1,1]"
      ]
    },
    {
      "cell_type": "code",
      "execution_count": null,
      "id": "c8de37cd",
      "metadata": {
        "id": "c8de37cd",
        "outputId": "b40b43c3-3c8c-413b-e77b-aea08c4591dd"
      },
      "outputs": [
        {
          "data": {
            "text/plain": [
              "np.int64(4)"
            ]
          },
          "execution_count": 45,
          "metadata": {},
          "output_type": "execute_result"
        }
      ],
      "source": [
        "np4[0,0,0]"
      ]
    },
    {
      "cell_type": "code",
      "execution_count": null,
      "id": "10af14ef",
      "metadata": {
        "id": "10af14ef"
      },
      "outputs": [],
      "source": [
        "np1 = np.array([1,2,3,4,5])"
      ]
    },
    {
      "cell_type": "code",
      "execution_count": null,
      "id": "2a9ea7a4-5a6c-41ae-aee0-30ce06de820c",
      "metadata": {
        "id": "2a9ea7a4-5a6c-41ae-aee0-30ce06de820c",
        "outputId": "12d70fcb-1c37-4868-b34b-97d496057519"
      },
      "outputs": [
        {
          "data": {
            "text/plain": [
              "array([1, 2, 3, 4, 5])"
            ]
          },
          "execution_count": 48,
          "metadata": {},
          "output_type": "execute_result"
        }
      ],
      "source": [
        "np1"
      ]
    },
    {
      "cell_type": "markdown",
      "source": [
        "# Masking: To hide something"
      ],
      "metadata": {
        "id": "Za5yN46MP9jW"
      },
      "id": "Za5yN46MP9jW"
    },
    {
      "cell_type": "code",
      "execution_count": null,
      "id": "acd151dd",
      "metadata": {
        "id": "acd151dd"
      },
      "outputs": [],
      "source": [
        "m1 = np.array([True, True, False, False, False]) #masking"
      ]
    },
    {
      "cell_type": "code",
      "execution_count": null,
      "id": "8ffd3f76-c268-4c4e-95a5-dbd115441393",
      "metadata": {
        "id": "8ffd3f76-c268-4c4e-95a5-dbd115441393",
        "outputId": "463f3585-a28f-4953-b34f-7baac156931d"
      },
      "outputs": [
        {
          "data": {
            "text/plain": [
              "array([ True,  True, False, False, False])"
            ]
          },
          "execution_count": 59,
          "metadata": {},
          "output_type": "execute_result"
        }
      ],
      "source": [
        "m1"
      ]
    },
    {
      "cell_type": "code",
      "execution_count": null,
      "id": "5c5bfa0f",
      "metadata": {
        "id": "5c5bfa0f",
        "outputId": "b5a97cb6-e8b1-4fdd-8157-9d05dfc53df4"
      },
      "outputs": [
        {
          "data": {
            "text/plain": [
              "array([1, 2])"
            ]
          },
          "execution_count": 60,
          "metadata": {},
          "output_type": "execute_result"
        }
      ],
      "source": [
        "np1[m1]"
      ]
    },
    {
      "cell_type": "code",
      "execution_count": null,
      "id": "c13ebcee",
      "metadata": {
        "id": "c13ebcee",
        "outputId": "2f2546a9-6906-423a-8722-0b78805ad4c6"
      },
      "outputs": [
        {
          "data": {
            "text/plain": [
              "array([1, 2, 3, 4, 5])"
            ]
          },
          "execution_count": 46,
          "metadata": {},
          "output_type": "execute_result"
        }
      ],
      "source": [
        "np2"
      ]
    },
    {
      "cell_type": "code",
      "execution_count": null,
      "id": "9d3603d9",
      "metadata": {
        "id": "9d3603d9",
        "outputId": "1da0bb4b-3ed4-4299-c5c4-97ca2f9d8b8e"
      },
      "outputs": [
        {
          "data": {
            "text/plain": [
              "array([[1., 2., 3.],\n",
              "       [4., 5., 6.],\n",
              "       [7., 8., 9.]])"
            ]
          },
          "execution_count": 47,
          "metadata": {},
          "output_type": "execute_result"
        }
      ],
      "source": [
        "np3"
      ]
    },
    {
      "cell_type": "code",
      "execution_count": null,
      "id": "d2b95417",
      "metadata": {
        "id": "d2b95417"
      },
      "outputs": [],
      "source": [
        "np3 = np.array([[1,2,3],[4,5,6],[7,8,9]])"
      ]
    },
    {
      "cell_type": "code",
      "execution_count": null,
      "id": "730e044e",
      "metadata": {
        "id": "730e044e"
      },
      "outputs": [],
      "source": [
        "m2 = np.array([[True, True, False],[True, False, True],[False, False, True]])"
      ]
    },
    {
      "cell_type": "code",
      "execution_count": null,
      "id": "88d06ced",
      "metadata": {
        "id": "88d06ced",
        "outputId": "f45997fd-3593-4193-d796-be0e8137c7cd"
      },
      "outputs": [
        {
          "data": {
            "text/plain": [
              "array([[ True,  True, False],\n",
              "       [ True, False,  True],\n",
              "       [False, False,  True]])"
            ]
          },
          "execution_count": 63,
          "metadata": {},
          "output_type": "execute_result"
        }
      ],
      "source": [
        "m2"
      ]
    },
    {
      "cell_type": "code",
      "execution_count": null,
      "id": "bdfa476c",
      "metadata": {
        "id": "bdfa476c",
        "outputId": "8d5a1893-70a6-488f-9182-ec89c3942007"
      },
      "outputs": [
        {
          "data": {
            "text/plain": [
              "array([1, 2, 4, 6, 9])"
            ]
          },
          "execution_count": 64,
          "metadata": {},
          "output_type": "execute_result"
        }
      ],
      "source": [
        "np3[m2]"
      ]
    },
    {
      "cell_type": "code",
      "execution_count": null,
      "id": "641953a7",
      "metadata": {
        "id": "641953a7"
      },
      "outputs": [],
      "source": [
        "np4 = np.array([[[1,2],[3,4]],[[5,6],[7,8]]])"
      ]
    },
    {
      "cell_type": "code",
      "execution_count": null,
      "id": "6dd58c84",
      "metadata": {
        "id": "6dd58c84"
      },
      "outputs": [],
      "source": [
        "m4 = np.array([[[True,False],[True,False]],[[True,False],[True,False]]])"
      ]
    },
    {
      "cell_type": "code",
      "execution_count": null,
      "id": "efea28b7",
      "metadata": {
        "id": "efea28b7",
        "outputId": "24ce34d9-f5d0-4173-c8ce-bd09386a10a0"
      },
      "outputs": [
        {
          "data": {
            "text/plain": [
              "array([1, 3, 5, 7])"
            ]
          },
          "execution_count": 67,
          "metadata": {},
          "output_type": "execute_result"
        }
      ],
      "source": [
        "np4[m4]"
      ]
    },
    {
      "cell_type": "code",
      "execution_count": null,
      "id": "238d9091",
      "metadata": {
        "id": "238d9091",
        "outputId": "6332ba3d-c239-4a29-b1ea-e7d5e05b803f"
      },
      "outputs": [
        {
          "data": {
            "text/plain": [
              "array([[1, 2, 3],\n",
              "       [4, 5, 6],\n",
              "       [7, 8, 9]])"
            ]
          },
          "execution_count": 18,
          "metadata": {},
          "output_type": "execute_result"
        }
      ],
      "source": [
        "np3"
      ]
    },
    {
      "cell_type": "code",
      "execution_count": null,
      "id": "a763c7cd",
      "metadata": {
        "id": "a763c7cd",
        "outputId": "e9af96bf-275b-4e5e-96b3-88646b9bc123"
      },
      "outputs": [
        {
          "data": {
            "text/plain": [
              "array([[1]])"
            ]
          },
          "execution_count": 21,
          "metadata": {},
          "output_type": "execute_result"
        }
      ],
      "source": [
        "np3[0:1,0:1]"
      ]
    },
    {
      "cell_type": "code",
      "execution_count": null,
      "id": "f09f58c8",
      "metadata": {
        "id": "f09f58c8",
        "outputId": "b8f77ae3-7e78-4a28-9b71-f84fe8b6905c"
      },
      "outputs": [
        {
          "data": {
            "text/plain": [
              "array([[5, 6],\n",
              "       [8, 9]])"
            ]
          },
          "execution_count": 22,
          "metadata": {},
          "output_type": "execute_result"
        }
      ],
      "source": [
        "np3[1:,1:]"
      ]
    },
    {
      "cell_type": "code",
      "execution_count": null,
      "id": "64c32c68",
      "metadata": {
        "id": "64c32c68",
        "outputId": "13a83ebc-0a58-448d-8c2b-06a57cffb527"
      },
      "outputs": [
        {
          "data": {
            "text/plain": [
              "array([[[1, 2],\n",
              "        [3, 4]],\n",
              "\n",
              "       [[5, 6],\n",
              "        [7, 8]]])"
            ]
          },
          "execution_count": 23,
          "metadata": {},
          "output_type": "execute_result"
        }
      ],
      "source": [
        "np4"
      ]
    },
    {
      "cell_type": "code",
      "execution_count": null,
      "id": "390055dc",
      "metadata": {
        "id": "390055dc",
        "outputId": "e5856eb0-44ee-4259-a6f8-3b995e726397"
      },
      "outputs": [
        {
          "data": {
            "text/plain": [
              "array([[[1]],\n",
              "\n",
              "       [[5]]])"
            ]
          },
          "execution_count": 25,
          "metadata": {},
          "output_type": "execute_result"
        }
      ],
      "source": [
        "np4[0:2,0:1,0:1]"
      ]
    },
    {
      "cell_type": "code",
      "execution_count": null,
      "id": "dade5bcc",
      "metadata": {
        "id": "dade5bcc"
      },
      "outputs": [],
      "source": [
        "a = np.array([1,2,3])\n",
        "b = np.array([4,5,6])"
      ]
    },
    {
      "cell_type": "code",
      "execution_count": null,
      "id": "5517612c",
      "metadata": {
        "id": "5517612c"
      },
      "outputs": [],
      "source": [
        "c = a + b"
      ]
    },
    {
      "cell_type": "code",
      "execution_count": null,
      "id": "de023671",
      "metadata": {
        "id": "de023671",
        "outputId": "d706d222-753b-47c0-a488-ad0d4ab36a86"
      },
      "outputs": [
        {
          "name": "stdout",
          "output_type": "stream",
          "text": [
            "[5 7 9]\n"
          ]
        }
      ],
      "source": [
        "print(c)"
      ]
    },
    {
      "cell_type": "code",
      "execution_count": null,
      "id": "46f50d0d",
      "metadata": {
        "id": "46f50d0d"
      },
      "outputs": [],
      "source": [
        "c = a - b"
      ]
    },
    {
      "cell_type": "code",
      "execution_count": null,
      "id": "40c0231a",
      "metadata": {
        "id": "40c0231a",
        "outputId": "83ba50dc-26de-463d-cdb7-b94de79830c1"
      },
      "outputs": [
        {
          "name": "stdout",
          "output_type": "stream",
          "text": [
            "[-3 -3 -3]\n"
          ]
        }
      ],
      "source": [
        "print(c)"
      ]
    },
    {
      "cell_type": "code",
      "execution_count": null,
      "id": "0488595e",
      "metadata": {
        "id": "0488595e"
      },
      "outputs": [],
      "source": [
        "c = a * b"
      ]
    },
    {
      "cell_type": "code",
      "execution_count": null,
      "id": "7a5bc417",
      "metadata": {
        "id": "7a5bc417",
        "outputId": "35d72c84-bbc5-4f99-dd1f-f44fb325c8c6"
      },
      "outputs": [
        {
          "name": "stdout",
          "output_type": "stream",
          "text": [
            "[ 4 10 18]\n"
          ]
        }
      ],
      "source": [
        "print(c)"
      ]
    },
    {
      "cell_type": "code",
      "execution_count": null,
      "id": "71b8f811",
      "metadata": {
        "id": "71b8f811"
      },
      "outputs": [],
      "source": [
        "c = b / a"
      ]
    },
    {
      "cell_type": "code",
      "execution_count": null,
      "id": "b75498af",
      "metadata": {
        "id": "b75498af",
        "outputId": "630eecf8-2bd0-47d6-9cb3-2bb08b07917b"
      },
      "outputs": [
        {
          "name": "stdout",
          "output_type": "stream",
          "text": [
            "[4.  2.5 2. ]\n"
          ]
        }
      ],
      "source": [
        "print(c)"
      ]
    },
    {
      "cell_type": "code",
      "execution_count": null,
      "id": "41ee62f7",
      "metadata": {
        "id": "41ee62f7",
        "outputId": "9fc48087-1100-47ce-8971-2d327a5e5a1e"
      },
      "outputs": [
        {
          "data": {
            "text/plain": [
              "array([1, 2, 3])"
            ]
          },
          "execution_count": 77,
          "metadata": {},
          "output_type": "execute_result"
        }
      ],
      "source": [
        "a"
      ]
    },
    {
      "cell_type": "code",
      "execution_count": null,
      "id": "002ae367",
      "metadata": {
        "id": "002ae367"
      },
      "outputs": [],
      "source": [
        "h = a ** 3"
      ]
    },
    {
      "cell_type": "code",
      "execution_count": null,
      "id": "bcef647c",
      "metadata": {
        "id": "bcef647c",
        "outputId": "84ed06f6-ef73-4156-9d57-6c0bfcd7658b"
      },
      "outputs": [
        {
          "data": {
            "text/plain": [
              "array([ 1,  8, 27])"
            ]
          },
          "execution_count": 83,
          "metadata": {},
          "output_type": "execute_result"
        }
      ],
      "source": [
        "h"
      ]
    },
    {
      "cell_type": "code",
      "execution_count": null,
      "id": "680ff583",
      "metadata": {
        "id": "680ff583"
      },
      "outputs": [],
      "source": [
        "c = b % a"
      ]
    },
    {
      "cell_type": "code",
      "execution_count": null,
      "id": "277b159f-4236-4101-980b-1b6c0b2d3e7c",
      "metadata": {
        "id": "277b159f-4236-4101-980b-1b6c0b2d3e7c",
        "outputId": "48194a9a-bb1f-493a-f80c-d1f017ce65cf"
      },
      "outputs": [
        {
          "data": {
            "text/plain": [
              "array([  1,  32, 729])"
            ]
          },
          "execution_count": 86,
          "metadata": {},
          "output_type": "execute_result"
        }
      ],
      "source": [
        "a ** b"
      ]
    },
    {
      "cell_type": "code",
      "execution_count": null,
      "id": "21dbb4d7",
      "metadata": {
        "id": "21dbb4d7",
        "outputId": "169d389a-8e02-4be6-e04e-016c8830fbb9"
      },
      "outputs": [
        {
          "data": {
            "text/plain": [
              "array([0, 1, 0])"
            ]
          },
          "execution_count": 85,
          "metadata": {},
          "output_type": "execute_result"
        }
      ],
      "source": [
        "c"
      ]
    },
    {
      "cell_type": "code",
      "execution_count": null,
      "id": "adf568db",
      "metadata": {
        "id": "adf568db",
        "outputId": "062f787f-138c-4400-8cfc-bb6eb2f1ae44"
      },
      "outputs": [
        {
          "data": {
            "text/plain": [
              "array([[1., 2., 3.],\n",
              "       [4., 5., 6.],\n",
              "       [7., 8., 9.]])"
            ]
          },
          "execution_count": 74,
          "metadata": {},
          "output_type": "execute_result"
        }
      ],
      "source": [
        "np3"
      ]
    },
    {
      "cell_type": "code",
      "execution_count": null,
      "id": "8519c45f",
      "metadata": {
        "id": "8519c45f",
        "outputId": "ed5d4ca3-3d4b-4e45-eea2-be8945228fc1"
      },
      "outputs": [
        {
          "data": {
            "text/plain": [
              "array([[1., 4., 7.],\n",
              "       [2., 5., 8.],\n",
              "       [3., 6., 9.]])"
            ]
          },
          "execution_count": 75,
          "metadata": {},
          "output_type": "execute_result"
        }
      ],
      "source": [
        "np3.transpose()"
      ]
    },
    {
      "cell_type": "code",
      "execution_count": null,
      "id": "e0694a4c",
      "metadata": {
        "id": "e0694a4c",
        "outputId": "7ba697f0-7faf-4fec-9b5e-e160903984fa"
      },
      "outputs": [
        {
          "data": {
            "text/plain": [
              "array([[1., 2., 3.],\n",
              "       [4., 5., 6.],\n",
              "       [7., 8., 9.]])"
            ]
          },
          "execution_count": 76,
          "metadata": {},
          "output_type": "execute_result"
        }
      ],
      "source": [
        "np3"
      ]
    },
    {
      "cell_type": "code",
      "execution_count": null,
      "id": "7317ccc5",
      "metadata": {
        "id": "7317ccc5",
        "outputId": "bd7f0f99-d82f-4921-d2cf-dc10b0e3474c"
      },
      "outputs": [
        {
          "data": {
            "text/plain": [
              "array([1, 2, 3, 4, 5])"
            ]
          },
          "execution_count": 77,
          "metadata": {},
          "output_type": "execute_result"
        }
      ],
      "source": [
        "np1"
      ]
    },
    {
      "cell_type": "code",
      "execution_count": null,
      "id": "9c207d48",
      "metadata": {
        "id": "9c207d48"
      },
      "outputs": [],
      "source": [
        "np1 = np.array([5,1,3,4,2])"
      ]
    },
    {
      "cell_type": "code",
      "execution_count": null,
      "id": "1350271c",
      "metadata": {
        "id": "1350271c",
        "outputId": "30b22593-c52b-4a97-d293-36678e05f544"
      },
      "outputs": [
        {
          "data": {
            "text/plain": [
              "array([5, 1, 3, 4, 2])"
            ]
          },
          "execution_count": 88,
          "metadata": {},
          "output_type": "execute_result"
        }
      ],
      "source": [
        "np1"
      ]
    },
    {
      "cell_type": "code",
      "execution_count": null,
      "id": "91b8561d",
      "metadata": {
        "id": "91b8561d",
        "outputId": "f3802fb1-8f9f-4673-b2f8-6d359a3867fb"
      },
      "outputs": [
        {
          "data": {
            "text/plain": [
              "array([1, 2, 3, 4, 5])"
            ]
          },
          "execution_count": 89,
          "metadata": {},
          "output_type": "execute_result"
        }
      ],
      "source": [
        "np.sort(np1)"
      ]
    },
    {
      "cell_type": "code",
      "execution_count": null,
      "id": "d5c77eff",
      "metadata": {
        "id": "d5c77eff"
      },
      "outputs": [],
      "source": [
        "np2 = np.array([[5,2,3],[7,1,6],[8,4,9]])"
      ]
    },
    {
      "cell_type": "code",
      "execution_count": null,
      "id": "cb3f3778",
      "metadata": {
        "id": "cb3f3778",
        "outputId": "df097178-1698-47b5-eb5a-fca202c6c77f"
      },
      "outputs": [
        {
          "data": {
            "text/plain": [
              "array([[5, 2, 3],\n",
              "       [7, 1, 6],\n",
              "       [8, 4, 9]])"
            ]
          },
          "execution_count": 91,
          "metadata": {},
          "output_type": "execute_result"
        }
      ],
      "source": [
        "np2"
      ]
    },
    {
      "cell_type": "code",
      "execution_count": null,
      "id": "e531d95a-793f-4efb-afa5-0705ff3d2ece",
      "metadata": {
        "id": "e531d95a-793f-4efb-afa5-0705ff3d2ece",
        "outputId": "4f77cd3e-6537-48a7-8759-895ff6616908"
      },
      "outputs": [
        {
          "data": {
            "text/plain": [
              "array([[2, 3, 5],\n",
              "       [1, 6, 7],\n",
              "       [4, 8, 9]])"
            ]
          },
          "execution_count": 92,
          "metadata": {},
          "output_type": "execute_result"
        }
      ],
      "source": [
        "np.sort(np2)"
      ]
    },
    {
      "cell_type": "code",
      "execution_count": null,
      "id": "d3547b94",
      "metadata": {
        "id": "d3547b94",
        "outputId": "4654c3a3-d402-4ddb-cb3c-d0c1294c2175"
      },
      "outputs": [
        {
          "data": {
            "text/plain": [
              "array([[2, 3, 5],\n",
              "       [1, 6, 7],\n",
              "       [4, 8, 9]])"
            ]
          },
          "execution_count": 38,
          "metadata": {},
          "output_type": "execute_result"
        }
      ],
      "source": [
        "np.sort(np2, axis = 1)"
      ]
    },
    {
      "cell_type": "code",
      "execution_count": null,
      "id": "02be85fd",
      "metadata": {
        "id": "02be85fd",
        "outputId": "cb6ee6de-7d01-4ecc-ad44-6c77112c8557"
      },
      "outputs": [
        {
          "data": {
            "text/plain": [
              "array([[5, 1, 3],\n",
              "       [7, 2, 6],\n",
              "       [8, 4, 9]])"
            ]
          },
          "execution_count": 36,
          "metadata": {},
          "output_type": "execute_result"
        }
      ],
      "source": [
        "np.sort(np2,axis = 0)"
      ]
    },
    {
      "cell_type": "code",
      "execution_count": null,
      "id": "9d1986cc-98fd-4290-8552-8a3b4165845c",
      "metadata": {
        "id": "9d1986cc-98fd-4290-8552-8a3b4165845c"
      },
      "outputs": [],
      "source": [
        "#1 - rows will be sorted individually in asc\n",
        "#0 - cols will be sorted individually in asc\n",
        "#none - by default rows will be sorted individually"
      ]
    },
    {
      "cell_type": "code",
      "execution_count": null,
      "id": "4d058e83",
      "metadata": {
        "id": "4d058e83",
        "outputId": "78c08529-cac2-487e-840c-fe92a154f150"
      },
      "outputs": [
        {
          "data": {
            "text/plain": [
              "array([[2, 3, 5],\n",
              "       [1, 6, 7],\n",
              "       [4, 8, 9]])"
            ]
          },
          "execution_count": 37,
          "metadata": {},
          "output_type": "execute_result"
        }
      ],
      "source": [
        "np.sort(np2, axis = 1)"
      ]
    },
    {
      "cell_type": "code",
      "execution_count": null,
      "id": "6e8d2114",
      "metadata": {
        "id": "6e8d2114",
        "outputId": "28785bd0-0c5f-4b71-a23f-fee55db0a126"
      },
      "outputs": [
        {
          "data": {
            "text/plain": [
              "array([5, 1, 3, 4, 2])"
            ]
          },
          "execution_count": 86,
          "metadata": {},
          "output_type": "execute_result"
        }
      ],
      "source": [
        "np1"
      ]
    },
    {
      "cell_type": "code",
      "execution_count": null,
      "id": "d05700b4",
      "metadata": {
        "id": "d05700b4",
        "outputId": "82b0f658-28d0-41b3-c912-b045c61b4872"
      },
      "outputs": [
        {
          "data": {
            "text/plain": [
              "array([1, 2, 3, 4, 5])"
            ]
          },
          "execution_count": 94,
          "metadata": {},
          "output_type": "execute_result"
        }
      ],
      "source": [
        "np.sort(np1)"
      ]
    },
    {
      "cell_type": "code",
      "execution_count": null,
      "id": "3240cfac",
      "metadata": {
        "id": "3240cfac",
        "outputId": "747f6095-ba33-4837-f580-7f5ab469d1c3"
      },
      "outputs": [
        {
          "data": {
            "text/plain": [
              "array([1, 4, 2, 3, 0])"
            ]
          },
          "execution_count": 95,
          "metadata": {},
          "output_type": "execute_result"
        }
      ],
      "source": [
        "np.argsort(np1)"
      ]
    },
    {
      "cell_type": "code",
      "execution_count": null,
      "id": "beeeff31",
      "metadata": {
        "id": "beeeff31",
        "outputId": "2ae3edd0-9c61-4917-e6b6-9b8bf6fb6b7d"
      },
      "outputs": [
        {
          "data": {
            "text/plain": [
              "array([1, 2, 3])"
            ]
          },
          "execution_count": 89,
          "metadata": {},
          "output_type": "execute_result"
        }
      ],
      "source": [
        "a"
      ]
    },
    {
      "cell_type": "code",
      "execution_count": null,
      "id": "958c4726",
      "metadata": {
        "id": "958c4726",
        "outputId": "d1bf6967-566f-4565-ac4c-ec2c005d77eb"
      },
      "outputs": [
        {
          "data": {
            "text/plain": [
              "array([4, 5, 6])"
            ]
          },
          "execution_count": 90,
          "metadata": {},
          "output_type": "execute_result"
        }
      ],
      "source": [
        "b"
      ]
    },
    {
      "cell_type": "code",
      "execution_count": null,
      "id": "6c837fa6",
      "metadata": {
        "id": "6c837fa6",
        "outputId": "2bf5f791-18e5-4812-e7c3-bd5ca5f62582"
      },
      "outputs": [
        {
          "data": {
            "text/plain": [
              "array([4, 5, 6, 1, 2, 3])"
            ]
          },
          "execution_count": 97,
          "metadata": {},
          "output_type": "execute_result"
        }
      ],
      "source": [
        "np.concatenate((b,a))"
      ]
    },
    {
      "cell_type": "code",
      "execution_count": null,
      "id": "a31a05f4",
      "metadata": {
        "id": "a31a05f4",
        "outputId": "72bd108d-d036-4cdd-9113-ce941d8b9040"
      },
      "outputs": [
        {
          "data": {
            "text/plain": [
              "array([1, 2, 3])"
            ]
          },
          "execution_count": 92,
          "metadata": {},
          "output_type": "execute_result"
        }
      ],
      "source": [
        "a"
      ]
    },
    {
      "cell_type": "code",
      "execution_count": null,
      "id": "629567a1",
      "metadata": {
        "id": "629567a1"
      },
      "outputs": [],
      "source": [
        "c = np.array([4,5])"
      ]
    },
    {
      "cell_type": "code",
      "execution_count": null,
      "id": "865613cb",
      "metadata": {
        "id": "865613cb",
        "outputId": "b53473cf-f6fc-4f6b-ab0f-2bd4fd409f7e"
      },
      "outputs": [
        {
          "data": {
            "text/plain": [
              "array([4, 5])"
            ]
          },
          "execution_count": 94,
          "metadata": {},
          "output_type": "execute_result"
        }
      ],
      "source": [
        "c"
      ]
    },
    {
      "cell_type": "code",
      "execution_count": null,
      "id": "6c2f8975",
      "metadata": {
        "id": "6c2f8975",
        "outputId": "3de48cec-a820-4a1d-e5b7-f36046a8cefd"
      },
      "outputs": [
        {
          "data": {
            "text/plain": [
              "array([1, 2, 3, 4, 5])"
            ]
          },
          "execution_count": 95,
          "metadata": {},
          "output_type": "execute_result"
        }
      ],
      "source": [
        "np.concatenate((a,c))"
      ]
    },
    {
      "cell_type": "code",
      "execution_count": null,
      "id": "c79f4888",
      "metadata": {
        "id": "c79f4888"
      },
      "outputs": [],
      "source": [
        "a1 = np.array([[1,2,3],[4,5,6]])"
      ]
    },
    {
      "cell_type": "code",
      "execution_count": null,
      "id": "1c67c231",
      "metadata": {
        "id": "1c67c231",
        "outputId": "440f179b-bdce-4582-9f65-cc5a352dd42d"
      },
      "outputs": [
        {
          "data": {
            "text/plain": [
              "array([[1, 2, 3],\n",
              "       [4, 5, 6]])"
            ]
          },
          "execution_count": 40,
          "metadata": {},
          "output_type": "execute_result"
        }
      ],
      "source": [
        "a1"
      ]
    },
    {
      "cell_type": "code",
      "execution_count": null,
      "id": "4cf753d3",
      "metadata": {
        "id": "4cf753d3"
      },
      "outputs": [],
      "source": [
        "a2 = np.array([[7,8],[9,10]])"
      ]
    },
    {
      "cell_type": "code",
      "execution_count": null,
      "id": "c19e0d2b",
      "metadata": {
        "id": "c19e0d2b",
        "outputId": "801e4d4b-9fe9-4d5f-aba6-0d1e8314df28"
      },
      "outputs": [
        {
          "data": {
            "text/plain": [
              "array([[ 7,  8],\n",
              "       [ 9, 10]])"
            ]
          },
          "execution_count": 42,
          "metadata": {},
          "output_type": "execute_result"
        }
      ],
      "source": [
        "a2"
      ]
    },
    {
      "cell_type": "code",
      "execution_count": null,
      "id": "4d607bee",
      "metadata": {
        "id": "4d607bee",
        "outputId": "141c7d93-97d1-441e-f5dd-5d1cf95c6860"
      },
      "outputs": [
        {
          "data": {
            "text/plain": [
              "array([[ 1,  2,  3,  7,  8],\n",
              "       [ 4,  5,  6,  9, 10]])"
            ]
          },
          "execution_count": 43,
          "metadata": {},
          "output_type": "execute_result"
        }
      ],
      "source": [
        "np.concatenate((a1,a2), axis = 1)"
      ]
    },
    {
      "cell_type": "code",
      "execution_count": null,
      "id": "eb5f409c",
      "metadata": {
        "id": "eb5f409c",
        "outputId": "4887a1c0-7faf-49de-ddf9-fc0e51b610a7"
      },
      "outputs": [
        {
          "ename": "ValueError",
          "evalue": "all the input array dimensions for the concatenation axis must match exactly, but along dimension 1, the array at index 0 has size 3 and the array at index 1 has size 2",
          "output_type": "error",
          "traceback": [
            "\u001b[1;31m---------------------------------------------------------------------------\u001b[0m",
            "\u001b[1;31mValueError\u001b[0m                                Traceback (most recent call last)",
            "Cell \u001b[1;32mIn[44], line 1\u001b[0m\n\u001b[1;32m----> 1\u001b[0m \u001b[43mnp\u001b[49m\u001b[38;5;241;43m.\u001b[39;49m\u001b[43mconcatenate\u001b[49m\u001b[43m(\u001b[49m\u001b[43m(\u001b[49m\u001b[43ma1\u001b[49m\u001b[43m,\u001b[49m\u001b[43ma2\u001b[49m\u001b[43m)\u001b[49m\u001b[43m,\u001b[49m\u001b[43m \u001b[49m\u001b[43maxis\u001b[49m\u001b[43m \u001b[49m\u001b[38;5;241;43m=\u001b[39;49m\u001b[43m \u001b[49m\u001b[38;5;241;43m0\u001b[39;49m\u001b[43m)\u001b[49m\n",
            "File \u001b[1;32m<__array_function__ internals>:180\u001b[0m, in \u001b[0;36mconcatenate\u001b[1;34m(*args, **kwargs)\u001b[0m\n",
            "\u001b[1;31mValueError\u001b[0m: all the input array dimensions for the concatenation axis must match exactly, but along dimension 1, the array at index 0 has size 3 and the array at index 1 has size 2"
          ]
        }
      ],
      "source": [
        "np.concatenate((a1,a2), axis = 0)"
      ]
    },
    {
      "cell_type": "code",
      "execution_count": null,
      "id": "4e252165",
      "metadata": {
        "id": "4e252165"
      },
      "outputs": [],
      "source": [
        "n1 = np.array([1,2,3,4,5,6]) #1,6 or 6,1 or 23 or 32"
      ]
    },
    {
      "cell_type": "code",
      "execution_count": null,
      "id": "c7552d0d",
      "metadata": {
        "id": "c7552d0d",
        "outputId": "e5db5e7f-0632-4590-e810-9a975d6ea142"
      },
      "outputs": [
        {
          "data": {
            "text/plain": [
              "array([1, 2, 3, 4, 5, 6])"
            ]
          },
          "execution_count": 103,
          "metadata": {},
          "output_type": "execute_result"
        }
      ],
      "source": [
        "n1"
      ]
    },
    {
      "cell_type": "code",
      "execution_count": null,
      "id": "74a27dc2",
      "metadata": {
        "id": "74a27dc2",
        "outputId": "7fcddf2b-9c95-4496-a4a2-5d53db2e6b70"
      },
      "outputs": [
        {
          "data": {
            "text/plain": [
              "array([[1, 2, 3],\n",
              "       [4, 5, 6]])"
            ]
          },
          "execution_count": 104,
          "metadata": {},
          "output_type": "execute_result"
        }
      ],
      "source": [
        "n1.reshape(2,3)"
      ]
    },
    {
      "cell_type": "code",
      "execution_count": null,
      "id": "f7b5ff01",
      "metadata": {
        "id": "f7b5ff01",
        "outputId": "da487ee8-6f50-46e3-b12a-82ca0f92b6cb"
      },
      "outputs": [
        {
          "data": {
            "text/plain": [
              "array([[1, 2],\n",
              "       [3, 4],\n",
              "       [5, 6]])"
            ]
          },
          "execution_count": 105,
          "metadata": {},
          "output_type": "execute_result"
        }
      ],
      "source": [
        "n1.reshape(3,2)"
      ]
    },
    {
      "cell_type": "code",
      "execution_count": null,
      "id": "bca758f7",
      "metadata": {
        "id": "bca758f7",
        "outputId": "beb60da0-01e7-4229-fc32-b43db17eba8f"
      },
      "outputs": [
        {
          "data": {
            "text/plain": [
              "array([[1, 2, 3, 4, 5, 6]])"
            ]
          },
          "execution_count": 106,
          "metadata": {},
          "output_type": "execute_result"
        }
      ],
      "source": [
        "n1.reshape(1,6)"
      ]
    },
    {
      "cell_type": "code",
      "execution_count": null,
      "id": "da1f9610",
      "metadata": {
        "id": "da1f9610",
        "outputId": "44807d1b-54f0-4c01-c140-411992fc8132"
      },
      "outputs": [
        {
          "data": {
            "text/plain": [
              "array([[1],\n",
              "       [2],\n",
              "       [3],\n",
              "       [4],\n",
              "       [5],\n",
              "       [6]])"
            ]
          },
          "execution_count": 107,
          "metadata": {},
          "output_type": "execute_result"
        }
      ],
      "source": [
        "n1.reshape(6,1)"
      ]
    },
    {
      "cell_type": "code",
      "execution_count": null,
      "id": "83e6823a",
      "metadata": {
        "id": "83e6823a",
        "outputId": "8e1d5421-d2b6-4f23-e0de-c7f553cbb2e9"
      },
      "outputs": [
        {
          "data": {
            "text/plain": [
              "array([[[1]],\n",
              "\n",
              "       [[2]],\n",
              "\n",
              "       [[3]],\n",
              "\n",
              "       [[4]],\n",
              "\n",
              "       [[5]],\n",
              "\n",
              "       [[6]]])"
            ]
          },
          "execution_count": 108,
          "metadata": {},
          "output_type": "execute_result"
        }
      ],
      "source": [
        "n1.reshape(6,1,1)"
      ]
    },
    {
      "cell_type": "code",
      "execution_count": null,
      "id": "c4f563e3",
      "metadata": {
        "id": "c4f563e3"
      },
      "outputs": [],
      "source": [
        "n1 = np.array([1,2,3,4,5,6,7,8,9,10,11,12])"
      ]
    },
    {
      "cell_type": "code",
      "execution_count": null,
      "id": "9e5e9d20",
      "metadata": {
        "id": "9e5e9d20"
      },
      "outputs": [],
      "source": [
        "n3 = n1.reshape(2,3,2) #2 - 2darrays , rows - 3, cols - 2"
      ]
    },
    {
      "cell_type": "code",
      "execution_count": null,
      "id": "aa83d469",
      "metadata": {
        "id": "aa83d469",
        "outputId": "e9a165b1-1626-43fc-d102-d47debfd6d94"
      },
      "outputs": [
        {
          "data": {
            "text/plain": [
              "array([[[ 1,  2],\n",
              "        [ 3,  4],\n",
              "        [ 5,  6]],\n",
              "\n",
              "       [[ 7,  8],\n",
              "        [ 9, 10],\n",
              "        [11, 12]]])"
            ]
          },
          "execution_count": 47,
          "metadata": {},
          "output_type": "execute_result"
        }
      ],
      "source": [
        "n3"
      ]
    },
    {
      "cell_type": "code",
      "execution_count": null,
      "id": "ec453359",
      "metadata": {
        "id": "ec453359",
        "outputId": "768dc108-90b2-4cda-f186-437ce02c3095"
      },
      "outputs": [
        {
          "data": {
            "text/plain": [
              "array([[5, 2, 3],\n",
              "       [7, 1, 6],\n",
              "       [8, 4, 9]])"
            ]
          },
          "execution_count": 98,
          "metadata": {},
          "output_type": "execute_result"
        }
      ],
      "source": [
        "np2"
      ]
    },
    {
      "cell_type": "code",
      "execution_count": null,
      "id": "a3651e3a",
      "metadata": {
        "id": "a3651e3a",
        "outputId": "72dc7ec0-1424-4c1a-a585-02abe409eac2"
      },
      "outputs": [
        {
          "data": {
            "text/plain": [
              "array([5, 2, 3, 7, 1, 6, 8, 4, 9])"
            ]
          },
          "execution_count": 114,
          "metadata": {},
          "output_type": "execute_result"
        }
      ],
      "source": [
        "np2.reshape(-1) #flattening the array"
      ]
    },
    {
      "cell_type": "code",
      "execution_count": null,
      "id": "0e1bbbab-8afc-41d2-ab0f-8d454350a239",
      "metadata": {
        "id": "0e1bbbab-8afc-41d2-ab0f-8d454350a239",
        "outputId": "ed89b71a-6b39-4a62-956e-e81a4823c457"
      },
      "outputs": [
        {
          "ename": "NameError",
          "evalue": "name 'n3' is not defined",
          "output_type": "error",
          "traceback": [
            "\u001b[1;31m---------------------------------------------------------------------------\u001b[0m",
            "\u001b[1;31mNameError\u001b[0m                                 Traceback (most recent call last)",
            "Cell \u001b[1;32mIn[99], line 1\u001b[0m\n\u001b[1;32m----> 1\u001b[0m n3\n",
            "\u001b[1;31mNameError\u001b[0m: name 'n3' is not defined"
          ]
        }
      ],
      "source": [
        "n3"
      ]
    },
    {
      "cell_type": "code",
      "execution_count": null,
      "id": "7c98c693",
      "metadata": {
        "id": "7c98c693",
        "outputId": "f1daecea-5043-4978-df7e-0c6b8015fe47"
      },
      "outputs": [
        {
          "data": {
            "text/plain": [
              "array([[[ 1,  2],\n",
              "        [ 3,  4],\n",
              "        [ 5,  6]],\n",
              "\n",
              "       [[ 7,  8],\n",
              "        [ 9, 10],\n",
              "        [11, 12]]])"
            ]
          },
          "execution_count": 117,
          "metadata": {},
          "output_type": "execute_result"
        }
      ],
      "source": [
        "n3"
      ]
    },
    {
      "cell_type": "code",
      "execution_count": null,
      "id": "8b37e00d",
      "metadata": {
        "id": "8b37e00d",
        "outputId": "e263a253-6dfd-49db-9b19-a8a040190f27"
      },
      "outputs": [
        {
          "data": {
            "text/plain": [
              "array([ 1,  2,  3,  4,  5,  6,  7,  8,  9, 10, 11, 12])"
            ]
          },
          "execution_count": 118,
          "metadata": {},
          "output_type": "execute_result"
        }
      ],
      "source": [
        "n3.reshape(-1)"
      ]
    },
    {
      "cell_type": "code",
      "execution_count": null,
      "id": "2743b942",
      "metadata": {
        "id": "2743b942",
        "outputId": "fbd90dc4-614f-4dc1-faf9-967bad5ea4b7"
      },
      "outputs": [
        {
          "data": {
            "text/plain": [
              "array([ 1,  2,  3,  4,  5,  6,  7,  8,  9, 10, 11, 12])"
            ]
          },
          "execution_count": 119,
          "metadata": {},
          "output_type": "execute_result"
        }
      ],
      "source": [
        "n1"
      ]
    },
    {
      "cell_type": "code",
      "execution_count": null,
      "id": "e2452608",
      "metadata": {
        "id": "e2452608",
        "outputId": "347e1b0d-d0b4-4b26-d6f2-ddfcb22a2fef"
      },
      "outputs": [
        {
          "data": {
            "text/plain": [
              "[array([1, 2, 3, 4]), array([5, 6, 7, 8]), array([ 9, 10, 11, 12])]"
            ]
          },
          "execution_count": 52,
          "metadata": {},
          "output_type": "execute_result"
        }
      ],
      "source": [
        "np.split(n1,3)"
      ]
    },
    {
      "cell_type": "code",
      "execution_count": null,
      "id": "5daa8fb7",
      "metadata": {
        "id": "5daa8fb7",
        "outputId": "0dc279b9-dc94-4b9f-d3a7-f628164d1c90"
      },
      "outputs": [
        {
          "data": {
            "text/plain": [
              "array([[5, 2, 3],\n",
              "       [7, 1, 6],\n",
              "       [8, 4, 9]])"
            ]
          },
          "execution_count": 122,
          "metadata": {},
          "output_type": "execute_result"
        }
      ],
      "source": [
        "np2"
      ]
    },
    {
      "cell_type": "code",
      "execution_count": null,
      "id": "e85c7c29",
      "metadata": {
        "id": "e85c7c29",
        "outputId": "089fef5b-6d9d-47ef-be9b-6b888446fbb5"
      },
      "outputs": [
        {
          "data": {
            "text/plain": [
              "5.0"
            ]
          },
          "execution_count": 123,
          "metadata": {},
          "output_type": "execute_result"
        }
      ],
      "source": [
        "np.mean(np2)"
      ]
    },
    {
      "cell_type": "code",
      "execution_count": null,
      "id": "8e2c9101",
      "metadata": {
        "id": "8e2c9101",
        "outputId": "5bd44073-0835-4f41-b267-fe076121e8ce"
      },
      "outputs": [
        {
          "data": {
            "text/plain": [
              "array([6.66666667, 2.33333333, 6.        ])"
            ]
          },
          "execution_count": 124,
          "metadata": {},
          "output_type": "execute_result"
        }
      ],
      "source": [
        "np.mean(np2, axis = 0)"
      ]
    },
    {
      "cell_type": "code",
      "execution_count": null,
      "id": "23fb717d",
      "metadata": {
        "id": "23fb717d",
        "outputId": "f036beeb-4e79-4dd7-df65-cf8f1520b18b"
      },
      "outputs": [
        {
          "data": {
            "text/plain": [
              "array([3.33333333, 4.66666667, 7.        ])"
            ]
          },
          "execution_count": 125,
          "metadata": {},
          "output_type": "execute_result"
        }
      ],
      "source": [
        "np.mean(np2, axis = 1)"
      ]
    },
    {
      "cell_type": "markdown",
      "id": "71fc36d5",
      "metadata": {
        "id": "71fc36d5"
      },
      "source": [
        "#median, std, min, max, sum"
      ]
    },
    {
      "cell_type": "code",
      "execution_count": null,
      "id": "aa33222d",
      "metadata": {
        "id": "aa33222d"
      },
      "outputs": [],
      "source": [
        "np0 = np.ones(5)"
      ]
    },
    {
      "cell_type": "code",
      "execution_count": null,
      "id": "96027d8a",
      "metadata": {
        "id": "96027d8a",
        "outputId": "e449c47b-e42a-4469-a732-e6803c79c772"
      },
      "outputs": [
        {
          "data": {
            "text/plain": [
              "array([1., 1., 1., 1., 1.])"
            ]
          },
          "execution_count": 132,
          "metadata": {},
          "output_type": "execute_result"
        }
      ],
      "source": [
        "np0"
      ]
    },
    {
      "cell_type": "code",
      "execution_count": null,
      "id": "c9379b7d",
      "metadata": {
        "id": "c9379b7d",
        "outputId": "1092858b-3edc-4267-c0b1-50df43ec64e8"
      },
      "outputs": [
        {
          "data": {
            "text/plain": [
              "array([[1., 1., 1., 1.],\n",
              "       [1., 1., 1., 1.]])"
            ]
          },
          "execution_count": 134,
          "metadata": {},
          "output_type": "execute_result"
        }
      ],
      "source": [
        "np.ones((2,4))"
      ]
    },
    {
      "cell_type": "code",
      "execution_count": null,
      "id": "1b8ff9b6",
      "metadata": {
        "id": "1b8ff9b6",
        "outputId": "e634a707-4fac-493e-eb6d-cd78cc6d3638"
      },
      "outputs": [
        {
          "data": {
            "text/plain": [
              "array([[[1., 1., 1., 1.],\n",
              "        [1., 1., 1., 1.]],\n",
              "\n",
              "       [[1., 1., 1., 1.],\n",
              "        [1., 1., 1., 1.]]])"
            ]
          },
          "execution_count": 135,
          "metadata": {},
          "output_type": "execute_result"
        }
      ],
      "source": [
        "np.ones((2,2,4))"
      ]
    },
    {
      "cell_type": "code",
      "execution_count": null,
      "id": "1198e18b",
      "metadata": {
        "id": "1198e18b",
        "outputId": "d05053b9-9e4b-4c4b-e396-1601dfb33ad3"
      },
      "outputs": [
        {
          "data": {
            "text/plain": [
              "array([7, 7, 7, 7, 7])"
            ]
          },
          "execution_count": 136,
          "metadata": {},
          "output_type": "execute_result"
        }
      ],
      "source": [
        "np.full(5,7)"
      ]
    },
    {
      "cell_type": "code",
      "execution_count": null,
      "id": "e99924f6",
      "metadata": {
        "id": "e99924f6",
        "outputId": "a6ebe363-d388-4633-d2f1-41af385279fd"
      },
      "outputs": [
        {
          "data": {
            "text/plain": [
              "array([[-1, -1, -1, -1],\n",
              "       [-1, -1, -1, -1]])"
            ]
          },
          "execution_count": 137,
          "metadata": {},
          "output_type": "execute_result"
        }
      ],
      "source": [
        "np.full((2,4), -1)"
      ]
    },
    {
      "cell_type": "code",
      "execution_count": null,
      "id": "2d83ffb0",
      "metadata": {
        "id": "2d83ffb0",
        "outputId": "f3015f4e-6684-4cda-f032-1170c7be5b9e"
      },
      "outputs": [
        {
          "data": {
            "text/plain": [
              "array([[[-4, -4],\n",
              "        [-4, -4],\n",
              "        [-4, -4],\n",
              "        [-4, -4]],\n",
              "\n",
              "       [[-4, -4],\n",
              "        [-4, -4],\n",
              "        [-4, -4],\n",
              "        [-4, -4]]])"
            ]
          },
          "execution_count": 138,
          "metadata": {},
          "output_type": "execute_result"
        }
      ],
      "source": [
        "np.full((2,4,2), -4)"
      ]
    },
    {
      "cell_type": "code",
      "execution_count": null,
      "id": "94083e94",
      "metadata": {
        "id": "94083e94",
        "outputId": "9fc30c72-575a-4236-dc16-e0eae4378949"
      },
      "outputs": [
        {
          "data": {
            "text/plain": [
              "array([[1., 0., 0.],\n",
              "       [0., 1., 0.],\n",
              "       [0., 0., 1.]])"
            ]
          },
          "execution_count": 139,
          "metadata": {},
          "output_type": "execute_result"
        }
      ],
      "source": [
        "np.eye(3)"
      ]
    },
    {
      "cell_type": "code",
      "execution_count": null,
      "id": "c8b111d0",
      "metadata": {
        "id": "c8b111d0",
        "outputId": "6932730d-6323-4390-a383-b8c1c7c5a21e"
      },
      "outputs": [
        {
          "data": {
            "text/plain": [
              "array([[1., 0., 0., 0.],\n",
              "       [0., 1., 0., 0.],\n",
              "       [0., 0., 1., 0.],\n",
              "       [0., 0., 0., 1.]])"
            ]
          },
          "execution_count": 140,
          "metadata": {},
          "output_type": "execute_result"
        }
      ],
      "source": [
        "np.eye(4,4)"
      ]
    },
    {
      "cell_type": "code",
      "execution_count": null,
      "id": "52ffc27e",
      "metadata": {
        "id": "52ffc27e",
        "outputId": "0bccdf4a-333c-4d78-8eff-9c2bfc73ec47"
      },
      "outputs": [
        {
          "data": {
            "text/plain": [
              "array([[0., 1., 0., 0.],\n",
              "       [0., 0., 1., 0.],\n",
              "       [0., 0., 0., 1.],\n",
              "       [0., 0., 0., 0.]])"
            ]
          },
          "execution_count": 141,
          "metadata": {},
          "output_type": "execute_result"
        }
      ],
      "source": [
        "np.eye(4,4,1) #Move diagonal elements up by 1"
      ]
    },
    {
      "cell_type": "code",
      "execution_count": null,
      "id": "1c1279ab",
      "metadata": {
        "id": "1c1279ab",
        "outputId": "eba85c2a-94a5-483e-d447-4a670f100a4e"
      },
      "outputs": [
        {
          "data": {
            "text/plain": [
              "array([[0., 0., 1., 0.],\n",
              "       [0., 0., 0., 1.],\n",
              "       [0., 0., 0., 0.],\n",
              "       [0., 0., 0., 0.]])"
            ]
          },
          "execution_count": 142,
          "metadata": {},
          "output_type": "execute_result"
        }
      ],
      "source": [
        "np.eye(4,4,2)"
      ]
    },
    {
      "cell_type": "code",
      "execution_count": null,
      "id": "c7d83d6a",
      "metadata": {
        "id": "c7d83d6a",
        "outputId": "9219a461-4020-4c83-c1bf-47d260aab777"
      },
      "outputs": [
        {
          "data": {
            "text/plain": [
              "array([[0., 0., 0., 1.],\n",
              "       [0., 0., 0., 0.],\n",
              "       [0., 0., 0., 0.],\n",
              "       [0., 0., 0., 0.]])"
            ]
          },
          "execution_count": 143,
          "metadata": {},
          "output_type": "execute_result"
        }
      ],
      "source": [
        "np.eye(4,4,3)"
      ]
    },
    {
      "cell_type": "code",
      "execution_count": null,
      "id": "ea4e2bca",
      "metadata": {
        "id": "ea4e2bca",
        "outputId": "46beb81b-9ca3-48af-8ced-7a0455382381"
      },
      "outputs": [
        {
          "data": {
            "text/plain": [
              "array([[0., 0., 0., 0.],\n",
              "       [1., 0., 0., 0.],\n",
              "       [0., 1., 0., 0.],\n",
              "       [0., 0., 1., 0.]])"
            ]
          },
          "execution_count": 144,
          "metadata": {},
          "output_type": "execute_result"
        }
      ],
      "source": [
        "np.eye(4,4,-1)"
      ]
    },
    {
      "cell_type": "code",
      "execution_count": null,
      "id": "38041cab",
      "metadata": {
        "id": "38041cab",
        "outputId": "edfb0fc9-da73-49fa-e7ea-c45db839a098"
      },
      "outputs": [
        {
          "data": {
            "text/plain": [
              "array([[0., 0., 0., 0.],\n",
              "       [0., 0., 0., 0.],\n",
              "       [1., 0., 0., 0.],\n",
              "       [0., 1., 0., 0.]])"
            ]
          },
          "execution_count": 145,
          "metadata": {},
          "output_type": "execute_result"
        }
      ],
      "source": [
        "np.eye(4,4,-2)"
      ]
    },
    {
      "cell_type": "code",
      "execution_count": null,
      "id": "7736cfd3",
      "metadata": {
        "id": "7736cfd3",
        "outputId": "a5d7205e-9814-497c-c6fe-28771bea295e"
      },
      "outputs": [
        {
          "data": {
            "text/plain": [
              "array([[0., 0., 0., 0.],\n",
              "       [0., 0., 0., 0.],\n",
              "       [0., 0., 0., 0.],\n",
              "       [1., 0., 0., 0.]])"
            ]
          },
          "execution_count": 146,
          "metadata": {},
          "output_type": "execute_result"
        }
      ],
      "source": [
        "np.eye(4,4,-3)"
      ]
    },
    {
      "cell_type": "code",
      "execution_count": null,
      "id": "b86cedee",
      "metadata": {
        "id": "b86cedee",
        "outputId": "4289c7c8-399b-493e-fcf2-54173c27b916"
      },
      "outputs": [
        {
          "data": {
            "text/plain": [
              "array([[1., 0., 0., 0.],\n",
              "       [0., 1., 0., 0.],\n",
              "       [0., 0., 1., 0.],\n",
              "       [0., 0., 0., 1.]])"
            ]
          },
          "execution_count": 147,
          "metadata": {},
          "output_type": "execute_result"
        }
      ],
      "source": [
        "np.eye(4,4,0)"
      ]
    },
    {
      "cell_type": "code",
      "execution_count": null,
      "id": "fb66585b",
      "metadata": {
        "id": "fb66585b",
        "outputId": "7487946d-40cd-450f-bfe2-da6a99804a86"
      },
      "outputs": [
        {
          "data": {
            "text/plain": [
              "array([[0., 0., 0., 0.],\n",
              "       [0., 0., 0., 0.],\n",
              "       [0., 0., 0., 0.],\n",
              "       [0., 0., 0., 0.]])"
            ]
          },
          "execution_count": 148,
          "metadata": {},
          "output_type": "execute_result"
        }
      ],
      "source": [
        "np.eye(4,4,4)"
      ]
    },
    {
      "cell_type": "code",
      "execution_count": null,
      "id": "60ebf3e7",
      "metadata": {
        "id": "60ebf3e7",
        "outputId": "35da1f04-2d39-4473-8d5c-96caabef2f6c"
      },
      "outputs": [
        {
          "data": {
            "text/plain": [
              "array([2, 3, 4, 5, 6, 7, 8, 9])"
            ]
          },
          "execution_count": 149,
          "metadata": {},
          "output_type": "execute_result"
        }
      ],
      "source": [
        "np.arange(2,10)"
      ]
    },
    {
      "cell_type": "code",
      "execution_count": null,
      "id": "517b1755",
      "metadata": {
        "id": "517b1755",
        "outputId": "5a7caaac-3eee-4785-83ef-7d15c70faa7b"
      },
      "outputs": [
        {
          "data": {
            "text/plain": [
              "array([2, 7])"
            ]
          },
          "execution_count": 103,
          "metadata": {},
          "output_type": "execute_result"
        }
      ],
      "source": [
        "np.arange(2,11,5) #numbers between 2 and 10 with step size 5"
      ]
    },
    {
      "cell_type": "code",
      "execution_count": null,
      "id": "0050b95c",
      "metadata": {
        "id": "0050b95c",
        "outputId": "97ede0f8-2dbd-4452-91e8-c11e3dce8443"
      },
      "outputs": [
        {
          "data": {
            "text/plain": [
              "array([0, 1, 2, 3, 4, 5, 6, 7, 8, 9])"
            ]
          },
          "execution_count": 58,
          "metadata": {},
          "output_type": "execute_result"
        }
      ],
      "source": [
        "np.arange(10)"
      ]
    },
    {
      "cell_type": "code",
      "execution_count": null,
      "id": "54b46d42",
      "metadata": {
        "id": "54b46d42",
        "outputId": "9aaad8e7-a141-49ea-917b-0741830e7ce4"
      },
      "outputs": [
        {
          "data": {
            "text/plain": [
              "array([0.08370108, 0.69528965, 0.23393094, 0.96768355, 0.96183089])"
            ]
          },
          "execution_count": 152,
          "metadata": {},
          "output_type": "execute_result"
        }
      ],
      "source": [
        "np.random.random(5) #random 5 numbers between 0 and 1"
      ]
    },
    {
      "cell_type": "code",
      "execution_count": null,
      "id": "b56bb457",
      "metadata": {
        "id": "b56bb457",
        "outputId": "5de843b2-4a7f-4cca-fa6d-41424c1a24c9"
      },
      "outputs": [
        {
          "data": {
            "text/plain": [
              "array([[0.48680872, 0.62260203, 0.60127128],\n",
              "       [0.8709712 , 0.459482  , 0.0867309 ]])"
            ]
          },
          "execution_count": 153,
          "metadata": {},
          "output_type": "execute_result"
        }
      ],
      "source": [
        "np.random.random((2,3)) #random numbers in 2 rows and 3 columns"
      ]
    },
    {
      "cell_type": "code",
      "execution_count": null,
      "id": "07b7d569",
      "metadata": {
        "id": "07b7d569",
        "outputId": "9062e547-3b90-4c5b-eb15-d2c9af2e9ccc"
      },
      "outputs": [
        {
          "data": {
            "text/plain": [
              "array([[[0.70126743, 0.72409458, 0.92600035],\n",
              "        [0.27402032, 0.48844136, 0.99161438]],\n",
              "\n",
              "       [[0.74824153, 0.92772133, 0.99985563],\n",
              "        [0.87974777, 0.28703792, 0.97508425]]])"
            ]
          },
          "execution_count": 154,
          "metadata": {},
          "output_type": "execute_result"
        }
      ],
      "source": [
        "np.random.random((2,2,3))"
      ]
    },
    {
      "cell_type": "code",
      "execution_count": null,
      "id": "450faf65",
      "metadata": {
        "id": "450faf65",
        "outputId": "bcf1cb59-0e6c-446e-8a94-70620a373aa1"
      },
      "outputs": [
        {
          "data": {
            "text/plain": [
              "array([ 1.  ,  3.25,  5.5 ,  7.75, 10.  ])"
            ]
          },
          "execution_count": 110,
          "metadata": {},
          "output_type": "execute_result"
        }
      ],
      "source": [
        "np.linspace(1,10,5) #numbers between 1 and 10 with 5 equal parts(distance)"
      ]
    },
    {
      "cell_type": "code",
      "execution_count": null,
      "id": "22b795a0",
      "metadata": {
        "id": "22b795a0"
      },
      "outputs": [],
      "source": []
    }
  ],
  "metadata": {
    "kernelspec": {
      "display_name": "Python 3",
      "language": "python",
      "name": "python3"
    },
    "language_info": {
      "codemirror_mode": {
        "name": "ipython",
        "version": 3
      },
      "file_extension": ".py",
      "mimetype": "text/x-python",
      "name": "python",
      "nbconvert_exporter": "python",
      "pygments_lexer": "ipython3",
      "version": "3.13.5"
    },
    "colab": {
      "provenance": []
    }
  },
  "nbformat": 4,
  "nbformat_minor": 5
}