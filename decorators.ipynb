{
 "cells": [
  {
   "cell_type": "code",
   "execution_count": 3,
   "id": "abfeaea5",
   "metadata": {},
   "outputs": [
    {
     "name": "stdout",
     "output_type": "stream",
     "text": [
      "The line before computation.\n",
      "13200\n",
      "The line after computation\n"
     ]
    }
   ],
   "source": [
    "#Decorators: allows to modify or extend the behaviour or functions/class without directly modifying their  original code\n",
    "#similar to decorating the room (putting different lights, sticker, posters), extends/decorates the basic behaviour of room\n",
    "\n",
    "#Function Decorators and Class Decorators\n",
    "\n",
    "\n",
    "#Function Decorators\n",
    "\n",
    "\n",
    "#Use case:To use the line before compuation and after computation after each time you create a function or call function. So it will take a lot of time to type the lines repeatatively\n",
    "#And that why the concept of decorators comes into the picture\n",
    "\n",
    "\n",
    "\n",
    "def my_decorator_func():\n",
    "    print(\"The line before computation.\")\n",
    "    print(11*1200) #decorating the actual computation with line above and line below\n",
    "    print(\"The line after computation\")\n",
    "\n",
    "my_decorator_func()\n",
    "\n",
    "#In the above approach we have to write all the line as many times as you are creating the different functions\n",
    "#lets see the decorator approach\n"
   ]
  },
  {
   "cell_type": "code",
   "execution_count": null,
   "id": "fcaf1094",
   "metadata": {},
   "outputs": [],
   "source": [
    "#decorator approach for functions: Use case 1\n",
    "\n",
    "def my_decorator(func): #decorator function that takes another func as arguments\n",
    "    def wrapper(): # wrapper is a nested function that adds the functionalityvefore and after calling the func\n",
    "        print(\"The line before computation. \")\n",
    "        func() #say_hello which is the func here will be executed here\n",
    "        print(\"The line after computation\")\n",
    "    return wrapper\n",
    "\n"
   ]
  },
  {
   "cell_type": "code",
   "execution_count": 11,
   "id": "55c2acb9",
   "metadata": {},
   "outputs": [
    {
     "name": "stdout",
     "output_type": "stream",
     "text": [
      "The line before computation. \n",
      "Hello\n",
      "The line after computation\n"
     ]
    }
   ],
   "source": [
    "@my_decorator\n",
    "def say_hello(): #here it is not neccessay to use func function only but any name of method can be called\n",
    "    print(\"Hello\")\n",
    "\n",
    "say_hello() #when say_hello is called, it is actually first calling the decorator function which in return is calling wrapper function and then wrapper function is printing the line and calling say_hello func\n"
   ]
  },
  {
   "cell_type": "code",
   "execution_count": 12,
   "id": "e3aabf46",
   "metadata": {},
   "outputs": [
    {
     "name": "stdout",
     "output_type": "stream",
     "text": [
      "1953125\n",
      "The time taken for executing the code:  0.005603790283203125\n"
     ]
    }
   ],
   "source": [
    "import time\n",
    "\n",
    "def timer_decorator(func):\n",
    "    def timer():\n",
    "        start = time.time()\n",
    "        func()\n",
    "        end=time.time()\n",
    "        print(\"The time taken for executing the code: \",end-start)\n",
    "    return timer\n",
    "\n",
    "@timer_decorator\n",
    "def func_test():\n",
    "    print(5**9)\n",
    "\n",
    "func_test()"
   ]
  },
  {
   "cell_type": "code",
   "execution_count": 13,
   "id": "971cbf46",
   "metadata": {},
   "outputs": [],
   "source": [
    "#Need for Decorators\n",
    "\n",
    "#Resuability of code: resuse the commonn code\n",
    "#Enhancing the functin without modifying the original function\n",
    "\n",
    "\n",
    "#Use case: execution time of code, logging , caching, validation\n"
   ]
  },
  {
   "cell_type": "code",
   "execution_count": null,
   "id": "9f399306",
   "metadata": {},
   "outputs": [
    {
     "name": "stdout",
     "output_type": "stream",
     "text": [
      "Inside the init method\n",
      "Something is happening before fucntion\n",
      "You are doing great job\n",
      "Now after the function call\n"
     ]
    }
   ],
   "source": [
    "#Class Decorator\n",
    "\n",
    "class MyDecorator:\n",
    "    def __init__(self,func):\n",
    "        self.func=func #to take the data\n",
    "        print(\"Inside the init method\")\n",
    "    \n",
    "    def __call__(self): #__call__ is special method which is called or invoked  when we call instance/object of a class as a function \n",
    "        print(\"Something is happening before fucntion\")\n",
    "        self.func()\n",
    "        print(\"Now after the function call\")\n",
    "\n",
    "@MyDecorator #class __call__ will be executed\n",
    "def say_hello():\n",
    "    print(\"You are doing great job\")\n",
    "\n",
    "say_hello()"
   ]
  },
  {
   "cell_type": "code",
   "execution_count": null,
   "id": "458ee837",
   "metadata": {},
   "outputs": [
    {
     "name": "stdout",
     "output_type": "stream",
     "text": [
      "Inside the init method\n",
      "Something is happening\n"
     ]
    }
   ],
   "source": [
    "class MyDecorator:\n",
    "    def __init__(self):\n",
    "        print(\"Inside the init method\")\n",
    "\n",
    "    def __call__(self):\n",
    "        print(\"Something is happening\")\n",
    "\n",
    "obj1=MyDecorator() #when we make an object of the class, init is executed first\n",
    "\n",
    "obj1() #When we call an object of class as function __call__ method will be called\n",
    "\n",
    "    "
   ]
  },
  {
   "cell_type": "code",
   "execution_count": 20,
   "id": "86c27f28",
   "metadata": {},
   "outputs": [
    {
     "data": {
      "text/plain": [
       "('Math', 11)"
      ]
     },
     "execution_count": 20,
     "metadata": {},
     "output_type": "execute_result"
    }
   ],
   "source": [
    "#Some Inbuilt Decorators:\n",
    "#@classmethod: The method that takes the class itself as the first argument\n",
    "\n",
    "# class method is bound to class and not the instance of the class,\n",
    "# class itsef as the first argument\n",
    "# conventionally cls \n",
    "\n",
    "class Math:\n",
    "    @classmethod #takes reference to the class itself to modify and access class level attributes\n",
    "    def add(cls, x, y):\n",
    "        return cls.__name__, x + y  #cls.__name__>> class Math\n",
    "    \n",
    "Math.add(5,6) #we don't need any init method to take data"
   ]
  },
  {
   "cell_type": "code",
   "execution_count": 21,
   "id": "a738491b",
   "metadata": {},
   "outputs": [
    {
     "data": {
      "text/plain": [
       "11"
      ]
     },
     "execution_count": 21,
     "metadata": {},
     "output_type": "execute_result"
    }
   ],
   "source": [
    "#Static Method: the method which can be called without creating any instance of class, adn without using self or self\n",
    "\n",
    "#earlier approach\n",
    "class Math:\n",
    "    def add(self, x, y):\n",
    "        return x+y\n",
    "    \n",
    "a = Math() #make object/instance\n",
    "\n",
    "a.add(2,9)"
   ]
  },
  {
   "cell_type": "code",
   "execution_count": null,
   "id": "d58bd934",
   "metadata": {},
   "outputs": [
    {
     "data": {
      "text/plain": [
       "30"
      ]
     },
     "execution_count": 22,
     "metadata": {},
     "output_type": "execute_result"
    }
   ],
   "source": [
    "#Use of Static Method\n",
    "class Math:\n",
    "    @staticmethod\n",
    "    def add(a,b): #no need of self or cls\n",
    "        return a*b\n",
    "    \n",
    "Math.add(6,5) #no need of making any object"
   ]
  },
  {
   "cell_type": "code",
   "execution_count": 2,
   "id": "827a7479",
   "metadata": {},
   "outputs": [
    {
     "data": {
      "text/plain": [
       "6"
      ]
     },
     "execution_count": 2,
     "metadata": {},
     "output_type": "execute_result"
    }
   ],
   "source": [
    "#Property Decorator: It allows method to be accessed as attribute\n",
    "\n",
    "class Circle:\n",
    "    def __init__(self, radius):\n",
    "        self.radius = radius\n",
    "\n",
    "obj=Circle(6)\n",
    "\n",
    "obj.radius #acccessing data/attribute"
   ]
  },
  {
   "cell_type": "code",
   "execution_count": 5,
   "id": "29fc4557",
   "metadata": {},
   "outputs": [
    {
     "data": {
      "text/plain": [
       "153.86"
      ]
     },
     "execution_count": 5,
     "metadata": {},
     "output_type": "execute_result"
    }
   ],
   "source": [
    "class Circle:\n",
    "    def __init__(self, radius):\n",
    "        self.radius = radius\n",
    "    def area(self):\n",
    "        radius = self.radius\n",
    "        return 3.14*radius**2\n",
    "    \n",
    "obj = Circle(7)\n",
    "# obj.radius\n",
    "obj.area()"
   ]
  },
  {
   "cell_type": "code",
   "execution_count": 6,
   "id": "fd98ef58",
   "metadata": {},
   "outputs": [
    {
     "data": {
      "text/plain": [
       "530.66"
      ]
     },
     "execution_count": 6,
     "metadata": {},
     "output_type": "execute_result"
    }
   ],
   "source": [
    "#Using Property Decorator\n",
    "\n",
    "class Circle:\n",
    "    def __init__(self,radius):\n",
    "        self.radius = radius\n",
    "    \n",
    "    @property\n",
    "    def area(self):\n",
    "        radius = self.radius\n",
    "        return 3.14*radius**2\n",
    "    \n",
    "obj1 =  Circle(13)\n",
    "obj1.area #no need of parenthesis as property decorator is used\n"
   ]
  },
  {
   "cell_type": "code",
   "execution_count": null,
   "id": "9c9d3be1",
   "metadata": {},
   "outputs": [],
   "source": []
  }
 ],
 "metadata": {
  "kernelspec": {
   "display_name": "Python 3",
   "language": "python",
   "name": "python3"
  },
  "language_info": {
   "codemirror_mode": {
    "name": "ipython",
    "version": 3
   },
   "file_extension": ".py",
   "mimetype": "text/x-python",
   "name": "python",
   "nbconvert_exporter": "python",
   "pygments_lexer": "ipython3",
   "version": "3.12.1"
  }
 },
 "nbformat": 4,
 "nbformat_minor": 5
}
