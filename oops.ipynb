{
 "cells": [
  {
   "cell_type": "code",
   "execution_count": null,
   "id": "023987e0",
   "metadata": {},
   "outputs": [
    {
     "name": "stdout",
     "output_type": "stream",
     "text": [
      "<class '__main__.Car'>\n"
     ]
    }
   ],
   "source": [
    "#Classes are blueprint / Template for creating an object\n",
    "#e.g., IIT form(template) for many students, cars example, human being example\n",
    "#We are different objects of class human being\n",
    "\n",
    "#class Car is nothing but a template\n",
    "class Car:  #UpperCamelCase\n",
    "    pass\n",
    "\n",
    "c1=Car() #instance/object\n",
    "print(type(c1))"
   ]
  },
  {
   "cell_type": "code",
   "execution_count": 1,
   "id": "0e60d2a7",
   "metadata": {},
   "outputs": [],
   "source": [
    "#why oops? we already had function\n",
    "#a project can have many components, say backend(f1, f2), frontend(f3, f4), data pipeline(f5, f6)\n",
    "\n",
    "# def f1():\n",
    "#     pass\n",
    "\n",
    "# def f6():\n",
    "#     pass\n",
    "\n",
    "# def f4():\n",
    "#     pass\n",
    "\n",
    "# def f2():\n",
    "#     pass\n",
    "\n",
    "# def d5():\n",
    "#     pass\n",
    "\n",
    "# def f3():\n",
    "#     pass\n",
    "\n",
    "#if a backend developer wants to work/change some backend function>> all the functions are at one place\n",
    "#oops helps you to arrange the required functions in respective classes"
   ]
  },
  {
   "cell_type": "code",
   "execution_count": 5,
   "id": "f917f85b",
   "metadata": {},
   "outputs": [],
   "source": [
    "class Car:  #Method of the car(method is called in oops instead of function)\n",
    "    def accelerate():\n",
    "        print(\"Car is accelerating\")"
   ]
  },
  {
   "cell_type": "code",
   "execution_count": 6,
   "id": "5e0ff717",
   "metadata": {},
   "outputs": [
    {
     "ename": "TypeError",
     "evalue": "Car.accelerate() takes 0 positional arguments but 1 was given",
     "output_type": "error",
     "traceback": [
      "\u001b[31m---------------------------------------------------------------------------\u001b[39m",
      "\u001b[31mTypeError\u001b[39m                                 Traceback (most recent call last)",
      "\u001b[36mCell\u001b[39m\u001b[36m \u001b[39m\u001b[32mIn[6]\u001b[39m\u001b[32m, line 2\u001b[39m\n\u001b[32m      1\u001b[39m c1=Car()\n\u001b[32m----> \u001b[39m\u001b[32m2\u001b[39m \u001b[43mc1\u001b[49m\u001b[43m.\u001b[49m\u001b[43maccelerate\u001b[49m\u001b[43m(\u001b[49m\u001b[43m)\u001b[49m \u001b[38;5;66;03m#gives an error as multiple object can same method \"accelerate\"\u001b[39;00m\n",
      "\u001b[31mTypeError\u001b[39m: Car.accelerate() takes 0 positional arguments but 1 was given"
     ]
    }
   ],
   "source": [
    "c1=Car()\n",
    "c1.accelerate() #gives an error as multiple object can same method \"accelerate\""
   ]
  },
  {
   "cell_type": "code",
   "execution_count": 12,
   "id": "c5f79055",
   "metadata": {},
   "outputs": [],
   "source": [
    "class Car:  \n",
    "    def accelerate(self):  #self will allow object to use the method of parent class\n",
    "        print(\"Car is accelerating\")\n",
    "\n",
    "    def brake(self):\n",
    "        print(\"Brake is used\")\n",
    "\n",
    "#self: a variable that represent insance of class using which you can access method/function of class, also attribute and property/data of the class\n",
    "#self makes sure that each object knows that the method is associated with it \n",
    "#method is referenced to that particular object"
   ]
  },
  {
   "cell_type": "code",
   "execution_count": 13,
   "id": "1593b194",
   "metadata": {},
   "outputs": [
    {
     "name": "stdout",
     "output_type": "stream",
     "text": [
      "Car is accelerating\n",
      "Brake is used\n"
     ]
    }
   ],
   "source": [
    "c1=Car()\n",
    "c1.accelerate()\n",
    "c1.brake()"
   ]
  },
  {
   "cell_type": "code",
   "execution_count": null,
   "id": "8fea56da",
   "metadata": {},
   "outputs": [
    {
     "name": "stdout",
     "output_type": "stream",
     "text": [
      "Depositing the money\n"
     ]
    }
   ],
   "source": [
    "class Bank:\n",
    "    def deposit(Vikash): #any variable name can be used but self is used conventionally\n",
    "        print(\"Depositing the money\")\n",
    "\n",
    "cust1=Bank()\n",
    "cust1.deposit()\n",
    "#self is not python keyword"
   ]
  },
  {
   "cell_type": "code",
   "execution_count": 20,
   "id": "734f7388",
   "metadata": {},
   "outputs": [
    {
     "name": "stdout",
     "output_type": "stream",
     "text": [
      "I am depositing the money:  1000\n"
     ]
    },
    {
     "data": {
      "text/plain": [
       "5000"
      ]
     },
     "execution_count": 20,
     "metadata": {},
     "output_type": "execute_result"
    }
   ],
   "source": [
    "#Passing data in the class and it can also be called as property/attribute\n",
    "class Bank:\n",
    "    amount=5000\n",
    "    def deposit(self, amount):\n",
    "        print(\"I am depositing the money: \",amount)\n",
    "    def withdraw(self, amount_withdraw):\n",
    "        print(\"I am trying to withdraw money\")\n",
    "\n",
    "vik=Bank()\n",
    "vik.deposit(1000)\n",
    "vik.amount #attributes/property can be also accessed the same way as methods/functions are accessed"
   ]
  },
  {
   "cell_type": "code",
   "execution_count": 1,
   "id": "5a3d0353",
   "metadata": {},
   "outputs": [],
   "source": [
    "#extract odd and even nos from a list\n",
    "\n",
    "class ListOps:\n",
    "    l = [1, 2, 3, 4, 5]\n",
    "    def extract_even(self, l):\n",
    "        l1 = []\n",
    "        for i in l:\n",
    "            if i%2 == 0:\n",
    "                l1.append(i)\n",
    "        return l1\n",
    "    def extract_odd(self, l):\n",
    "        l1 = []\n",
    "        for i in l:\n",
    "            if i%2 != 0:\n",
    "                l1.append(i)\n",
    "        return l1"
   ]
  },
  {
   "cell_type": "code",
   "execution_count": 4,
   "id": "97e68585",
   "metadata": {},
   "outputs": [
    {
     "data": {
      "text/plain": [
       "[2, 4]"
      ]
     },
     "execution_count": 4,
     "metadata": {},
     "output_type": "execute_result"
    }
   ],
   "source": [
    "ops1=ListOps()\n",
    "ops1.extract_even(ops1.l)"
   ]
  },
  {
   "cell_type": "code",
   "execution_count": 6,
   "id": "26506664",
   "metadata": {},
   "outputs": [
    {
     "data": {
      "text/plain": [
       "[1, 5]"
      ]
     },
     "execution_count": 6,
     "metadata": {},
     "output_type": "execute_result"
    }
   ],
   "source": [
    "ops1.extract_odd([1,5,6,8,12])"
   ]
  },
  {
   "cell_type": "code",
   "execution_count": 7,
   "id": "8a4b3654",
   "metadata": {},
   "outputs": [],
   "source": [
    "#To take the attribute value of the class for each object differently\n",
    "\n",
    "#extract odd and even nos from a list\n",
    "\n",
    "class ListOps:\n",
    "    def __init__(self,l):  #magic method / dunder method\n",
    "        self.l=l           #init means initialisation of variable\n",
    "\n",
    "    def extract_even(self, l):\n",
    "        l1 = []\n",
    "        for i in l:\n",
    "            if i%2 == 0:\n",
    "                l1.append(i)\n",
    "        return l1\n",
    "    def extract_odd(self, l):\n",
    "        l1 = []\n",
    "        for i in l:\n",
    "            if i%2 != 0:\n",
    "                l1.append(i)\n",
    "        return l1"
   ]
  },
  {
   "cell_type": "code",
   "execution_count": 9,
   "id": "abd8d63f",
   "metadata": {},
   "outputs": [
    {
     "data": {
      "text/plain": [
       "[1, 20, 6, 30, 45, 96]"
      ]
     },
     "execution_count": 9,
     "metadata": {},
     "output_type": "execute_result"
    }
   ],
   "source": [
    "ops1= ListOps([1,20,6,30,45,96])\n",
    "ops1.l"
   ]
  },
  {
   "cell_type": "code",
   "execution_count": 11,
   "id": "885e9204",
   "metadata": {},
   "outputs": [
    {
     "data": {
      "text/plain": [
       "[5, 3, 9, 4, 2, 1]"
      ]
     },
     "execution_count": 11,
     "metadata": {},
     "output_type": "execute_result"
    }
   ],
   "source": [
    "ops2=ListOps([5,3,9,4,2,1])\n",
    "ops2.l #now l will be changed according to the variable or data given"
   ]
  },
  {
   "cell_type": "code",
   "execution_count": 13,
   "id": "57bad5dd",
   "metadata": {},
   "outputs": [
    {
     "data": {
      "text/plain": [
       "[4, 6, 8]"
      ]
     },
     "execution_count": 13,
     "metadata": {},
     "output_type": "execute_result"
    }
   ],
   "source": [
    "ops1.extract_even([4,6,3,8,7,9])"
   ]
  },
  {
   "cell_type": "code",
   "execution_count": 14,
   "id": "496d76a0",
   "metadata": {},
   "outputs": [],
   "source": [
    "#extract odd and even nos from a list\n",
    "\n",
    "class ListOps:\n",
    "    def __init__(self, l): #magic method/dunder method. init means initialisation>>of variable\n",
    "        self.l = l\n",
    "        \n",
    "    def extract_even(self): #be careful as init has been used only pass self in the method and not the variable again\n",
    "        l = self.l\n",
    "        l1 = []\n",
    "        for i in l:\n",
    "            if i%2 == 0:\n",
    "                l1.append(i)\n",
    "        return l1\n",
    "    \n",
    "    def extract_odd(self):\n",
    "        l = self.l\n",
    "        l1 = []\n",
    "        for i in l:\n",
    "            if i%2 != 0:\n",
    "                l1.append(i)\n",
    "        return l1 "
   ]
  },
  {
   "cell_type": "code",
   "execution_count": 15,
   "id": "27d842c0",
   "metadata": {},
   "outputs": [
    {
     "data": {
      "text/plain": [
       "[1, 9, 11]"
      ]
     },
     "execution_count": 15,
     "metadata": {},
     "output_type": "execute_result"
    }
   ],
   "source": [
    "ops1 = ListOps([1, 8, 9, 11, 12])\n",
    "ops1.extract_odd()"
   ]
  },
  {
   "cell_type": "code",
   "execution_count": 16,
   "id": "27212c50",
   "metadata": {},
   "outputs": [],
   "source": [
    "#extract odd and even nos from a list\n",
    "\n",
    "class ListOps:\n",
    "    def __init__(self, l): #magic method/dunder method. init means initialisation>>of variable\n",
    "        self.l2 = l #everywhere you will be able to access l using slef.l2\n",
    "        \n",
    "    def extract_even(self): #be careful as init has been used only pass self in the method and not the variable again\n",
    "        l = self.l2\n",
    "        l1 = []\n",
    "        for i in l:\n",
    "            if i%2 == 0:\n",
    "                l1.append(i)\n",
    "        return l1\n",
    "    \n",
    "    def extract_odd(self):\n",
    "        l = self.l2\n",
    "        l1 = []\n",
    "        for i in l:\n",
    "            if i%2 != 0:\n",
    "                l1.append(i)\n",
    "        return l1 "
   ]
  },
  {
   "cell_type": "code",
   "execution_count": 17,
   "id": "2a6a654d",
   "metadata": {},
   "outputs": [
    {
     "data": {
      "text/plain": [
       "[1, 9, 11]"
      ]
     },
     "execution_count": 17,
     "metadata": {},
     "output_type": "execute_result"
    }
   ],
   "source": [
    "ops1 = ListOps([1, 8, 9, 11, 12])\n",
    "ops1.extract_odd()"
   ]
  },
  {
   "cell_type": "code",
   "execution_count": 18,
   "id": "d08480a6",
   "metadata": {},
   "outputs": [],
   "source": [
    "#multiple attributes\n",
    "#in a library a book is associated with author, title, name\n",
    "#every variable is fixed\n",
    "class Book:\n",
    "    def __init__(self):\n",
    "        self.name_of_book = \"DSA\"\n",
    "        self.book_author = \"Cormen\"\n",
    "        self.title_name = \"Stacks\"\n",
    "        \n",
    "    def extract_details_name_title(self):\n",
    "        print(self.name_of_book, self.title_name)\n",
    "        \n",
    "    def extract_details_name_author(self):\n",
    "        print(self.name_of_book, self.book_author)\n",
    "    "
   ]
  },
  {
   "cell_type": "code",
   "execution_count": 19,
   "id": "4269165e",
   "metadata": {},
   "outputs": [
    {
     "name": "stdout",
     "output_type": "stream",
     "text": [
      "DSA Cormen\n"
     ]
    }
   ],
   "source": [
    "student1 = Book()\n",
    "student1.extract_details_name_author()"
   ]
  },
  {
   "cell_type": "code",
   "execution_count": 20,
   "id": "d5864c39",
   "metadata": {},
   "outputs": [
    {
     "name": "stdout",
     "output_type": "stream",
     "text": [
      "DSA Cormen\n"
     ]
    }
   ],
   "source": [
    "student2 = Book()\n",
    "student1.extract_details_name_author()"
   ]
  },
  {
   "cell_type": "code",
   "execution_count": 26,
   "id": "bb59a066",
   "metadata": {},
   "outputs": [],
   "source": [
    "#to pass dynamic variable\n",
    "\n",
    "class Book:\n",
    "    def __init__(self, name, author, title):\n",
    "        self.name_of_book = name\n",
    "        self.book_author = author\n",
    "        self.title_name = title\n",
    "        \n",
    "    def extract_details_name_title(self):\n",
    "        print(self.name_of_book, self.title_name)\n",
    "        \n",
    "    def extract_details_name_author(self):\n",
    "        print(self.name_of_book, self.book_author)"
   ]
  },
  {
   "cell_type": "code",
   "execution_count": 22,
   "id": "ee91d6bc",
   "metadata": {},
   "outputs": [],
   "source": [
    "student1 = Book(\"ML\", \"Murphy\", \"Linear regression\")"
   ]
  },
  {
   "cell_type": "code",
   "execution_count": 23,
   "id": "dbed5b85",
   "metadata": {},
   "outputs": [
    {
     "name": "stdout",
     "output_type": "stream",
     "text": [
      "ML Murphy\n"
     ]
    }
   ],
   "source": [
    "student1.extract_details_name_author()"
   ]
  },
  {
   "cell_type": "code",
   "execution_count": 24,
   "id": "d2f14625",
   "metadata": {},
   "outputs": [
    {
     "name": "stdout",
     "output_type": "stream",
     "text": [
      "ML Linear regression\n"
     ]
    }
   ],
   "source": [
    "student1.extract_details_name_title()"
   ]
  },
  {
   "cell_type": "code",
   "execution_count": 25,
   "id": "25d07e83",
   "metadata": {},
   "outputs": [
    {
     "name": "stdout",
     "output_type": "stream",
     "text": [
      "stats joss\n"
     ]
    }
   ],
   "source": [
    "student2 = Book(\"stats\", \"joss\", \"descriptive stats\")\n",
    "student2.extract_details_name_author()"
   ]
  },
  {
   "cell_type": "code",
   "execution_count": null,
   "id": "8fee17e5",
   "metadata": {},
   "outputs": [],
   "source": []
  }
 ],
 "metadata": {
  "kernelspec": {
   "display_name": "Python 3",
   "language": "python",
   "name": "python3"
  },
  "language_info": {
   "codemirror_mode": {
    "name": "ipython",
    "version": 3
   },
   "file_extension": ".py",
   "mimetype": "text/x-python",
   "name": "python",
   "nbconvert_exporter": "python",
   "pygments_lexer": "ipython3",
   "version": "3.12.1"
  }
 },
 "nbformat": 4,
 "nbformat_minor": 5
}
