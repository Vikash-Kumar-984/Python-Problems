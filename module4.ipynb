{
 "cells": [
  {
   "cell_type": "code",
   "execution_count": 1,
   "id": "e166eb8c",
   "metadata": {},
   "outputs": [
    {
     "name": "stdout",
     "output_type": "stream",
     "text": [
      "<class 'list'>\n",
      "[1, 2, 3.6, 'Vikash', (5+7j)]\n"
     ]
    }
   ],
   "source": [
    "# Data Structure: Way of organising and storing  data so that it can be accesed and manipulated efficiently\n",
    "# String, List, Tuples, Set, Dictionary , Array\n",
    "\n",
    "#List can store anything and can store hetrogenous data\n",
    "#LIst is an ordered collection of elements that can be of any data type\n",
    "#List are mutable\n",
    "\n",
    "a=[1,2,3.6,\"Vikash\", 5+7j]\n",
    "print(type(a))\n",
    "print(a)"
   ]
  },
  {
   "cell_type": "code",
   "execution_count": null,
   "id": "13fe7573",
   "metadata": {},
   "outputs": [],
   "source": [
    "a.append(\"Kumar\") #Add new element"
   ]
  },
  {
   "cell_type": "code",
   "execution_count": 3,
   "id": "cb15bb3f",
   "metadata": {},
   "outputs": [
    {
     "name": "stdout",
     "output_type": "stream",
     "text": [
      "[1, 2, 3.6, 'Vikash', (5+7j), 'Kumar']\n"
     ]
    }
   ],
   "source": [
    "print(a)"
   ]
  },
  {
   "cell_type": "code",
   "execution_count": null,
   "id": "174bd19a",
   "metadata": {},
   "outputs": [
    {
     "name": "stdout",
     "output_type": "stream",
     "text": [
      "[1, 8, 3.6, 'Vikash', (5+7j), 'Kumar']\n"
     ]
    }
   ],
   "source": [
    "a[1]=8 #Replacing existing element\n",
    "print(a) #List is mutable"
   ]
  },
  {
   "cell_type": "code",
   "execution_count": 5,
   "id": "8a82627b",
   "metadata": {},
   "outputs": [
    {
     "name": "stdout",
     "output_type": "stream",
     "text": [
      "[1, 8, 3.6, 'Vikash', (5+7j)]\n"
     ]
    }
   ],
   "source": [
    "a.remove(\"Kumar\")\n",
    "print(a)"
   ]
  },
  {
   "cell_type": "code",
   "execution_count": null,
   "id": "02a5d90f",
   "metadata": {},
   "outputs": [
    {
     "name": "stdout",
     "output_type": "stream",
     "text": [
      "2\n",
      "[1, 2, 3] [4, 5, 6] [7, 8, 9] "
     ]
    }
   ],
   "source": [
    "b=[[1,2,3],[4,5,6],[7,8,9]] #List can store list\n",
    "print(b[0][1])\n",
    "\n",
    "for i in b:\n",
    "    print(i, end=\" \") #end will not add new line"
   ]
  },
  {
   "cell_type": "code",
   "execution_count": 8,
   "id": "8a839132",
   "metadata": {},
   "outputs": [
    {
     "name": "stdout",
     "output_type": "stream",
     "text": [
      "(2, 3, 5.9, 'Vik', True)\n"
     ]
    }
   ],
   "source": [
    "#Tuple is immutable and heterogenous in nature as it can store any data types\n",
    "tup=(2,3,5.9,\"Vik\",True)\n",
    "print(tup)\n"
   ]
  },
  {
   "cell_type": "code",
   "execution_count": 10,
   "id": "e9fcc8a7",
   "metadata": {},
   "outputs": [
    {
     "name": "stdout",
     "output_type": "stream",
     "text": [
      "<class 'tuple'> (('a', 'b'), ('c', 'd'))\n"
     ]
    }
   ],
   "source": [
    "box1=(\"a\",\"b\")\n",
    "box2=(\"c\", \"d\")\n",
    "choco_bag=(box1,box2)\n",
    "print(type(choco_bag), choco_bag)"
   ]
  },
  {
   "cell_type": "code",
   "execution_count": 11,
   "id": "43c6b5e0",
   "metadata": {},
   "outputs": [
    {
     "name": "stdout",
     "output_type": "stream",
     "text": [
      "a\n",
      "b\n",
      "c\n",
      "d\n"
     ]
    }
   ],
   "source": [
    "for box in choco_bag:\n",
    "    for items in box:\n",
    "        print(items)"
   ]
  },
  {
   "cell_type": "code",
   "execution_count": 16,
   "id": "4495c9a9",
   "metadata": {},
   "outputs": [
    {
     "data": {
      "text/plain": [
       "{2, 3, 4.7, 'Vikash', 'black', 'blue', 'red'}"
      ]
     },
     "execution_count": 16,
     "metadata": {},
     "output_type": "execute_result"
    }
   ],
   "source": [
    "#Sets are unordered collection of unique element\n",
    "#no concept of indexing as sets are unordered and unique\n",
    "\n",
    "s={\"red\", \"blue\", \"black\", \"red\", \"black\",1 ,2,3,1,3,4.7}\n",
    "s.add(\"Vikash\") #sets are mutable\n",
    "s.remove(1)\n",
    "s"
   ]
  },
  {
   "cell_type": "code",
   "execution_count": null,
   "id": "6126c26e",
   "metadata": {},
   "outputs": [
    {
     "name": "stdout",
     "output_type": "stream",
     "text": [
      "300000\n",
      "1234\n",
      "780\n"
     ]
    }
   ],
   "source": [
    "#Dictionary stores data in the form of key value pair\n",
    "#It is widely used in production based code at final level\n",
    "\n",
    "vishal={\"course\": \"B.pharma\", \"fee\":300000}\n",
    "print(vishal[\"fee\"])\n",
    "\n",
    "phonebook= {\"dad\":1234, \"mom\": 456}\n",
    "print(phonebook[\"dad\"])\n",
    "\n",
    "\n",
    "phonebook2= {\"dad\":1234, \"mom\": 456, \"dad\":780}\n",
    "print(phonebook2[\"dad\"]) #dad is overwritten by last value"
   ]
  },
  {
   "cell_type": "code",
   "execution_count": 6,
   "id": "9c097385",
   "metadata": {},
   "outputs": [
    {
     "name": "stdout",
     "output_type": "stream",
     "text": [
      "dict_keys(['dad', 'mom'])\n",
      "dict_values([780, 456])\n"
     ]
    }
   ],
   "source": [
    "print(phonebook2.keys())\n",
    "print(phonebook2.values())"
   ]
  },
  {
   "cell_type": "code",
   "execution_count": null,
   "id": "af89b07e",
   "metadata": {},
   "outputs": [
    {
     "data": {
      "text/plain": [
       "array('i', [1, 2, 3, 4])"
      ]
     },
     "execution_count": 7,
     "metadata": {},
     "output_type": "execute_result"
    }
   ],
   "source": [
    "#Array is similar to list but is homogenous type\n",
    "from array import array\n",
    "array('i',[1,2,3,4])"
   ]
  },
  {
   "cell_type": "code",
   "execution_count": 11,
   "id": "00331df2",
   "metadata": {},
   "outputs": [
    {
     "name": "stdout",
     "output_type": "stream",
     "text": [
      "V\n",
      "i\n",
      "k\n",
      "a\n",
      "s\n",
      "h\n",
      "i\n"
     ]
    }
   ],
   "source": [
    "#String is immutable\n",
    "\n",
    "s=\"Vikash\"\n",
    "for i in s:\n",
    "    print(i)\n",
    "print(s[1])\n",
    "\n",
    "# s[1]='k' #This will throw an error as string is immutable"
   ]
  },
  {
   "cell_type": "code",
   "execution_count": null,
   "id": "e0c162d2",
   "metadata": {},
   "outputs": [],
   "source": []
  }
 ],
 "metadata": {
  "kernelspec": {
   "display_name": "Python 3",
   "language": "python",
   "name": "python3"
  },
  "language_info": {
   "codemirror_mode": {
    "name": "ipython",
    "version": 3
   },
   "file_extension": ".py",
   "mimetype": "text/x-python",
   "name": "python",
   "nbconvert_exporter": "python",
   "pygments_lexer": "ipython3",
   "version": "3.11.3"
  }
 },
 "nbformat": 4,
 "nbformat_minor": 5
}
