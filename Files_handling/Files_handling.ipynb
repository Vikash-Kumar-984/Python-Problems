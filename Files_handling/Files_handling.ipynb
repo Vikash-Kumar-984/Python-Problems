{
 "cells": [
  {
   "cell_type": "code",
   "execution_count": 1,
   "id": "9e500685",
   "metadata": {},
   "outputs": [
    {
     "ename": "FileNotFoundError",
     "evalue": "[Errno 2] No such file or directory: 'files.txt'",
     "output_type": "error",
     "traceback": [
      "\u001b[31m---------------------------------------------------------------------------\u001b[39m",
      "\u001b[31mFileNotFoundError\u001b[39m                         Traceback (most recent call last)",
      "\u001b[36mCell\u001b[39m\u001b[36m \u001b[39m\u001b[32mIn[1]\u001b[39m\u001b[32m, line 7\u001b[39m\n\u001b[32m      1\u001b[39m \u001b[38;5;66;03m# Mode\u001b[39;00m\n\u001b[32m      2\u001b[39m \u001b[38;5;66;03m# r  : read mode\u001b[39;00m\n\u001b[32m      3\u001b[39m \u001b[38;5;66;03m# w  : write mode\u001b[39;00m\n\u001b[32m      4\u001b[39m \u001b[38;5;66;03m# a  : append mode\u001b[39;00m\n\u001b[32m      5\u001b[39m \u001b[38;5;66;03m# r+ : both reading and writing\u001b[39;00m\n\u001b[32m----> \u001b[39m\u001b[32m7\u001b[39m \u001b[38;5;28;43mopen\u001b[39;49m\u001b[43m(\u001b[49m\u001b[33;43m\"\u001b[39;49m\u001b[33;43mfiles.txt\u001b[39;49m\u001b[33;43m\"\u001b[39;49m\u001b[43m,\u001b[49m\u001b[43m \u001b[49m\u001b[33;43m'\u001b[39;49m\u001b[33;43mr\u001b[39;49m\u001b[33;43m'\u001b[39;49m\u001b[43m)\u001b[49m \u001b[38;5;66;03m#if there is no any file, and we open it in read mode it will throw an error\u001b[39;00m\n",
      "\u001b[36mFile \u001b[39m\u001b[32m~/.local/lib/python3.12/site-packages/IPython/core/interactiveshell.py:326\u001b[39m, in \u001b[36m_modified_open\u001b[39m\u001b[34m(file, *args, **kwargs)\u001b[39m\n\u001b[32m    319\u001b[39m \u001b[38;5;28;01mif\u001b[39;00m file \u001b[38;5;129;01min\u001b[39;00m {\u001b[32m0\u001b[39m, \u001b[32m1\u001b[39m, \u001b[32m2\u001b[39m}:\n\u001b[32m    320\u001b[39m     \u001b[38;5;28;01mraise\u001b[39;00m \u001b[38;5;167;01mValueError\u001b[39;00m(\n\u001b[32m    321\u001b[39m         \u001b[33mf\u001b[39m\u001b[33m\"\u001b[39m\u001b[33mIPython won\u001b[39m\u001b[33m'\u001b[39m\u001b[33mt let you open fd=\u001b[39m\u001b[38;5;132;01m{\u001b[39;00mfile\u001b[38;5;132;01m}\u001b[39;00m\u001b[33m by default \u001b[39m\u001b[33m\"\u001b[39m\n\u001b[32m    322\u001b[39m         \u001b[33m\"\u001b[39m\u001b[33mas it is likely to crash IPython. If you know what you are doing, \u001b[39m\u001b[33m\"\u001b[39m\n\u001b[32m    323\u001b[39m         \u001b[33m\"\u001b[39m\u001b[33myou can use builtins\u001b[39m\u001b[33m'\u001b[39m\u001b[33m open.\u001b[39m\u001b[33m\"\u001b[39m\n\u001b[32m    324\u001b[39m     )\n\u001b[32m--> \u001b[39m\u001b[32m326\u001b[39m \u001b[38;5;28;01mreturn\u001b[39;00m \u001b[43mio_open\u001b[49m\u001b[43m(\u001b[49m\u001b[43mfile\u001b[49m\u001b[43m,\u001b[49m\u001b[43m \u001b[49m\u001b[43m*\u001b[49m\u001b[43margs\u001b[49m\u001b[43m,\u001b[49m\u001b[43m \u001b[49m\u001b[43m*\u001b[49m\u001b[43m*\u001b[49m\u001b[43mkwargs\u001b[49m\u001b[43m)\u001b[49m\n",
      "\u001b[31mFileNotFoundError\u001b[39m: [Errno 2] No such file or directory: 'files.txt'"
     ]
    }
   ],
   "source": [
    "# Mode\n",
    "# r  : read mode\n",
    "# w  : write mode\n",
    "# a  : append mode\n",
    "# r+ : both reading and writing\n",
    "\n",
    "open(\"files.txt\", 'r') #if there is no any file, and we open it in read mode it will throw an error\n"
   ]
  },
  {
   "cell_type": "code",
   "execution_count": 2,
   "id": "98f2509b",
   "metadata": {},
   "outputs": [],
   "source": [
    "file = open(\"file.txt\", \"w\") #w>>write mode, if a file is not there it will create the file.txt and then read it"
   ]
  },
  {
   "cell_type": "code",
   "execution_count": null,
   "id": "29ea9342",
   "metadata": {},
   "outputs": [
    {
     "data": {
      "text/plain": [
       "44"
      ]
     },
     "execution_count": 3,
     "metadata": {},
     "output_type": "execute_result"
    }
   ],
   "source": [
    "file.write(\"Hello this is my first line in the text file\") #number below is no of bytes, we have written"
   ]
  },
  {
   "cell_type": "code",
   "execution_count": 4,
   "id": "3da1fcf5",
   "metadata": {},
   "outputs": [],
   "source": [
    "# As of now if we open the written file we will not be able to see any text in file\n",
    "# To see we have to close the file\n",
    "\n",
    "file.close()"
   ]
  },
  {
   "cell_type": "code",
   "execution_count": 5,
   "id": "6a20752f",
   "metadata": {},
   "outputs": [
    {
     "data": {
      "text/plain": [
       "<_io.TextIOWrapper name='file.txt' mode='w' encoding='UTF-8'>"
      ]
     },
     "execution_count": 5,
     "metadata": {},
     "output_type": "execute_result"
    }
   ],
   "source": [
    "file #file attributes"
   ]
  },
  {
   "cell_type": "code",
   "execution_count": 6,
   "id": "95288ffe",
   "metadata": {},
   "outputs": [
    {
     "data": {
      "text/plain": [
       "True"
      ]
     },
     "execution_count": 6,
     "metadata": {},
     "output_type": "execute_result"
    }
   ],
   "source": [
    "file.closed #if file is closed it will return true else false"
   ]
  },
  {
   "cell_type": "code",
   "execution_count": 7,
   "id": "20c44784",
   "metadata": {},
   "outputs": [],
   "source": [
    "file = open(\"file.txt\", \"r\")"
   ]
  },
  {
   "cell_type": "code",
   "execution_count": 8,
   "id": "00c32c44",
   "metadata": {},
   "outputs": [
    {
     "data": {
      "text/plain": [
       "False"
      ]
     },
     "execution_count": 8,
     "metadata": {},
     "output_type": "execute_result"
    }
   ],
   "source": [
    "file.closed"
   ]
  },
  {
   "cell_type": "code",
   "execution_count": 9,
   "id": "5e24313a",
   "metadata": {},
   "outputs": [],
   "source": [
    "file.close()"
   ]
  },
  {
   "cell_type": "code",
   "execution_count": 10,
   "id": "0661e837",
   "metadata": {},
   "outputs": [
    {
     "data": {
      "text/plain": [
       "True"
      ]
     },
     "execution_count": 10,
     "metadata": {},
     "output_type": "execute_result"
    }
   ],
   "source": [
    "file.closed"
   ]
  },
  {
   "cell_type": "code",
   "execution_count": 11,
   "id": "6a526be3",
   "metadata": {},
   "outputs": [
    {
     "data": {
      "text/plain": [
       "'file.txt'"
      ]
     },
     "execution_count": 11,
     "metadata": {},
     "output_type": "execute_result"
    }
   ],
   "source": [
    "file.name"
   ]
  },
  {
   "cell_type": "code",
   "execution_count": 12,
   "id": "b33a98fb",
   "metadata": {},
   "outputs": [
    {
     "data": {
      "text/plain": [
       "'r'"
      ]
     },
     "execution_count": 12,
     "metadata": {},
     "output_type": "execute_result"
    }
   ],
   "source": [
    "file.mode"
   ]
  },
  {
   "cell_type": "code",
   "execution_count": 13,
   "id": "9d08585f",
   "metadata": {},
   "outputs": [
    {
     "data": {
      "text/plain": [
       "True"
      ]
     },
     "execution_count": 13,
     "metadata": {},
     "output_type": "execute_result"
    }
   ],
   "source": [
    "file.closed"
   ]
  },
  {
   "cell_type": "code",
   "execution_count": 14,
   "id": "17a01aed",
   "metadata": {},
   "outputs": [
    {
     "ename": "ValueError",
     "evalue": "I/O operation on closed file.",
     "output_type": "error",
     "traceback": [
      "\u001b[31m---------------------------------------------------------------------------\u001b[39m",
      "\u001b[31mValueError\u001b[39m                                Traceback (most recent call last)",
      "\u001b[36mCell\u001b[39m\u001b[36m \u001b[39m\u001b[32mIn[14]\u001b[39m\u001b[32m, line 1\u001b[39m\n\u001b[32m----> \u001b[39m\u001b[32m1\u001b[39m \u001b[43mfile\u001b[49m\u001b[43m.\u001b[49m\u001b[43mwrite\u001b[49m\u001b[43m(\u001b[49m\u001b[33;43m\"\u001b[39;49m\u001b[33;43mThis is my second line\u001b[39;49m\u001b[33;43m\"\u001b[39;49m\u001b[43m)\u001b[49m \u001b[38;5;66;03m#this will not be executed, throw an error: file is closed: we can not write anything in closed file\u001b[39;00m\n",
      "\u001b[31mValueError\u001b[39m: I/O operation on closed file."
     ]
    }
   ],
   "source": [
    "file.write(\"This is my second line\") #this will not be executed, throw an error: file is closed: we can not write anything in closed file"
   ]
  },
  {
   "cell_type": "code",
   "execution_count": 15,
   "id": "47cb6e13",
   "metadata": {},
   "outputs": [],
   "source": [
    "file = open(\"file.txt\", \"w\") #it will truncate(delete) all earlier contetnt and make a fresh file.txt"
   ]
  },
  {
   "cell_type": "code",
   "execution_count": 16,
   "id": "915bccfc",
   "metadata": {},
   "outputs": [],
   "source": [
    "file.close()"
   ]
  },
  {
   "cell_type": "code",
   "execution_count": 17,
   "id": "2c2469a0",
   "metadata": {},
   "outputs": [],
   "source": [
    "file = open(\"file.txt\", \"w\")\n",
    "file.write(\"This is my first line\\n\")\n",
    "file.write(\"This is my second line\\n\")\n",
    "file.write(\"This is my third line\\n\")\n",
    "file.write(\"This is my fourth line\\n\")\n",
    "file.close()"
   ]
  },
  {
   "cell_type": "code",
   "execution_count": 18,
   "id": "3483c016",
   "metadata": {},
   "outputs": [],
   "source": [
    "file = open(\"file.txt\", \"w\")\n",
    "file.write(\"This is fifth line\") #all earlier content will deleted\n",
    "file.close()"
   ]
  },
  {
   "cell_type": "code",
   "execution_count": 19,
   "id": "1dca1b95",
   "metadata": {},
   "outputs": [],
   "source": [
    "file = open(\"file.txt\", \"w\")\n",
    "file.write(\"This is my first line\\n\")\n",
    "file.write(\"This is my second line\\n\")\n",
    "file.write(\"This is my third line\\n\")\n",
    "file.write(\"This is my fourth line\\n\")\n",
    "file.close()"
   ]
  },
  {
   "cell_type": "code",
   "execution_count": 20,
   "id": "df4eabae",
   "metadata": {},
   "outputs": [],
   "source": [
    "file = open(\"file.txt\", \"a\") #append the new line\n",
    "file.write(\"Vikash Kumar\")\n",
    "file.close()"
   ]
  },
  {
   "cell_type": "code",
   "execution_count": 21,
   "id": "5b75b19e",
   "metadata": {},
   "outputs": [],
   "source": [
    "file = open(\"file.txt\", 'r')"
   ]
  },
  {
   "cell_type": "code",
   "execution_count": 22,
   "id": "1f44ab58",
   "metadata": {},
   "outputs": [
    {
     "ename": "UnsupportedOperation",
     "evalue": "not writable",
     "output_type": "error",
     "traceback": [
      "\u001b[31m---------------------------------------------------------------------------\u001b[39m",
      "\u001b[31mUnsupportedOperation\u001b[39m                      Traceback (most recent call last)",
      "\u001b[36mCell\u001b[39m\u001b[36m \u001b[39m\u001b[32mIn[22]\u001b[39m\u001b[32m, line 1\u001b[39m\n\u001b[32m----> \u001b[39m\u001b[32m1\u001b[39m \u001b[43mfile\u001b[49m\u001b[43m.\u001b[49m\u001b[43mwrite\u001b[49m\u001b[43m(\u001b[49m\u001b[33;43m\"\u001b[39;49m\u001b[33;43mthis is another line\u001b[39;49m\u001b[33;43m\"\u001b[39;49m\u001b[43m)\u001b[49m\n",
      "\u001b[31mUnsupportedOperation\u001b[39m: not writable"
     ]
    }
   ],
   "source": [
    "file.write(\"this is another line\")"
   ]
  },
  {
   "cell_type": "code",
   "execution_count": 23,
   "id": "9d036bad",
   "metadata": {},
   "outputs": [
    {
     "name": "stdout",
     "output_type": "stream",
     "text": [
      "This is my first line\n",
      "\n",
      "This is my second line\n",
      "\n",
      "This is my third line\n",
      "\n",
      "This is my fourth line\n",
      "\n",
      "Vikash Kumar\n"
     ]
    }
   ],
   "source": [
    "#various way of printing lines\n",
    "for i in file:\n",
    "    print(i)"
   ]
  },
  {
   "cell_type": "code",
   "execution_count": null,
   "id": "bcf8342b",
   "metadata": {},
   "outputs": [
    {
     "name": "stdout",
     "output_type": "stream",
     "text": [
      "\n"
     ]
    }
   ],
   "source": [
    "print(file.read()) #here the cursor/pointer is at last position so don't print anything"
   ]
  },
  {
   "cell_type": "code",
   "execution_count": 25,
   "id": "49364511",
   "metadata": {},
   "outputs": [
    {
     "data": {
      "text/plain": [
       "''"
      ]
     },
     "execution_count": 25,
     "metadata": {},
     "output_type": "execute_result"
    }
   ],
   "source": [
    "file.read()"
   ]
  },
  {
   "cell_type": "code",
   "execution_count": 26,
   "id": "786187ff",
   "metadata": {},
   "outputs": [
    {
     "data": {
      "text/plain": [
       "102"
      ]
     },
     "execution_count": 26,
     "metadata": {},
     "output_type": "execute_result"
    }
   ],
   "source": [
    "file.tell() #it tells the current position of the cursor"
   ]
  },
  {
   "cell_type": "code",
   "execution_count": 27,
   "id": "c08a560c",
   "metadata": {},
   "outputs": [
    {
     "data": {
      "text/plain": [
       "0"
      ]
     },
     "execution_count": 27,
     "metadata": {},
     "output_type": "execute_result"
    }
   ],
   "source": [
    "file.seek(0)"
   ]
  },
  {
   "cell_type": "code",
   "execution_count": 28,
   "id": "e5be5e7e",
   "metadata": {},
   "outputs": [
    {
     "name": "stdout",
     "output_type": "stream",
     "text": [
      "This is my first line\n",
      "This is my second line\n",
      "This is my third line\n",
      "This is my fourth line\n",
      "Vikash Kumar\n"
     ]
    }
   ],
   "source": [
    "f = open(\"file.txt\", 'r')\n",
    "f.seek(0) #it will bring cursor to start of the the file\n",
    "print(f.read()) #it will read everything from starting\n",
    "f.close()"
   ]
  },
  {
   "cell_type": "code",
   "execution_count": 29,
   "id": "d403f2c3",
   "metadata": {},
   "outputs": [
    {
     "name": "stdout",
     "output_type": "stream",
     "text": [
      "This is my first line\n",
      "\n"
     ]
    }
   ],
   "source": [
    "f = open(\"file.txt\", 'r')\n",
    "print(f.readline()) #it will only read the first line\n",
    "f.close()"
   ]
  },
  {
   "cell_type": "code",
   "execution_count": 30,
   "id": "bce9dc87",
   "metadata": {},
   "outputs": [
    {
     "name": "stdout",
     "output_type": "stream",
     "text": [
      "['This is my first line\\n', 'This is my second line\\n', 'This is my third line\\n', 'This is my fourth line\\n', 'Vikash Kumar']\n"
     ]
    }
   ],
   "source": [
    "f = open(\"file.txt\", 'r')\n",
    "print(f.readlines())  #all the lines will be the element of a list\n",
    "f.close()"
   ]
  },
  {
   "cell_type": "code",
   "execution_count": 31,
   "id": "ad5867d1",
   "metadata": {},
   "outputs": [
    {
     "name": "stdout",
     "output_type": "stream",
     "text": [
      "/workspaces/Python-Problems/Files_handling\n"
     ]
    }
   ],
   "source": [
    "#present working directory\n",
    "!pwd"
   ]
  },
  {
   "cell_type": "code",
   "execution_count": 33,
   "id": "6f47fa4c",
   "metadata": {},
   "outputs": [
    {
     "data": {
      "text/plain": [
       "'/workspaces/Python-Problems/Files_handling'"
      ]
     },
     "execution_count": 33,
     "metadata": {},
     "output_type": "execute_result"
    }
   ],
   "source": [
    "import os\n",
    "\n",
    "os.getcwd()"
   ]
  },
  {
   "cell_type": "code",
   "execution_count": 34,
   "id": "20ab83c8",
   "metadata": {},
   "outputs": [
    {
     "name": "stdout",
     "output_type": "stream",
     "text": [
      "Files_handling.ipynb  file.txt\n"
     ]
    }
   ],
   "source": [
    "ls"
   ]
  },
  {
   "cell_type": "code",
   "execution_count": 35,
   "id": "ab834cb4",
   "metadata": {},
   "outputs": [
    {
     "data": {
      "text/plain": [
       "102"
      ]
     },
     "execution_count": 35,
     "metadata": {},
     "output_type": "execute_result"
    }
   ],
   "source": [
    "os.path.getsize(\"file.txt\")"
   ]
  },
  {
   "cell_type": "code",
   "execution_count": 36,
   "id": "fa3a6e8c",
   "metadata": {},
   "outputs": [],
   "source": [
    "os.mkdir(\"test\")"
   ]
  },
  {
   "cell_type": "code",
   "execution_count": 37,
   "id": "397ed814",
   "metadata": {},
   "outputs": [],
   "source": [
    "os.mkdir(\"test/test1\")"
   ]
  },
  {
   "cell_type": "code",
   "execution_count": 38,
   "id": "5cf7441f",
   "metadata": {},
   "outputs": [
    {
     "ename": "FileNotFoundError",
     "evalue": "[Errno 2] No such file or directory: '1/2'",
     "output_type": "error",
     "traceback": [
      "\u001b[31m---------------------------------------------------------------------------\u001b[39m",
      "\u001b[31mFileNotFoundError\u001b[39m                         Traceback (most recent call last)",
      "\u001b[36mCell\u001b[39m\u001b[36m \u001b[39m\u001b[32mIn[38]\u001b[39m\u001b[32m, line 1\u001b[39m\n\u001b[32m----> \u001b[39m\u001b[32m1\u001b[39m \u001b[43mos\u001b[49m\u001b[43m.\u001b[49m\u001b[43mmkdir\u001b[49m\u001b[43m(\u001b[49m\u001b[33;43m\"\u001b[39;49m\u001b[33;43m1/2\u001b[39;49m\u001b[33;43m\"\u001b[39;49m\u001b[43m)\u001b[49m \u001b[38;5;66;03m#it will throw an error because 1 is not made first\u001b[39;00m\n",
      "\u001b[31mFileNotFoundError\u001b[39m: [Errno 2] No such file or directory: '1/2'"
     ]
    }
   ],
   "source": [
    "os.mkdir(\"1/2\") #it will throw an error because 1 is not made first"
   ]
  },
  {
   "cell_type": "code",
   "execution_count": 39,
   "id": "09f21da0",
   "metadata": {},
   "outputs": [],
   "source": [
    "os.makedirs(\"1/2/3/4\")"
   ]
  },
  {
   "cell_type": "code",
   "execution_count": 40,
   "id": "adce6a54",
   "metadata": {},
   "outputs": [
    {
     "name": "stdout",
     "output_type": "stream",
     "text": [
      "\u001b[0m\u001b[34;42m1\u001b[0m/  Files_handling.ipynb  file.txt  \u001b[34;42mtest\u001b[0m/\n"
     ]
    }
   ],
   "source": [
    "ls"
   ]
  },
  {
   "cell_type": "code",
   "execution_count": 41,
   "id": "97916c8c",
   "metadata": {},
   "outputs": [],
   "source": [
    "os.mkdir(\"feat\")"
   ]
  },
  {
   "cell_type": "code",
   "execution_count": 42,
   "id": "25d02de3",
   "metadata": {},
   "outputs": [],
   "source": [
    "os.rmdir(\"feat\") #to delete one directory without any content inside the directory"
   ]
  },
  {
   "cell_type": "code",
   "execution_count": 43,
   "id": "056dc803",
   "metadata": {},
   "outputs": [
    {
     "ename": "OSError",
     "evalue": "[Errno 39] Directory not empty: 'test'",
     "output_type": "error",
     "traceback": [
      "\u001b[31m---------------------------------------------------------------------------\u001b[39m",
      "\u001b[31mOSError\u001b[39m                                   Traceback (most recent call last)",
      "\u001b[36mCell\u001b[39m\u001b[36m \u001b[39m\u001b[32mIn[43]\u001b[39m\u001b[32m, line 1\u001b[39m\n\u001b[32m----> \u001b[39m\u001b[32m1\u001b[39m \u001b[43mos\u001b[49m\u001b[43m.\u001b[49m\u001b[43mrmdir\u001b[49m\u001b[43m(\u001b[49m\u001b[33;43m\"\u001b[39;49m\u001b[33;43mtest\u001b[39;49m\u001b[33;43m\"\u001b[39;49m\u001b[43m)\u001b[49m \u001b[38;5;66;03m#throw an error as test is not empty\u001b[39;00m\n",
      "\u001b[31mOSError\u001b[39m: [Errno 39] Directory not empty: 'test'"
     ]
    }
   ],
   "source": [
    "os.rmdir(\"test\") #throw an error as test is not empty"
   ]
  },
  {
   "cell_type": "code",
   "execution_count": 44,
   "id": "8119f3d6",
   "metadata": {},
   "outputs": [],
   "source": [
    "import shutil\n",
    "shutil.rmtree(\"test\") #it will remove the folder hierarchy"
   ]
  },
  {
   "cell_type": "code",
   "execution_count": 45,
   "id": "f019c8c9",
   "metadata": {},
   "outputs": [
    {
     "data": {
      "text/plain": [
       "'/workspaces/Python-Problems/Files_handling'"
      ]
     },
     "execution_count": 45,
     "metadata": {},
     "output_type": "execute_result"
    }
   ],
   "source": [
    "os.getcwd()"
   ]
  },
  {
   "cell_type": "code",
   "execution_count": 46,
   "id": "c44b7a52",
   "metadata": {},
   "outputs": [],
   "source": [
    "os.makedirs(\"test/test1\")"
   ]
  },
  {
   "cell_type": "code",
   "execution_count": 48,
   "id": "5304884d",
   "metadata": {},
   "outputs": [],
   "source": [
    "f = open(\"/workspaces/Python-Problems/Files_handling/test/file.txt\", \"w\")"
   ]
  },
  {
   "cell_type": "code",
   "execution_count": null,
   "id": "84b98e5d",
   "metadata": {},
   "outputs": [
    {
     "data": {
      "text/plain": [
       "'/workspaces/Python-Problems/Files_handling/file.txt'"
      ]
     },
     "execution_count": 49,
     "metadata": {},
     "output_type": "execute_result"
    }
   ],
   "source": [
    "#copying the above file in the current location :  /workspaces/Python-Problems/Files_handling\n",
    "#shutil.copy(src, dest)\n",
    "\n",
    "shutil.copy(\"/workspaces/Python-Problems/Files_handling/test/file.txt\", '/workspaces/Python-Problems/Files_handling') #keep a copy at original source as well"
   ]
  },
  {
   "cell_type": "code",
   "execution_count": 50,
   "id": "8046e64e",
   "metadata": {},
   "outputs": [],
   "source": [
    "# Move a file\n",
    "\n",
    "os.mkdir(\"file_test\")"
   ]
  },
  {
   "cell_type": "code",
   "execution_count": null,
   "id": "154e12fa",
   "metadata": {},
   "outputs": [
    {
     "data": {
      "text/plain": [
       "'/workspaces/Python-Problems/Files_handling/file.txt'"
      ]
     },
     "execution_count": 52,
     "metadata": {},
     "output_type": "execute_result"
    }
   ],
   "source": [
    " #Manually deleted existing file\n",
    "shutil.move(\"/workspaces/Python-Problems/Files_handling/test/file.txt\", '/workspaces/Python-Problems/Files_handling')"
   ]
  },
  {
   "cell_type": "code",
   "execution_count": 53,
   "id": "40331ce2",
   "metadata": {},
   "outputs": [],
   "source": [
    "# Move will remove the file from original source to destination source\n",
    "\n",
    "with open('file.txt', 'w') as f:\n",
    "    f.write(\"This is my first line\")"
   ]
  },
  {
   "cell_type": "code",
   "execution_count": 54,
   "id": "e5ac04b6",
   "metadata": {},
   "outputs": [
    {
     "name": "stdout",
     "output_type": "stream",
     "text": [
      "This is my first line\n"
     ]
    }
   ],
   "source": [
    "# with statment ensures that the file is closed properly after the block of code is executed\n",
    "# Important: free up system resources and avoid issues like data corruption or file lock\n",
    "\n",
    "with open(\"file.txt\", 'r') as f:\n",
    "    line = f.readline()\n",
    "    print(line)"
   ]
  },
  {
   "cell_type": "code",
   "execution_count": null,
   "id": "71be8196",
   "metadata": {},
   "outputs": [],
   "source": []
  }
 ],
 "metadata": {
  "kernelspec": {
   "display_name": "Python 3",
   "language": "python",
   "name": "python3"
  },
  "language_info": {
   "codemirror_mode": {
    "name": "ipython",
    "version": 3
   },
   "file_extension": ".py",
   "mimetype": "text/x-python",
   "name": "python",
   "nbconvert_exporter": "python",
   "pygments_lexer": "ipython3",
   "version": "3.12.1"
  }
 },
 "nbformat": 4,
 "nbformat_minor": 5
}
