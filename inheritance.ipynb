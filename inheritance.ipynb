{
 "cells": [
  {
   "cell_type": "code",
   "execution_count": 2,
   "id": "225c9a96",
   "metadata": {},
   "outputs": [],
   "source": [
    "#Inheritance: refers to process of child class receiving properties from the parent class\n",
    "\n",
    "#Single Inheritance: when a derived class has only one parent class\n",
    "\n"
   ]
  },
  {
   "cell_type": "code",
   "execution_count": 3,
   "id": "763f88e4",
   "metadata": {},
   "outputs": [
    {
     "name": "stdout",
     "output_type": "stream",
     "text": [
      "This is the father property\n"
     ]
    }
   ],
   "source": [
    "class Father:\n",
    "    def father_property(self):\n",
    "        print(\"This is the father property\")\n",
    "\n",
    "class Son(Father):\n",
    "    def job(self):\n",
    "        print(\"SOn has property from Job\")\n",
    "\n",
    "child_obj = Son()  #object/instance of son class\n",
    "\n",
    "child_obj.father_property()"
   ]
  },
  {
   "cell_type": "code",
   "execution_count": 5,
   "id": "f25ad25a",
   "metadata": {},
   "outputs": [
    {
     "name": "stdout",
     "output_type": "stream",
     "text": [
      "This is the father property\n"
     ]
    }
   ],
   "source": [
    "father_obj = Father() #father will have only his property\n",
    "father_obj.father_property()"
   ]
  },
  {
   "cell_type": "code",
   "execution_count": 13,
   "id": "a365d323",
   "metadata": {},
   "outputs": [],
   "source": [
    "#parent class will not have access to the property(method/attribute) of child class but child class will have access to both\n",
    "\n",
    "class Fruit:\n",
    "    def fruit_info(self):\n",
    "        print(\"Inside Parent class\")\n",
    "\n",
    "class Apple(Fruit):\n",
    "    def apple_info(self):\n",
    "        print(\"Inside the child class\")\n",
    "\n"
   ]
  },
  {
   "cell_type": "code",
   "execution_count": 14,
   "id": "0ca649d7",
   "metadata": {},
   "outputs": [
    {
     "name": "stdout",
     "output_type": "stream",
     "text": [
      "Inside Parent class\n"
     ]
    }
   ],
   "source": [
    "obj = Apple()\n",
    "obj.fruit_info()"
   ]
  },
  {
   "cell_type": "code",
   "execution_count": null,
   "id": "6b535e6f",
   "metadata": {},
   "outputs": [],
   "source": [
    " #Method Overriding: re-writing/re-defining methods of parent class in derived/child class\n",
    "class Fruit:\n",
    "    def fruit_info(self):\n",
    "        print(\"Inside Parent class\")\n",
    "class Apple(Fruit):\n",
    "    def fruit_info(self):\n",
    "        print(\"Inside the child class (fruit info)\")\n",
    "    def apple_info(self):\n",
    "        print(\"Inside the child class\")\n",
    "        \n",
    "#Method Overriding: child class is very powerfull\n",
    "#Method Overriding happend between two class"
   ]
  },
  {
   "cell_type": "code",
   "execution_count": 12,
   "id": "705089b8",
   "metadata": {},
   "outputs": [
    {
     "name": "stdout",
     "output_type": "stream",
     "text": [
      "Inside the child class (fruit info)\n"
     ]
    }
   ],
   "source": [
    "obj = Apple()\n",
    "obj.fruit_info()"
   ]
  },
  {
   "cell_type": "code",
   "execution_count": null,
   "id": "889fdf82",
   "metadata": {},
   "outputs": [],
   "source": [
    "#Multi-layer Inheritance properties\n",
    "\n",
    "class GrandFather:\n",
    "    def prop_grand_father(self):\n",
    "        print(\"I am your Grand father and I have my properties\")\n",
    "\n",
    "class Father(GrandFather):\n",
    "    def prop_father(self):\n",
    "        print(\"I am Father and I have also properties of your Grandfather\")\n",
    "\n",
    "class Son(Father):\n",
    "    def prop_son(self):\n",
    "        print(\"I am the King and have both properties of father and grandfather\")"
   ]
  },
  {
   "cell_type": "code",
   "execution_count": 16,
   "id": "df00848f",
   "metadata": {},
   "outputs": [
    {
     "name": "stdout",
     "output_type": "stream",
     "text": [
      "I am your Grand father and I have my properties\n"
     ]
    }
   ],
   "source": [
    "son = Son()\n",
    "son.prop_grand_father()"
   ]
  },
  {
   "cell_type": "code",
   "execution_count": 17,
   "id": "b5dd2509",
   "metadata": {},
   "outputs": [
    {
     "name": "stdout",
     "output_type": "stream",
     "text": [
      "I am your Grand father and I have my properties\n"
     ]
    }
   ],
   "source": [
    "fath = Father()\n",
    "fath.prop_grand_father()"
   ]
  },
  {
   "cell_type": "code",
   "execution_count": 18,
   "id": "30f3180b",
   "metadata": {},
   "outputs": [],
   "source": [
    "class Vehicle:\n",
    "    def vehicle_info(self):\n",
    "        print(\"Inside vehicle class\")\n",
    "\n",
    "class Car(Vehicle):\n",
    "    def car_info(self):\n",
    "        print(\"Inside the car class\")\n",
    "\n",
    "class SportsCar(Car):\n",
    "    def sports_car_info(self):\n",
    "        print(\"Inside the sports car\")"
   ]
  },
  {
   "cell_type": "code",
   "execution_count": null,
   "id": "3f91404c",
   "metadata": {},
   "outputs": [
    {
     "name": "stdout",
     "output_type": "stream",
     "text": [
      "Inside vehicle class\n"
     ]
    }
   ],
   "source": [
    "s1=SportsCar()\n",
    "s1.vehicle_info() #Calling super parent class properties"
   ]
  },
  {
   "cell_type": "code",
   "execution_count": 26,
   "id": "2958854f",
   "metadata": {},
   "outputs": [
    {
     "name": "stdout",
     "output_type": "stream",
     "text": [
      "Method 1 of parent 1 is executed\n",
      "Method 2 of parent class 2 is executed\n"
     ]
    }
   ],
   "source": [
    "#Multiple Inheritance: one child class may inherit the propety of mutiple parent class\n",
    "\n",
    "class ParentClass1:\n",
    "    def method1(self):\n",
    "        print(\"Method 1 of parent 1 is executed\")\n",
    "\n",
    "class ParentClass2:\n",
    "    def method2(self):\n",
    "        print(\"Method 2 of parent class 2 is executed\")\n",
    "\n",
    "class ChildClass(ParentClass1, ParentClass2):\n",
    "    def method3(self):\n",
    "        print(\"This is the method of child class\")\n",
    "\n",
    "ch = ChildClass()\n",
    "ch.method1()\n",
    "ch.method2()"
   ]
  },
  {
   "cell_type": "code",
   "execution_count": 29,
   "id": "9cfd3fa5",
   "metadata": {},
   "outputs": [],
   "source": [
    "#DIAMOND PROBLEM: It occurs when a class inherits from 2 or more than 2 class>> will lead to ambiguity in execution of methods\n",
    "#To remove diamond problem: python uses Method Resolution Order(MRO) algorithm called c3 linearization\n",
    "#i.e., the class that is inherited first in the derived class, that method will be called\n",
    "\n",
    "class ParentClass1:\n",
    "    def method_par(self):\n",
    "        print(\"method 1 of parent class 1\")\n",
    "class ParentClass2:\n",
    "    def method_par(self):\n",
    "        print(\"method2 of parent class 2\")\n",
    "class ChildClass(ParentClass1, ParentClass2): \n",
    "    def method(self):\n",
    "        print(\"method of child class\")"
   ]
  },
  {
   "cell_type": "code",
   "execution_count": 30,
   "id": "ec9f0083",
   "metadata": {},
   "outputs": [
    {
     "name": "stdout",
     "output_type": "stream",
     "text": [
      "method 1 of parent class 1\n"
     ]
    }
   ],
   "source": [
    "child2=ChildClass()\n",
    "child2.method_par() #in this case method 1 called first"
   ]
  },
  {
   "cell_type": "code",
   "execution_count": 35,
   "id": "1c736cca",
   "metadata": {},
   "outputs": [],
   "source": [
    "#Hierarchical Inheritance: one parent class and multiple(more than two childclass)\n",
    "\n",
    "class Vehicle:\n",
    "    def vehicle_info(self):\n",
    "        print(\"This is vehicle info\")\n",
    "\n",
    "class Car(Vehicle):\n",
    "    def car_info(self, name):\n",
    "        print(\"This is car info\", name)\n",
    "\n",
    "class Truck(Vehicle):\n",
    "    def truck_info(self, name):\n",
    "        print(\"This is the Truck info\", name)"
   ]
  },
  {
   "cell_type": "code",
   "execution_count": 36,
   "id": "7ba1552f",
   "metadata": {},
   "outputs": [
    {
     "name": "stdout",
     "output_type": "stream",
     "text": [
      "This is vehicle info\n",
      "This is car info BMW\n"
     ]
    }
   ],
   "source": [
    "c1= Car()\n",
    "c1.vehicle_info()\n",
    "c1.car_info(\"BMW\")"
   ]
  },
  {
   "cell_type": "code",
   "execution_count": 37,
   "id": "65b422af",
   "metadata": {},
   "outputs": [],
   "source": [
    "#Hybrid Inheritance: multiple types or combination of different inheritance\n",
    "\n",
    "class Vehicle:\n",
    "    def vehicle_info(self):\n",
    "        print(\"Inside the vehicle class\")\n",
    "        \n",
    "class Car(Vehicle):\n",
    "    def car_info(self):\n",
    "        print(\"Inside the car class\")\n",
    "        \n",
    "class Truck(Vehicle):\n",
    "    def truck_info(self, name):\n",
    "        print(\"Inside truck info\", name)\n",
    "        \n",
    "class SportsCar(Car, Vehicle):\n",
    "    def sports_info(self):\n",
    "        print(\"Inside sports car class\")\n",
    "        "
   ]
  },
  {
   "cell_type": "code",
   "execution_count": 38,
   "id": "0364bf4b",
   "metadata": {},
   "outputs": [
    {
     "name": "stdout",
     "output_type": "stream",
     "text": [
      "Inside the car class\n"
     ]
    }
   ],
   "source": [
    "obj1 = SportsCar()\n",
    "obj1.car_info()"
   ]
  },
  {
   "cell_type": "code",
   "execution_count": 39,
   "id": "6bf5442b",
   "metadata": {},
   "outputs": [],
   "source": [
    "#Abstraction: Concept of hiding complex implementation\n",
    "#Hiding unneeded details and exposing the required\n",
    "#Abstract class can not be instantiated (can not make object)\n",
    "#Abstract class should always be subclassed\n",
    "#Abstact class may contain method that are just declared and not implemented in abstract class itself, subclass are responsible for implementing these abstract methods\n",
    "\n",
    "#Abstract class can be achieved using abstract class  using import abc (module)\n",
    "\n",
    "import abc #collection of multiple functions is a module\n",
    "\n",
    "#use case\n",
    "#in any class at pwskills>>data science/ frontend/backend, the following three methods will be common\n",
    "class PwSkills:\n",
    "    \n",
    "    @abc.abstractmethod\n",
    "    def student_details(self):\n",
    "        pass\n",
    "    \n",
    "    @abc.abstractmethod\n",
    "    def student_assignment(self):\n",
    "        pass\n",
    "    \n",
    "    @abc.abstractmethod\n",
    "    def student_marks(self):\n",
    "        pass\n"
   ]
  },
  {
   "cell_type": "code",
   "execution_count": 40,
   "id": "9d47f0b5",
   "metadata": {},
   "outputs": [],
   "source": [
    "class DataScience(PwSkills):\n",
    "    def student_details(self):\n",
    "        return \"Data Science course details\"\n",
    "    def student_marks(self):\n",
    "        return \"give ds students marks\""
   ]
  },
  {
   "cell_type": "code",
   "execution_count": 41,
   "id": "59a472f1",
   "metadata": {},
   "outputs": [],
   "source": [
    "class WebDev(PwSkills):\n",
    "    def student_assignment(self):\n",
    "        return \"This will give web dev student assignment\"\n",
    "    def student_marks(self):\n",
    "        return \"webdev student marks\""
   ]
  },
  {
   "cell_type": "code",
   "execution_count": 42,
   "id": "e2ff8d6f",
   "metadata": {},
   "outputs": [
    {
     "data": {
      "text/plain": [
       "'Data Science course details'"
      ]
     },
     "execution_count": 42,
     "metadata": {},
     "output_type": "execute_result"
    }
   ],
   "source": [
    "ds =  DataScience()\n",
    "ds.student_details()"
   ]
  },
  {
   "cell_type": "code",
   "execution_count": 43,
   "id": "2cb00abd",
   "metadata": {},
   "outputs": [],
   "source": [
    "#if in inherited class, a method is not present from abstract class it will not throw any error\n",
    "\n",
    "ds.student_assignment() #it will not throw any error even if any method is not define\n",
    "\n"
   ]
  },
  {
   "cell_type": "code",
   "execution_count": 44,
   "id": "b2397ca6",
   "metadata": {},
   "outputs": [
    {
     "data": {
      "text/plain": [
       "'This will give web dev student assignment'"
      ]
     },
     "execution_count": 44,
     "metadata": {},
     "output_type": "execute_result"
    }
   ],
   "source": [
    "w = WebDev()\n",
    "w.student_assignment()"
   ]
  },
  {
   "cell_type": "code",
   "execution_count": 45,
   "id": "1bc7c3c9",
   "metadata": {},
   "outputs": [],
   "source": [
    "#use case\n",
    "class Shape:\n",
    "    \n",
    "    @abc.abstractmethod\n",
    "    def calculate_area(self):\n",
    "        pass\n",
    "class Rectangle(Shape):\n",
    "    def calculate_area(self):\n",
    "        return \"Area of rectange is len*breadth\"\n",
    "class Circle(Shape):\n",
    "    def calculate_area(self):\n",
    "        return \"area of circle is pi * r **2\""
   ]
  },
  {
   "cell_type": "code",
   "execution_count": 46,
   "id": "432b61ec",
   "metadata": {},
   "outputs": [
    {
     "data": {
      "text/plain": [
       "'Area of rectange is len*breadth'"
      ]
     },
     "execution_count": 46,
     "metadata": {},
     "output_type": "execute_result"
    }
   ],
   "source": [
    "rect = Rectangle()\n",
    "rect.calculate_area()"
   ]
  },
  {
   "cell_type": "code",
   "execution_count": 47,
   "id": "0a9ed3ad",
   "metadata": {},
   "outputs": [
    {
     "data": {
      "text/plain": [
       "'area of circle is pi * r **2'"
      ]
     },
     "execution_count": 47,
     "metadata": {},
     "output_type": "execute_result"
    }
   ],
   "source": [
    "c = Circle()\n",
    "c.calculate_area()"
   ]
  },
  {
   "cell_type": "code",
   "execution_count": null,
   "id": "ae734583",
   "metadata": {},
   "outputs": [],
   "source": []
  }
 ],
 "metadata": {
  "kernelspec": {
   "display_name": "Python 3",
   "language": "python",
   "name": "python3"
  },
  "language_info": {
   "codemirror_mode": {
    "name": "ipython",
    "version": 3
   },
   "file_extension": ".py",
   "mimetype": "text/x-python",
   "name": "python",
   "nbconvert_exporter": "python",
   "pygments_lexer": "ipython3",
   "version": "3.12.1"
  }
 },
 "nbformat": 4,
 "nbformat_minor": 5
}
