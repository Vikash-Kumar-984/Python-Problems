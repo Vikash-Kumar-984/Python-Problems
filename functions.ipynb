{
 "cells": [
  {
   "cell_type": "markdown",
   "id": "a8fab0a4",
   "metadata": {},
   "source": [
    "Functions | Vikash Kumar"
   ]
  },
  {
   "cell_type": "code",
   "execution_count": null,
   "id": "85d5d662",
   "metadata": {},
   "outputs": [],
   "source": [
    "#functions: inbuilt python function, e.g. print, len, type\n",
    "#ceil: roof,i.e. nearest highest whole number value\n",
    "#floor: ground,i.e., nearest lowest whole number values"
   ]
  },
  {
   "cell_type": "code",
   "execution_count": 3,
   "id": "514e6399",
   "metadata": {},
   "outputs": [
    {
     "name": "stdout",
     "output_type": "stream",
     "text": [
      "7\n",
      "6\n"
     ]
    }
   ],
   "source": [
    "import math as m\n",
    "\n",
    "print(m.ceil(6.5)) #Gives the nearest upper value\n",
    "print(m.floor(6.5)) #Gives the nearest lower value"
   ]
  },
  {
   "cell_type": "code",
   "execution_count": null,
   "id": "6c73cf2c",
   "metadata": {},
   "outputs": [
    {
     "name": "stdout",
     "output_type": "stream",
     "text": [
      "Welcome to the DS, Vikash\n",
      "Welcome to the DS, Wiry\n"
     ]
    }
   ],
   "source": [
    "#Function() is a block of code which performs some specific task and computation\n",
    "# Functions are reusable, neat, clean and organised, saves a lot of time\n",
    "\n",
    "\n",
    "#User defined function()\n",
    "def greet(name): #name is the  positional argument here\n",
    "    print(\"Welcome to the DS,\", name)\n",
    "\n",
    "greet(\"Vikash\")\n",
    "greet(\"Wiry\")"
   ]
  },
  {
   "cell_type": "code",
   "execution_count": null,
   "id": "c415ab6a",
   "metadata": {},
   "outputs": [
    {
     "data": {
      "text/plain": [
       "('This is the user defined function', 1, 2.5)"
      ]
     },
     "execution_count": 6,
     "metadata": {},
     "output_type": "execute_result"
    }
   ],
   "source": [
    "def func():\n",
    "    return \"This is the user defined function\", 1,2.5 #if it is not returned then it will gives an error as it return the nonedata type\n",
    "    #return as tuple\n",
    "func() \n",
    "# print(y)"
   ]
  },
  {
   "cell_type": "code",
   "execution_count": 9,
   "id": "9ab86138",
   "metadata": {},
   "outputs": [
    {
     "ename": "TypeError",
     "evalue": "can only concatenate tuple (not \"str\") to tuple",
     "output_type": "error",
     "traceback": [
      "\u001b[31m---------------------------------------------------------------------------\u001b[39m",
      "\u001b[31mTypeError\u001b[39m                                 Traceback (most recent call last)",
      "\u001b[36mCell\u001b[39m\u001b[36m \u001b[39m\u001b[32mIn[9]\u001b[39m\u001b[32m, line 1\u001b[39m\n\u001b[32m----> \u001b[39m\u001b[32m1\u001b[39m \u001b[43mfunc\u001b[49m\u001b[43m(\u001b[49m\u001b[43m)\u001b[49m\u001b[43m \u001b[49m\u001b[43m+\u001b[49m\u001b[43m \u001b[49m\u001b[33;43m\"\u001b[39;49m\u001b[33;43mWe can concatenate it\u001b[39;49m\u001b[33;43m\"\u001b[39;49m\n",
      "\u001b[31mTypeError\u001b[39m: can only concatenate tuple (not \"str\") to tuple"
     ]
    }
   ],
   "source": [
    "func() + \"We can concatenate it\""
   ]
  },
  {
   "cell_type": "code",
   "execution_count": 12,
   "id": "44ceb777",
   "metadata": {},
   "outputs": [
    {
     "name": "stdout",
     "output_type": "stream",
     "text": [
      "This is the user defined function\n",
      "1\n",
      "2.5\n"
     ]
    }
   ],
   "source": [
    "a,b,c=func() #Can store the value in different variable of the function\n",
    "print(a)\n",
    "print(b)\n",
    "print(c)"
   ]
  },
  {
   "cell_type": "code",
   "execution_count": null,
   "id": "95c840d7",
   "metadata": {},
   "outputs": [
    {
     "data": {
      "text/plain": [
       "'This is the user defined function'"
      ]
     },
     "execution_count": 13,
     "metadata": {},
     "output_type": "execute_result"
    }
   ],
   "source": [
    "d=func()\n",
    "d[0] #can be used to access tuple elements"
   ]
  },
  {
   "cell_type": "code",
   "execution_count": null,
   "id": "c24d277e",
   "metadata": {},
   "outputs": [
    {
     "name": "stdout",
     "output_type": "stream",
     "text": [
      "25\n"
     ]
    }
   ],
   "source": [
    "def square(a): #a is called as an argument\n",
    "    return a*a\n",
    "\n",
    "b=square(5)\n",
    "print(b)"
   ]
  },
  {
   "cell_type": "code",
   "execution_count": null,
   "id": "fc854b42",
   "metadata": {},
   "outputs": [
    {
     "name": "stdout",
     "output_type": "stream",
     "text": [
      "21\n",
      "13\n",
      "87\n"
     ]
    }
   ],
   "source": [
    "#default argument\n",
    "\n",
    "def sum1(a,b,c=3):\n",
    "    return a+b+c\n",
    "\n",
    "q=sum1(a=5,b=7,c=9)\n",
    "w=sum1(a=8,b=2) #automatically takes default value of c\n",
    "print(q)\n",
    "print(w)\n",
    "\n",
    "e=sum1(6,78) #takes default value\n",
    "print(e)"
   ]
  },
  {
   "cell_type": "code",
   "execution_count": 19,
   "id": "9761b7c0",
   "metadata": {},
   "outputs": [
    {
     "data": {
      "text/plain": [
       "31"
      ]
     },
     "execution_count": 19,
     "metadata": {},
     "output_type": "execute_result"
    }
   ],
   "source": [
    "def add_number_input():\n",
    "    a= int(input(\"Enter the first number: \"))\n",
    "    b= int(input(\"Enter the second number: \"))\n",
    "    return a+b\n",
    "\n",
    "add_number_input()"
   ]
  },
  {
   "cell_type": "code",
   "execution_count": 32,
   "id": "4cda227f",
   "metadata": {},
   "outputs": [],
   "source": [
    "#User defined function which contains list and return only numeric value\n",
    "\n",
    "def only_numeric(a):\n",
    "    n=[]\n",
    "    for i in a:\n",
    "        if type(i) == int or type(i) == float:\n",
    "            n.append(i)\n",
    "        elif type(i) == list:\n",
    "            for j in i:\n",
    "               if type(j) == int or type(j) == float:\n",
    "                n.append(j)\n",
    "    return n"
   ]
  },
  {
   "cell_type": "code",
   "execution_count": 33,
   "id": "c4d56bea",
   "metadata": {},
   "outputs": [
    {
     "data": {
      "text/plain": [
       "[2, 5.6, 45, 78]"
      ]
     },
     "execution_count": 33,
     "metadata": {},
     "output_type": "execute_result"
    }
   ],
   "source": [
    "only_numeric([2,5.6,\"vikash\",8+9j,[45,78,\"Wiry\"]]) #return only numeric value"
   ]
  },
  {
   "cell_type": "code",
   "execution_count": 35,
   "id": "6593073a",
   "metadata": {},
   "outputs": [
    {
     "name": "stdout",
     "output_type": "stream",
     "text": [
      "12\n",
      "105\n"
     ]
    }
   ],
   "source": [
    "#Variable length arguments: When we don't know the number of arguments\n",
    "\n",
    "def sum2(*random_length):\n",
    "    s = 0\n",
    "    for i in random_length:\n",
    "        s=s+i\n",
    "    return s\n",
    "\n",
    "print(sum2(9,3))\n",
    "print(sum2(78,6,21))"
   ]
  },
  {
   "cell_type": "code",
   "execution_count": null,
   "id": "1bc13d6d",
   "metadata": {},
   "outputs": [
    {
     "name": "stdout",
     "output_type": "stream",
     "text": [
      "((1, 5, 9, 7), 'Vikash')\n"
     ]
    }
   ],
   "source": [
    "#Variable arguments with default argument\n",
    "\n",
    "def test(*args, a):\n",
    "    return args, a\n",
    "\n",
    "print(test(1,5,9,7,a=\"Vikash\")) #a must be assigned to get the value\n",
    "\n",
    "\n"
   ]
  },
  {
   "cell_type": "code",
   "execution_count": 40,
   "id": "069e0f72",
   "metadata": {},
   "outputs": [
    {
     "data": {
      "text/plain": [
       "[[5, 7, 44, 96]]"
      ]
     },
     "execution_count": 40,
     "metadata": {},
     "output_type": "execute_result"
    }
   ],
   "source": [
    "#Variable argument: Takes any number of arguments\n",
    "#Positional Argument: Fixed Argument\n",
    "\n",
    "#Write a function can take any number of values and returns the list\n",
    "def return_list(*a):\n",
    "    b=[]\n",
    "    for i in a:\n",
    "        if type(i) ==list:\n",
    "           b.append(i)\n",
    "    return b\n",
    "\n",
    "return_list(5,8,6,3,4,2.9,[5,7,44,96],(4,20,78), \"Vik\")\n",
    "\n"
   ]
  },
  {
   "cell_type": "code",
   "execution_count": 41,
   "id": "3e70b7b2",
   "metadata": {},
   "outputs": [
    {
     "data": {
      "text/plain": [
       "'Vikash is working on Data Science'"
      ]
     },
     "execution_count": 41,
     "metadata": {},
     "output_type": "execute_result"
    }
   ],
   "source": [
    "def team(name, project):\n",
    "    return f\"{name} is working on {project}\"\n",
    "\n",
    "team(\"Vikash\",\"Data Science\")"
   ]
  },
  {
   "cell_type": "code",
   "execution_count": 42,
   "id": "50a74391",
   "metadata": {},
   "outputs": [
    {
     "data": {
      "text/plain": [
       "((1, 2, 3), {'c': 52, 'd': 96})"
      ]
     },
     "execution_count": 42,
     "metadata": {},
     "output_type": "execute_result"
    }
   ],
   "source": [
    "#Variable length argument and keyword argument together\n",
    "\n",
    "def test2(*a, **b):\n",
    "    return a,b\n",
    "\n",
    "test2(1,2,3,c=52,d=96)"
   ]
  },
  {
   "cell_type": "code",
   "execution_count": 45,
   "id": "d31f2ccd",
   "metadata": {},
   "outputs": [
    {
     "name": "stdout",
     "output_type": "stream",
     "text": [
      "hello, welcome to the course\n"
     ]
    }
   ],
   "source": [
    "subpart = \" to the course\" #Global Variable\n",
    "def greets():\n",
    "    message= \"hello, welcome\" + subpart #here message is local variable\n",
    "    print(message)\n",
    "\n",
    "greets()"
   ]
  },
  {
   "cell_type": "markdown",
   "id": "41a8772a",
   "metadata": {},
   "source": [
    "#namespace>> scope of variables\n",
    "#local variable>> a function defined inside a function should be accessed in the function only\n",
    "#global variable>> accessed any where"
   ]
  },
  {
   "cell_type": "code",
   "execution_count": 56,
   "id": "d7632c0d",
   "metadata": {},
   "outputs": [],
   "source": [
    "#Function inside function\n",
    "\n",
    "def marks_in_subject(**a):\n",
    "    def total_marks(marks_list):\n",
    "        return sum(marks_list)\n",
    "    marks_list=[]\n",
    "    for sub, marks in a.items():\n",
    "        marks_list.append(marks)\n",
    "\n",
    "    # return marks_list\n",
    "    return total_marks(marks_list)\n",
    " \n",
    "        # return total_marks(marks_list)"
   ]
  },
  {
   "cell_type": "code",
   "execution_count": 57,
   "id": "ca89a4bb",
   "metadata": {},
   "outputs": [
    {
     "data": {
      "text/plain": [
       "178"
      ]
     },
     "execution_count": 57,
     "metadata": {},
     "output_type": "execute_result"
    }
   ],
   "source": [
    "marks_in_subject(sub1=82,sub2=96)\n",
    "# sum([90,55])"
   ]
  },
  {
   "cell_type": "code",
   "execution_count": 58,
   "id": "08b7d004",
   "metadata": {},
   "outputs": [],
   "source": [
    "##calling function from outside\n",
    "def total_marks(marks_list):\n",
    "    return sum(marks_list)\n",
    "\n",
    "def marks_in_subject(**kwargs):\n",
    "    marks_list = []\n",
    "    for sub, marks in kwargs.items():\n",
    "        marks_list.append(marks)\n",
    "        \n",
    "    return total_marks(marks_list)"
   ]
  },
  {
   "cell_type": "code",
   "execution_count": 59,
   "id": "f63497ed",
   "metadata": {},
   "outputs": [
    {
     "data": {
      "text/plain": [
       "163"
      ]
     },
     "execution_count": 59,
     "metadata": {},
     "output_type": "execute_result"
    }
   ],
   "source": [
    "marks_in_subject(j=45,h=98,r=20)"
   ]
  },
  {
   "cell_type": "code",
   "execution_count": 60,
   "id": "7b0e03a9",
   "metadata": {},
   "outputs": [
    {
     "data": {
      "text/plain": [
       "15625"
      ]
     },
     "execution_count": 60,
     "metadata": {},
     "output_type": "execute_result"
    }
   ],
   "source": [
    "def find_power(num, power):\n",
    "    \"\"\"This function returns the power of no\n",
    "    Args:\n",
    "        num(int): provide any integer as input\n",
    "        power(int): provide power as integer\n",
    "    Returns:\n",
    "        integer: power of no\n",
    "    \"\"\"\n",
    "    return num**power\n",
    "\n",
    "find_power(5,6)"
   ]
  },
  {
   "cell_type": "code",
   "execution_count": 61,
   "id": "77e2814f",
   "metadata": {},
   "outputs": [
    {
     "name": "stdout",
     "output_type": "stream",
     "text": [
      "Help on function find_power in module __main__:\n",
      "\n",
      "find_power(num, power)\n",
      "    This function returns the power of no\n",
      "    Args:\n",
      "        num(int): provide any integer as input\n",
      "        power(int): provide power as integer\n",
      "    Returns:\n",
      "        integer: power of no\n",
      "\n"
     ]
    }
   ],
   "source": [
    "help(find_power)"
   ]
  },
  {
   "cell_type": "code",
   "execution_count": 62,
   "id": "1b752968",
   "metadata": {},
   "outputs": [
    {
     "name": "stdout",
     "output_type": "stream",
     "text": [
      "This function returns the power of no\n",
      "    Args:\n",
      "        num(int): provide any integer as input\n",
      "        power(int): provide power as integer\n",
      "    Returns:\n",
      "        integer: power of no\n",
      "    \n"
     ]
    }
   ],
   "source": [
    "print(find_power.__doc__)"
   ]
  },
  {
   "cell_type": "code",
   "execution_count": null,
   "id": "f96e4aac",
   "metadata": {},
   "outputs": [],
   "source": []
  }
 ],
 "metadata": {
  "kernelspec": {
   "display_name": "Python 3",
   "language": "python",
   "name": "python3"
  },
  "language_info": {
   "codemirror_mode": {
    "name": "ipython",
    "version": 3
   },
   "file_extension": ".py",
   "mimetype": "text/x-python",
   "name": "python",
   "nbconvert_exporter": "python",
   "pygments_lexer": "ipython3",
   "version": "3.12.1"
  }
 },
 "nbformat": 4,
 "nbformat_minor": 5
}
