{
 "cells": [
  {
   "cell_type": "code",
   "execution_count": null,
   "id": "f3aea755",
   "metadata": {},
   "outputs": [],
   "source": [
    "# Generally, something that disrupts the normal event is exception\n",
    "# In python, an exception is an event that occurs during programme execution that disrupts the regular flow of code"
   ]
  },
  {
   "cell_type": "code",
   "execution_count": 1,
   "id": "d293cf26",
   "metadata": {},
   "outputs": [
    {
     "data": {
      "text/plain": [
       "0.5555555555555556"
      ]
     },
     "execution_count": 1,
     "metadata": {},
     "output_type": "execute_result"
    }
   ],
   "source": [
    "5/9"
   ]
  },
  {
   "cell_type": "code",
   "execution_count": 2,
   "id": "ec29746a",
   "metadata": {},
   "outputs": [
    {
     "data": {
      "text/plain": [
       "5.0"
      ]
     },
     "execution_count": 2,
     "metadata": {},
     "output_type": "execute_result"
    }
   ],
   "source": [
    "10/2"
   ]
  },
  {
   "cell_type": "code",
   "execution_count": 7,
   "id": "6431602e",
   "metadata": {},
   "outputs": [
    {
     "name": "stdout",
     "output_type": "stream",
     "text": [
      "2.0\n",
      "0.6\n",
      "The code is running fine till now\n"
     ]
    },
    {
     "ename": "ZeroDivisionError",
     "evalue": "division by zero",
     "output_type": "error",
     "traceback": [
      "\u001b[31m---------------------------------------------------------------------------\u001b[39m",
      "\u001b[31mZeroDivisionError\u001b[39m                         Traceback (most recent call last)",
      "\u001b[36mCell\u001b[39m\u001b[36m \u001b[39m\u001b[32mIn[7]\u001b[39m\u001b[32m, line 4\u001b[39m\n\u001b[32m      2\u001b[39m \u001b[38;5;28mprint\u001b[39m(\u001b[32m3\u001b[39m/\u001b[32m5\u001b[39m)\n\u001b[32m      3\u001b[39m \u001b[38;5;28mprint\u001b[39m(\u001b[33m\"\u001b[39m\u001b[33mThe code is running fine till now\u001b[39m\u001b[33m\"\u001b[39m)\n\u001b[32m----> \u001b[39m\u001b[32m4\u001b[39m \u001b[38;5;28mprint\u001b[39m(\u001b[32;43m6\u001b[39;49m\u001b[43m/\u001b[49m\u001b[32;43m0\u001b[39;49m) \u001b[38;5;66;03m#suspicious code #it threw an error thats why code after this didnt got executed\u001b[39;00m\n\u001b[32m      5\u001b[39m \u001b[38;5;28mprint\u001b[39m(\u001b[33m\"\u001b[39m\u001b[33mYour name is Vikash \u001b[39m\u001b[33m\"\u001b[39m)\n\u001b[32m      6\u001b[39m \u001b[38;5;28mprint\u001b[39m(\u001b[32m2\u001b[39m+\u001b[32m3\u001b[39m)\n",
      "\u001b[31mZeroDivisionError\u001b[39m: division by zero"
     ]
    }
   ],
   "source": [
    "print(4/2)\n",
    "print(3/5)\n",
    "print(\"The code is running fine till now\")\n",
    "print(6/0) #suspicious code #it threw an error thats why code after this didnt got executed\n",
    "print(\"Your name is Vikash \")\n",
    "print(2+3)\n",
    "print(\"The code ends\")"
   ]
  },
  {
   "cell_type": "code",
   "execution_count": 8,
   "id": "5429d366",
   "metadata": {},
   "outputs": [
    {
     "name": "stdout",
     "output_type": "stream",
     "text": [
      "This is my first line of code\n",
      "90\n",
      "<class 'dict'>\n"
     ]
    },
    {
     "ename": "KeyError",
     "evalue": "'age'",
     "output_type": "error",
     "traceback": [
      "\u001b[31m---------------------------------------------------------------------------\u001b[39m",
      "\u001b[31mKeyError\u001b[39m                                  Traceback (most recent call last)",
      "\u001b[36mCell\u001b[39m\u001b[36m \u001b[39m\u001b[32mIn[8]\u001b[39m\u001b[32m, line 5\u001b[39m\n\u001b[32m      3\u001b[39m d = {\u001b[33m\"\u001b[39m\u001b[33mname\u001b[39m\u001b[33m\"\u001b[39m: \u001b[33m\"\u001b[39m\u001b[33mVikash\u001b[39m\u001b[33m\"\u001b[39m}\n\u001b[32m      4\u001b[39m \u001b[38;5;28mprint\u001b[39m(\u001b[38;5;28mtype\u001b[39m(d))\n\u001b[32m----> \u001b[39m\u001b[32m5\u001b[39m \u001b[38;5;28mprint\u001b[39m(\u001b[43md\u001b[49m\u001b[43m[\u001b[49m\u001b[33;43m\"\u001b[39;49m\u001b[33;43mage\u001b[39;49m\u001b[33;43m\"\u001b[39;49m\u001b[43m]\u001b[49m) \u001b[38;5;66;03m#it threw an error thats why code after this didnt got executed\u001b[39;00m\n\u001b[32m      6\u001b[39m \u001b[38;5;28mprint\u001b[39m(\u001b[33m\"\u001b[39m\u001b[33mThis is last line of code\u001b[39m\u001b[33m\"\u001b[39m)\n",
      "\u001b[31mKeyError\u001b[39m: 'age'"
     ]
    }
   ],
   "source": [
    "print(\"This is my first line of code\")\n",
    "print(3*5*6)\n",
    "d = {\"name\": \"Vikash\"}\n",
    "print(type(d))\n",
    "print(d[\"age\"]) #it threw an error thats why code after this didnt got executed\n",
    "print(\"This is last line of code\")"
   ]
  },
  {
   "cell_type": "code",
   "execution_count": 9,
   "id": "1c0a1f0c",
   "metadata": {},
   "outputs": [
    {
     "ename": "FileNotFoundError",
     "evalue": "[Errno 2] No such file or directory: 'example.txt'",
     "output_type": "error",
     "traceback": [
      "\u001b[31m---------------------------------------------------------------------------\u001b[39m",
      "\u001b[31mFileNotFoundError\u001b[39m                         Traceback (most recent call last)",
      "\u001b[36mCell\u001b[39m\u001b[36m \u001b[39m\u001b[32mIn[9]\u001b[39m\u001b[32m, line 1\u001b[39m\n\u001b[32m----> \u001b[39m\u001b[32m1\u001b[39m f = \u001b[38;5;28;43mopen\u001b[39;49m\u001b[43m(\u001b[49m\u001b[33;43m\"\u001b[39;49m\u001b[33;43mexample.txt\u001b[39;49m\u001b[33;43m\"\u001b[39;49m\u001b[43m,\u001b[49m\u001b[43m \u001b[49m\u001b[33;43m\"\u001b[39;49m\u001b[33;43mr\u001b[39;49m\u001b[33;43m\"\u001b[39;49m\u001b[43m)\u001b[49m\n\u001b[32m      2\u001b[39m \u001b[38;5;28mprint\u001b[39m(\u001b[32m6\u001b[39m+\u001b[32m3\u001b[39m)\n\u001b[32m      3\u001b[39m \u001b[38;5;28mprint\u001b[39m(\u001b[33m\"\u001b[39m\u001b[33mThe file is opened and now I am performing some steps\u001b[39m\u001b[33m\"\u001b[39m)\n",
      "\u001b[36mFile \u001b[39m\u001b[32m~/.local/lib/python3.12/site-packages/IPython/core/interactiveshell.py:326\u001b[39m, in \u001b[36m_modified_open\u001b[39m\u001b[34m(file, *args, **kwargs)\u001b[39m\n\u001b[32m    319\u001b[39m \u001b[38;5;28;01mif\u001b[39;00m file \u001b[38;5;129;01min\u001b[39;00m {\u001b[32m0\u001b[39m, \u001b[32m1\u001b[39m, \u001b[32m2\u001b[39m}:\n\u001b[32m    320\u001b[39m     \u001b[38;5;28;01mraise\u001b[39;00m \u001b[38;5;167;01mValueError\u001b[39;00m(\n\u001b[32m    321\u001b[39m         \u001b[33mf\u001b[39m\u001b[33m\"\u001b[39m\u001b[33mIPython won\u001b[39m\u001b[33m'\u001b[39m\u001b[33mt let you open fd=\u001b[39m\u001b[38;5;132;01m{\u001b[39;00mfile\u001b[38;5;132;01m}\u001b[39;00m\u001b[33m by default \u001b[39m\u001b[33m\"\u001b[39m\n\u001b[32m    322\u001b[39m         \u001b[33m\"\u001b[39m\u001b[33mas it is likely to crash IPython. If you know what you are doing, \u001b[39m\u001b[33m\"\u001b[39m\n\u001b[32m    323\u001b[39m         \u001b[33m\"\u001b[39m\u001b[33myou can use builtins\u001b[39m\u001b[33m'\u001b[39m\u001b[33m open.\u001b[39m\u001b[33m\"\u001b[39m\n\u001b[32m    324\u001b[39m     )\n\u001b[32m--> \u001b[39m\u001b[32m326\u001b[39m \u001b[38;5;28;01mreturn\u001b[39;00m \u001b[43mio_open\u001b[49m\u001b[43m(\u001b[49m\u001b[43mfile\u001b[49m\u001b[43m,\u001b[49m\u001b[43m \u001b[49m\u001b[43m*\u001b[49m\u001b[43margs\u001b[49m\u001b[43m,\u001b[49m\u001b[43m \u001b[49m\u001b[43m*\u001b[49m\u001b[43m*\u001b[49m\u001b[43mkwargs\u001b[49m\u001b[43m)\u001b[49m\n",
      "\u001b[31mFileNotFoundError\u001b[39m: [Errno 2] No such file or directory: 'example.txt'"
     ]
    }
   ],
   "source": [
    "f = open(\"example.txt\", \"r\")\n",
    "print(6+3)\n",
    "print(\"The file is opened and now I am performing some steps\")"
   ]
  },
  {
   "cell_type": "code",
   "execution_count": 6,
   "id": "5b728704",
   "metadata": {},
   "outputs": [
    {
     "name": "stdout",
     "output_type": "stream",
     "text": [
      "There is an issue with the code and the issue is: [Errno 2] No such file or directory: 'example.txt'\n",
      "9\n",
      "This is my next step\n"
     ]
    }
   ],
   "source": [
    "\"\"\"\n",
    "# We were expecting something but it didnt happen, due to which the suspicious line threw error and\n",
    "the next lines of code didn't got executed.\n",
    "\n",
    "zerodivisionerror, typeerror, filenotfounderror: these are exceptions rising due to suspicious code\n",
    "\n",
    "otherexceptions: import error, runtime error\n",
    "\n",
    "list of exceptions>> https://docs.python.org/3/library/exceptions.html\n",
    "\n",
    "# Why do we need to handle suspicious code/exceptions?\n",
    "-- Robust Application: code should not break in between\n",
    "-- code cleaner: fellow developer understands the corner cases\n",
    "\n",
    "# How to handle exceptions\n",
    ">> using try catch block to handle exceptions\n",
    ">> whenever exception occurs, pyton stops the program and generate exception\n",
    ">> handling this exception is advised\n",
    ">> every code that is risky/suspicious you should do exception handling\n",
    "\n",
    "\"\"\"\n",
    "\n",
    "\n",
    "#syntax of try except\n",
    "# try:\n",
    "#     #suspicious code\n",
    "# except:\n",
    "#     #exceuted when exception occurs in try block\n",
    "\n",
    "\n",
    "try:\n",
    "    f = open(\"example.txt\", \"r\")\n",
    "except Exception as e:#exception will always come inside except block\n",
    "    print(\"There is an issue with the code and the issue is:\", e)\n",
    "print(6+3)\n",
    "print(\"This is my next step\")"
   ]
  },
  {
   "cell_type": "code",
   "execution_count": 10,
   "id": "5258bf46",
   "metadata": {},
   "outputs": [
    {
     "name": "stdout",
     "output_type": "stream",
     "text": [
      "division by zero\n",
      "8\n",
      "Your name is Vikash \n",
      "5\n",
      "The code ends\n"
     ]
    }
   ],
   "source": [
    "try:\n",
    "    5/0\n",
    "except Exception as e:\n",
    "    print(e)\n",
    "print(5+3)\n",
    "print(\"Your name is Vikash \")\n",
    "print(2+3)\n",
    "print(\"The code ends\")"
   ]
  },
  {
   "cell_type": "code",
   "execution_count": 13,
   "id": "f22deba1",
   "metadata": {},
   "outputs": [
    {
     "name": "stdout",
     "output_type": "stream",
     "text": [
      "division by zero\n",
      "8\n",
      "Your name is Vikash \n",
      "5\n",
      "The code ends\n"
     ]
    }
   ],
   "source": [
    "try:\n",
    "    5/0\n",
    "except Exception as e:\n",
    "    print(e)\n",
    "print(5+3)\n",
    "print(\"Your name is Vikash \")\n",
    "print(2+3)\n",
    "print(\"The code ends\")"
   ]
  },
  {
   "cell_type": "code",
   "execution_count": 14,
   "id": "1495f51c",
   "metadata": {},
   "outputs": [
    {
     "name": "stdout",
     "output_type": "stream",
     "text": [
      "There is an issue with the code and the issue is: [Errno 2] No such file or directory: 'example.txt'\n"
     ]
    }
   ],
   "source": [
    "try:\n",
    "    f = open(\"example.txt\", \"r\")\n",
    "except Exception as e:\n",
    "    print(\"There is an issue with the code and the issue is:\", e)\n",
    "else:\n",
    "    print(5+3)\n",
    "    print(\"This will be executed if try except block is executed without any exception\")\n"
   ]
  },
  {
   "cell_type": "code",
   "execution_count": null,
   "id": "0f76f4a3",
   "metadata": {},
   "outputs": [
    {
     "name": "stdout",
     "output_type": "stream",
     "text": [
      "8\n",
      "This will be executed if try except block is executed without any exception\n"
     ]
    }
   ],
   "source": [
    "# Use case of else: we want to execute some code only if the try statement is successful and code doent enter into exception block\n",
    "\n",
    "#use case 1\n",
    "try:\n",
    "    f = open(\"example.txt\", \"w\")\n",
    "except Exception as e:\n",
    "    print(\"There is an issue with the code and the issue is:\", e)\n",
    "else:\n",
    "    print(5+3)\n",
    "    print(\"This will be executed if try except block is executed without any exception\")\n"
   ]
  },
  {
   "cell_type": "code",
   "execution_count": 16,
   "id": "2ec081aa",
   "metadata": {},
   "outputs": [
    {
     "name": "stdout",
     "output_type": "stream",
     "text": [
      "8\n",
      "This will be executed if try except block is executed without any exception\n"
     ]
    }
   ],
   "source": [
    "#use case 2\n",
    "try:\n",
    "    f = open(\"example.txt\", \"w\")\n",
    "    f.write(\"Hello to exception handling\") \n",
    "#you will not be able to see written content untill you close the file, close the file in else block\n",
    "except Exception as e:\n",
    "    print(\"There is an issue with the code and the issue is:\", e)\n",
    "else:\n",
    "    print(5+3)\n",
    "    print(\"This will be executed if try except block is executed without any exception\")\n"
   ]
  },
  {
   "cell_type": "code",
   "execution_count": 17,
   "id": "1417fa6e",
   "metadata": {},
   "outputs": [
    {
     "name": "stdout",
     "output_type": "stream",
     "text": [
      "8\n",
      "This will be executed if try except block is executed without any exception\n"
     ]
    }
   ],
   "source": [
    "try:\n",
    "    f = open(\"example.txt\", \"w\")\n",
    "    f.write(\"Hello to exception handling\") \n",
    "#you will not be able to see written content untill you close the file, close the file in else block\n",
    "except Exception as e:\n",
    "    print(\"There is an issue with the code and the issue is:\", e)\n",
    "else:\n",
    "    f.close()\n",
    "    print(5+3)\n",
    "    print(\"This will be executed if try except block is executed without any exception\")\n"
   ]
  },
  {
   "cell_type": "code",
   "execution_count": 18,
   "id": "73fd7add",
   "metadata": {},
   "outputs": [
    {
     "name": "stdout",
     "output_type": "stream",
     "text": [
      "8\n",
      "This will be executed if try except block is executed without any exception\n",
      "This will be executed always\n"
     ]
    }
   ],
   "source": [
    "# else block is very helpful when the code didnt enter the exception block\n",
    "# for example, we wanted to close the file after it was opened in try block\n",
    "\n",
    "#finally block: always executed\n",
    "try:\n",
    "    f = open(\"example.txt\", \"w\")\n",
    "    f.write(\"Hello to exception handling\") \n",
    "except Exception as e:\n",
    "    print(\"There is an issue with the code and the issue is:\", e)\n",
    "else:\n",
    "    f.close()\n",
    "    print(5+3)\n",
    "    print(\"This will be executed if try except block is executed without any exception\")\n",
    "finally:\n",
    "    print(\"This will be executed always\")"
   ]
  },
  {
   "cell_type": "code",
   "execution_count": null,
   "id": "8bee1892",
   "metadata": {},
   "outputs": [
    {
     "name": "stdout",
     "output_type": "stream",
     "text": [
      "There is an issue with the code and the issue is: [Errno 2] No such file or directory: 'example2.txt'\n",
      "This will be executed always\n"
     ]
    }
   ],
   "source": [
    "# finally block: always executed\n",
    "# even if we enter exception block or not, finally will be executed always\n",
    "# similar to running other line of code\n",
    "try:\n",
    "    f = open(\"example2.txt\", \"r\")\n",
    "    f.write(\"Hello to exception handling\") \n",
    "except Exception as e:\n",
    "    print(\"There is an issue with the code and the issue is:\", e)\n",
    "else:\n",
    "    f.close()\n",
    "    print(5+3)\n",
    "    print(\"This will be executed if try except block is executed without any exception\")\n",
    "finally:\n",
    "    print(\"This will be executed always\")"
   ]
  },
  {
   "cell_type": "code",
   "execution_count": 20,
   "id": "b5b63ab4",
   "metadata": {},
   "outputs": [
    {
     "name": "stdout",
     "output_type": "stream",
     "text": [
      "There is an issue with the code and the issue is: [Errno 2] No such file or directory: 'example2.txt'\n",
      "This will be executed always\n"
     ]
    }
   ],
   "source": [
    "try:\n",
    "    f = open(\"example2.txt\", \"r\")\n",
    "    f.write(\"Hello to exception handling\") \n",
    "except Exception as e:\n",
    "    print(\"There is an issue with the code and the issue is:\", e)\n",
    "else:\n",
    "    f.close()\n",
    "    print(5+3)\n",
    "    print(\"This will be executed if try except block is executed without any exception\")\n",
    "\n",
    "print(\"This will be executed always\")"
   ]
  },
  {
   "cell_type": "code",
   "execution_count": 21,
   "id": "215c48a9",
   "metadata": {},
   "outputs": [
    {
     "name": "stdout",
     "output_type": "stream",
     "text": [
      "division by zero\n",
      "This will be printed always\n"
     ]
    }
   ],
   "source": [
    "#another example\n",
    "try:\n",
    "    5/0\n",
    "except Exception as e:\n",
    "    print(e)\n",
    "finally:\n",
    "    print(\"This will be printed always\")"
   ]
  },
  {
   "cell_type": "code",
   "execution_count": null,
   "id": "83de906d",
   "metadata": {},
   "outputs": [
    {
     "name": "stdout",
     "output_type": "stream",
     "text": [
      "-600\n"
     ]
    }
   ],
   "source": [
    "#custom exception\n",
    "income = int(input(\"Enter your salary\"))\n",
    "print(income) #Income is negative"
   ]
  },
  {
   "cell_type": "code",
   "execution_count": 24,
   "id": "53b43cf8",
   "metadata": {},
   "outputs": [],
   "source": [
    "def validate_salary(salary):\n",
    "    if salary <= 0:\n",
    "        print(\"negative salary is not possible\")\n",
    "    elif salary >= 30000000:\n",
    "        print(\"salary is unexpected\")\n",
    "    else:\n",
    "        print(\"salary is valid\")"
   ]
  },
  {
   "cell_type": "code",
   "execution_count": 25,
   "id": "8a97dbf1",
   "metadata": {},
   "outputs": [
    {
     "name": "stdout",
     "output_type": "stream",
     "text": [
      "salary is valid\n"
     ]
    }
   ],
   "source": [
    "validate_salary(500)"
   ]
  },
  {
   "cell_type": "code",
   "execution_count": 26,
   "id": "39b86ce4",
   "metadata": {},
   "outputs": [],
   "source": [
    "# Custom Exception class\n",
    "class ValidateSalary(Exception): #Exception is the parent class where all type of python exceptions are available\n",
    "    def __init__(self, msg):\n",
    "        self.msg = msg"
   ]
  },
  {
   "cell_type": "code",
   "execution_count": 32,
   "id": "d49fcd72",
   "metadata": {},
   "outputs": [],
   "source": [
    "def validate_salary(salary):\n",
    "    if salary <= 0:\n",
    "        raise ValidateSalary(\"negative salary is not possible\")\n",
    "    elif salary >= 30000000:\n",
    "        raise ValidateSalary(\"salary is unexpected\")\n",
    "    else:\n",
    "        print(\"salary is valid\")"
   ]
  },
  {
   "cell_type": "code",
   "execution_count": 34,
   "id": "7bedb233",
   "metadata": {},
   "outputs": [
    {
     "name": "stdout",
     "output_type": "stream",
     "text": [
      "-600\n",
      "negative salary is not possible\n"
     ]
    }
   ],
   "source": [
    "try:\n",
    "    salary = int(input(\"Enter your salary\"))\n",
    "    validate_salary(salary)\n",
    "except ValidateSalary as e:\n",
    "    print(salary)\n",
    "    print(e)"
   ]
  },
  {
   "cell_type": "code",
   "execution_count": null,
   "id": "437c86c2",
   "metadata": {},
   "outputs": [],
   "source": []
  }
 ],
 "metadata": {
  "kernelspec": {
   "display_name": "Python 3",
   "language": "python",
   "name": "python3"
  },
  "language_info": {
   "codemirror_mode": {
    "name": "ipython",
    "version": 3
   },
   "file_extension": ".py",
   "mimetype": "text/x-python",
   "name": "python",
   "nbconvert_exporter": "python",
   "pygments_lexer": "ipython3",
   "version": "3.12.1"
  }
 },
 "nbformat": 4,
 "nbformat_minor": 5
}
