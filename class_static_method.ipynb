{
 "cells": [
  {
   "cell_type": "code",
   "execution_count": 1,
   "id": "16c3f2f7",
   "metadata": {},
   "outputs": [
    {
     "data": {
      "text/plain": [
       "'Vikash'"
      ]
     },
     "execution_count": 1,
     "metadata": {},
     "output_type": "execute_result"
    }
   ],
   "source": [
    "#Class Methods: bound to the class (and not to a particular instance of the class), access/modify methods \n",
    "#and attributes associated to class accross all the instances\n",
    "\n",
    "#@classmethod decorator\n",
    "#instead of self, cls as first parameter\n",
    "#alternative of init method to pass the data\n",
    "\n",
    "\n",
    "class Student:\n",
    "    #constructor: constructing class with initialisation of variables/data\n",
    "    def __init__(self, name):\n",
    "        self.name = name\n",
    "\n",
    "obj=Student(\"Vikash\")\n",
    "obj.name"
   ]
  },
  {
   "cell_type": "code",
   "execution_count": null,
   "id": "d66c191d",
   "metadata": {},
   "outputs": [
    {
     "data": {
      "text/plain": [
       "'Wiry'"
      ]
     },
     "execution_count": 2,
     "metadata": {},
     "output_type": "execute_result"
    }
   ],
   "source": [
    "class Student:\n",
    "    def __init__(self, name):\n",
    "        self.name = name #self means this variable/method is refererring to current instance of the class\n",
    "    \n",
    "    @classmethod #bound/binds to the class\n",
    "    def student_details(cls, name): #instead of self as first param, you are using cls>>meaning this method is associated/referring to the class itself\n",
    "        return cls(name)\n",
    "    \n",
    "obj1=Student.student_details(\"Wiry\") #since student_details directly binds to the class you can directly call it without making any object\n",
    "obj1.name"
   ]
  },
  {
   "cell_type": "code",
   "execution_count": 4,
   "id": "4072ce35",
   "metadata": {},
   "outputs": [],
   "source": [
    "#What is the meaning that it is referring the class?\n",
    "#Earlier to access any method/attribute: first make instance/object of class\n",
    "#then obj.attribute\n",
    "#but if it is class method we can directly access it\n",
    "\n",
    "#seeing class method as alternative of init method \n",
    "# actually class method is overloading the init method\n"
   ]
  },
  {
   "cell_type": "code",
   "execution_count": 6,
   "id": "9d519ffb",
   "metadata": {},
   "outputs": [
    {
     "data": {
      "text/plain": [
       "'Vikash'"
      ]
     },
     "execution_count": 6,
     "metadata": {},
     "output_type": "execute_result"
    }
   ],
   "source": [
    "#How class method is overloading the init method?\n",
    "#Modifying the instance method\n",
    "class Student:\n",
    "    def __init__(self, name): #init method is an instance method\n",
    "        self.name = name \n",
    "    \n",
    "    @classmethod \n",
    "    def student_details(cls, name1): \n",
    "        return cls(name1)\n",
    "    \n",
    "stud=Student.student_details(\"Vikash\")\n",
    "stud.name \n",
    "\n",
    "#We will get Ajay inspite the variable name1\n",
    "#Because it is overloading the init method: alternative of init method"
   ]
  },
  {
   "cell_type": "code",
   "execution_count": null,
   "id": "9ac583b9",
   "metadata": {},
   "outputs": [
    {
     "name": "stdout",
     "output_type": "stream",
     "text": [
      "wiry\n",
      "Vikash\n",
      "2\n"
     ]
    },
    {
     "data": {
      "text/plain": [
       "2"
      ]
     },
     "execution_count": 11,
     "metadata": {},
     "output_type": "execute_result"
    }
   ],
   "source": [
    "#class method can modify class state applicable to all the instances of the class\n",
    "class Student:\n",
    "    \n",
    "    total_students = 0 #class variable\n",
    "    def __init__(self, name):#instance method\n",
    "        self.name = name #instance variable\n",
    "        Student.total_students = Student.total_students+1 #total_student is the class variable associated with all the instances\n",
    "        \n",
    "    @classmethod\n",
    "    def get_total_students(cls):\n",
    "        return cls.total_students\n",
    "    \n",
    "std1 = Student(\"wiry\")\n",
    "std2 = Student(\"Vikash\")\n",
    "\n",
    "print(std1.name)\n",
    "print(std2.name)\n",
    "print(Student.total_students)\n",
    "\n",
    "Student.get_total_students()\n",
    "\n",
    "#class method can modify class state applicable to all the instances of the class\n",
    "#thats why we see increase in the count"
   ]
  },
  {
   "cell_type": "code",
   "execution_count": 19,
   "id": "09036964",
   "metadata": {},
   "outputs": [],
   "source": [
    "#To make external function as class method\n",
    "\n",
    "class Student:\n",
    "    \n",
    "    total_students = 0 #class variable\n",
    "    def __init__(self, name):#instance method\n",
    "        self.name = name #instance variable\n",
    "        Student.total_students = Student.total_students+1 #total_student is the class variable associated with all the instances\n",
    "        \n",
    "    @classmethod\n",
    "    def get_total_students(cls):\n",
    "        return cls.total_students"
   ]
  },
  {
   "cell_type": "code",
   "execution_count": 13,
   "id": "bd2cf78e",
   "metadata": {},
   "outputs": [
    {
     "name": "stdout",
     "output_type": "stream",
     "text": [
      "The details of the course are : Data Science\n"
     ]
    }
   ],
   "source": [
    "def course_details(cls, course_name):\n",
    "    print(\"The details of the course are :\", course_name)\n",
    "\n",
    "Student.course_details = classmethod(course_details) #adding external function as class method\n",
    "\n",
    "Student.course_details(\"Data Science\")"
   ]
  },
  {
   "cell_type": "code",
   "execution_count": null,
   "id": "bef7e714",
   "metadata": {},
   "outputs": [],
   "source": [
    "#delete any class method\n",
    "del Student.course_details\n",
    "\n",
    "# Student.course_details(\"Data Science\") #this will throw an error as we have deleted this method\n",
    "\n"
   ]
  },
  {
   "cell_type": "code",
   "execution_count": 15,
   "id": "e948d181",
   "metadata": {},
   "outputs": [
    {
     "data": {
      "text/plain": [
       "0"
      ]
     },
     "execution_count": 15,
     "metadata": {},
     "output_type": "execute_result"
    }
   ],
   "source": [
    "Student.get_total_students()"
   ]
  },
  {
   "cell_type": "code",
   "execution_count": 20,
   "id": "8a277b3a",
   "metadata": {},
   "outputs": [],
   "source": [
    "#another way to delete\n",
    "delattr(Student, \"get_total_students\")\n",
    "\n",
    "# Student.get_total_students() #error"
   ]
  },
  {
   "cell_type": "code",
   "execution_count": 21,
   "id": "55cec56a",
   "metadata": {},
   "outputs": [],
   "source": [
    "#Static method Features:\n",
    "\n",
    "#doesnot modify class or instance state, doesnt access instance or class state\n",
    "#doesn't depend on class/instance\n",
    "#it behaves like a plain function that belongs to class\n",
    "#it doesn't take either self or cls\n",
    "\n",
    "#@static method is used\n",
    "#works with parameter passed"
   ]
  },
  {
   "cell_type": "code",
   "execution_count": 23,
   "id": "882fbbbe",
   "metadata": {},
   "outputs": [
    {
     "name": "stdout",
     "output_type": "stream",
     "text": [
      "15\n",
      "12\n"
     ]
    }
   ],
   "source": [
    "class Calculator:\n",
    "    \n",
    "    @staticmethod\n",
    "    def add(x, y):\n",
    "        return x+y\n",
    "    \n",
    "    @staticmethod\n",
    "    def subtract(x,y):\n",
    "        return x-y\n",
    "    \n",
    "print(Calculator.add(6,9))\n",
    "print(Calculator.subtract(23,11))"
   ]
  },
  {
   "cell_type": "code",
   "execution_count": null,
   "id": "cf6101bf",
   "metadata": {},
   "outputs": [],
   "source": []
  }
 ],
 "metadata": {
  "kernelspec": {
   "display_name": "Python 3",
   "language": "python",
   "name": "python3"
  },
  "language_info": {
   "codemirror_mode": {
    "name": "ipython",
    "version": 3
   },
   "file_extension": ".py",
   "mimetype": "text/x-python",
   "name": "python",
   "nbconvert_exporter": "python",
   "pygments_lexer": "ipython3",
   "version": "3.12.1"
  }
 },
 "nbformat": 4,
 "nbformat_minor": 5
}
