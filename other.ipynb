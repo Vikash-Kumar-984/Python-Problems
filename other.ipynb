{
 "cells": [
  {
   "cell_type": "code",
   "execution_count": 2,
   "id": "6211473a",
   "metadata": {},
   "outputs": [
    {
     "name": "stdout",
     "output_type": "stream",
     "text": [
      "24\n"
     ]
    }
   ],
   "source": [
    "from functools import reduce\n",
    "nums=[1,2,3,4]\n",
    "result=reduce(lambda x,y: x * y,nums)\n",
    "print(result)"
   ]
  },
  {
   "cell_type": "code",
   "execution_count": 3,
   "id": "e1f2c0ea",
   "metadata": {},
   "outputs": [
    {
     "name": "stdout",
     "output_type": "stream",
     "text": [
      "[10]\n"
     ]
    }
   ],
   "source": [
    "n=list(map(int,input(\"enter\").split()))\n",
    "result=list(map(lambda x: x+5, n))\n",
    "print(result)"
   ]
  },
  {
   "cell_type": "code",
   "execution_count": 4,
   "id": "05a6116b",
   "metadata": {},
   "outputs": [
    {
     "name": "stdout",
     "output_type": "stream",
     "text": [
      "[10, 20, 30]\n"
     ]
    }
   ],
   "source": [
    "n=[10,15,20,25,30]\n",
    "result=list(filter(lambda x:x %10 == 0,n))\n",
    "print(result)"
   ]
  },
  {
   "cell_type": "code",
   "execution_count": 5,
   "id": "6f6fca53",
   "metadata": {},
   "outputs": [
    {
     "name": "stdout",
     "output_type": "stream",
     "text": [
      "20\n"
     ]
    }
   ],
   "source": [
    "def a(*v):\n",
    "    return sum(v)\n",
    "print(a(2,4,6,8))"
   ]
  },
  {
   "cell_type": "code",
   "execution_count": 6,
   "id": "e67584e9",
   "metadata": {},
   "outputs": [
    {
     "name": "stdout",
     "output_type": "stream",
     "text": [
      "[1, 2, 3, 4]\n"
     ]
    }
   ],
   "source": [
    "n=[2,4,6,8]\n",
    "result=list(map(lambda x:x//2,n))\n",
    "print(result)"
   ]
  },
  {
   "cell_type": "code",
   "execution_count": 7,
   "id": "31458dca",
   "metadata": {},
   "outputs": [
    {
     "name": "stdout",
     "output_type": "stream",
     "text": [
      "python is\n"
     ]
    }
   ],
   "source": [
    "def my_gen():\n",
    "    yield \"python\" \n",
    "    yield \"is\" \n",
    "    yield \"fun\"\n",
    "\n",
    "gen=my_gen()\n",
    "print(next(gen),next(gen))"
   ]
  },
  {
   "cell_type": "code",
   "execution_count": 8,
   "id": "7ae09ea9",
   "metadata": {},
   "outputs": [
    {
     "name": "stdout",
     "output_type": "stream",
     "text": [
      "10 20\n"
     ]
    }
   ],
   "source": [
    "def my_gen():\n",
    "    yield 10 \n",
    "    yield 20 \n",
    "    yield 30\n",
    "\n",
    "gen=my_gen()\n",
    "print(next(gen),next(gen))"
   ]
  },
  {
   "cell_type": "code",
   "execution_count": null,
   "id": "df51de53",
   "metadata": {},
   "outputs": [],
   "source": []
  }
 ],
 "metadata": {
  "kernelspec": {
   "display_name": "Python 3",
   "language": "python",
   "name": "python3"
  },
  "language_info": {
   "codemirror_mode": {
    "name": "ipython",
    "version": 3
   },
   "file_extension": ".py",
   "mimetype": "text/x-python",
   "name": "python",
   "nbconvert_exporter": "python",
   "pygments_lexer": "ipython3",
   "version": "3.12.1"
  }
 },
 "nbformat": 4,
 "nbformat_minor": 5
}
